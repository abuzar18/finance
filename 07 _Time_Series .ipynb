{
 "cells": [
  {
   "cell_type": "code",
   "execution_count": 1,
   "id": "1f590671-d76d-4303-9603-d115d00ef3e0",
   "metadata": {
    "tags": []
   },
   "outputs": [],
   "source": [
    "# Bismillah"
   ]
  },
  {
   "cell_type": "code",
   "execution_count": 2,
   "id": "8416c9c5-adf6-431b-9d82-57ef24de2868",
   "metadata": {
    "tags": []
   },
   "outputs": [],
   "source": [
    "import numpy as np\n",
    "import pandas as pd\n",
    "import datetime as dt\n",
    "# from datetime import datetime\n",
    "import matplotlib.pyplot as plt\n",
    "%matplotlib inline\n",
    "pd.set_option('precision', 7)\n",
    "from pandas_datareader import data as web"
   ]
  },
  {
   "cell_type": "code",
   "execution_count": 3,
   "id": "f32cb451-7754-4ab2-bb45-100df21ed561",
   "metadata": {},
   "outputs": [
    {
     "data": {
      "text/html": [
       "<div>\n",
       "<style scoped>\n",
       "    .dataframe tbody tr th:only-of-type {\n",
       "        vertical-align: middle;\n",
       "    }\n",
       "\n",
       "    .dataframe tbody tr th {\n",
       "        vertical-align: top;\n",
       "    }\n",
       "\n",
       "    .dataframe thead th {\n",
       "        text-align: right;\n",
       "    }\n",
       "</style>\n",
       "<table border=\"1\" class=\"dataframe\">\n",
       "  <thead>\n",
       "    <tr style=\"text-align: right;\">\n",
       "      <th></th>\n",
       "      <th>High</th>\n",
       "      <th>Low</th>\n",
       "      <th>Open</th>\n",
       "      <th>Close</th>\n",
       "      <th>Volume</th>\n",
       "      <th>Adj Close</th>\n",
       "    </tr>\n",
       "    <tr>\n",
       "      <th>Date</th>\n",
       "      <th></th>\n",
       "      <th></th>\n",
       "      <th></th>\n",
       "      <th></th>\n",
       "      <th></th>\n",
       "      <th></th>\n",
       "    </tr>\n",
       "  </thead>\n",
       "  <tbody>\n",
       "    <tr>\n",
       "      <th>2012-01-03</th>\n",
       "      <td>26.9599991</td>\n",
       "      <td>26.3899994</td>\n",
       "      <td>26.5499992</td>\n",
       "      <td>26.7700005</td>\n",
       "      <td>64731500.0</td>\n",
       "      <td>21.6231346</td>\n",
       "    </tr>\n",
       "    <tr>\n",
       "      <th>2012-01-04</th>\n",
       "      <td>27.4699993</td>\n",
       "      <td>26.7800007</td>\n",
       "      <td>26.8199997</td>\n",
       "      <td>27.3999996</td>\n",
       "      <td>80516100.0</td>\n",
       "      <td>22.1320057</td>\n",
       "    </tr>\n",
       "    <tr>\n",
       "      <th>2012-01-05</th>\n",
       "      <td>27.7299995</td>\n",
       "      <td>27.2900009</td>\n",
       "      <td>27.3799992</td>\n",
       "      <td>27.6800003</td>\n",
       "      <td>56081400.0</td>\n",
       "      <td>22.3581791</td>\n",
       "    </tr>\n",
       "    <tr>\n",
       "      <th>2012-01-06</th>\n",
       "      <td>28.1900005</td>\n",
       "      <td>27.5300007</td>\n",
       "      <td>27.5300007</td>\n",
       "      <td>28.1100006</td>\n",
       "      <td>99455500.0</td>\n",
       "      <td>22.7055016</td>\n",
       "    </tr>\n",
       "    <tr>\n",
       "      <th>2012-01-09</th>\n",
       "      <td>28.1000004</td>\n",
       "      <td>27.7199993</td>\n",
       "      <td>28.0499992</td>\n",
       "      <td>27.7399998</td>\n",
       "      <td>59706800.0</td>\n",
       "      <td>22.4066353</td>\n",
       "    </tr>\n",
       "  </tbody>\n",
       "</table>\n",
       "</div>"
      ],
      "text/plain": [
       "                  High         Low        Open       Close      Volume  \\\n",
       "Date                                                                     \n",
       "2012-01-03  26.9599991  26.3899994  26.5499992  26.7700005  64731500.0   \n",
       "2012-01-04  27.4699993  26.7800007  26.8199997  27.3999996  80516100.0   \n",
       "2012-01-05  27.7299995  27.2900009  27.3799992  27.6800003  56081400.0   \n",
       "2012-01-06  28.1900005  27.5300007  27.5300007  28.1100006  99455500.0   \n",
       "2012-01-09  28.1000004  27.7199993  28.0499992  27.7399998  59706800.0   \n",
       "\n",
       "             Adj Close  \n",
       "Date                    \n",
       "2012-01-03  21.6231346  \n",
       "2012-01-04  22.1320057  \n",
       "2012-01-05  22.3581791  \n",
       "2012-01-06  22.7055016  \n",
       "2012-01-09  22.4066353  "
      ]
     },
     "execution_count": 3,
     "metadata": {},
     "output_type": "execute_result"
    }
   ],
   "source": [
    "msft = web.DataReader('MSFT', 'yahoo', '2012-01-01', '2013-12-30')\n",
    "msft.head()\n",
    "\n",
    "\n",
    "# collects the data from yahoo finance for Microsoft for the said period and stores it in data frame, msft."
   ]
  },
  {
   "cell_type": "markdown",
   "id": "bb3c088e-3e1a-493b-a561-df3ab5dc1cfc",
   "metadata": {},
   "source": [
    "### Shifting and lagging time-series data:"
   ]
  },
  {
   "cell_type": "code",
   "execution_count": 6,
   "id": "1c0599cb-ea5a-4a34-84c8-325c24ad016f",
   "metadata": {},
   "outputs": [
    {
     "data": {
      "text/plain": [
       "Date\n",
       "2012-01-03    21.6231346\n",
       "2012-01-04    22.1320057\n",
       "2012-01-05    22.3581791\n",
       "2012-01-06    22.7055016\n",
       "2012-01-09    22.4066353\n",
       "                 ...    \n",
       "2013-12-23    31.3362293\n",
       "2013-12-24    31.7298679\n",
       "2013-12-26    32.0379295\n",
       "2013-12-27    31.9095726\n",
       "2013-12-30    31.9095726\n",
       "Name: Adj Close, Length: 501, dtype: float64"
      ]
     },
     "execution_count": 6,
     "metadata": {},
     "output_type": "execute_result"
    }
   ],
   "source": [
    "msftAC = msft['Adj Close']\n",
    "msftAC\n",
    "\n",
    "# select only 'Adj Close' column from the msft data frame, and store it in a series, msftAC."
   ]
  },
  {
   "cell_type": "code",
   "execution_count": 7,
   "id": "4a109524-e431-433a-86e3-ac2a9efa53b1",
   "metadata": {},
   "outputs": [
    {
     "data": {
      "text/plain": [
       "pandas.core.series.Series"
      ]
     },
     "execution_count": 7,
     "metadata": {},
     "output_type": "execute_result"
    }
   ],
   "source": [
    "type(msftAC)\n",
    "\n",
    "# msftAC is a series. We can convert it to a data frame by typing: msftAC = msft[['Adj Close']]"
   ]
  },
  {
   "cell_type": "code",
   "execution_count": 8,
   "id": "8acb3a08-a412-43e1-9ebf-42a20432da66",
   "metadata": {},
   "outputs": [
    {
     "data": {
      "text/plain": [
       "(Date\n",
       " 2012-01-03    21.6231346\n",
       " 2012-01-04    22.1320057\n",
       " 2012-01-05    22.3581791\n",
       " 2012-01-06    22.7055016\n",
       " 2012-01-09    22.4066353\n",
       "                  ...    \n",
       " 2013-12-23    31.3362293\n",
       " 2013-12-24    31.7298679\n",
       " 2013-12-26    32.0379295\n",
       " 2013-12-27    31.9095726\n",
       " 2013-12-30    31.9095726\n",
       " Name: Adj Close, Length: 501, dtype: float64,\n",
       " Date\n",
       " 2012-01-03           NaN\n",
       " 2012-01-04    21.6231346\n",
       " 2012-01-05    22.1320057\n",
       " 2012-01-06    22.3581791\n",
       " 2012-01-09    22.7055016\n",
       "                  ...    \n",
       " 2013-12-23    31.4902630\n",
       " 2013-12-24    31.3362293\n",
       " 2013-12-26    31.7298679\n",
       " 2013-12-27    32.0379295\n",
       " 2013-12-30    31.9095726\n",
       " Name: Adj Close, Length: 501, dtype: float64)"
      ]
     },
     "execution_count": 8,
     "metadata": {},
     "output_type": "execute_result"
    }
   ],
   "source": [
    "shift_forward = msftAC.shift(1)\n",
    "msftAC, shift_forward\n",
    "# This will shift the prices one day forward.\n",
    "# results in one NaN value at the start since there was no value prior to be shifted to 2012-01-03.\n",
    "# the number of NaN values will depend on the number of indices we are shifting forward or backward. For instance, the index is \n",
    "# daily dates, so if we shift one day forward, it means we are forwarding one index resulting into one NaN value. If we would \n",
    "# shift 2 days forward, it means we are forwarding two indices resulting into two NaN values."
   ]
  },
  {
   "cell_type": "code",
   "execution_count": 9,
   "id": "1bc1d65f-a4e8-456d-8307-d1aaabcefd03",
   "metadata": {},
   "outputs": [
    {
     "data": {
      "text/plain": [
       "(Date\n",
       " 2013-12-23    31.3362293\n",
       " 2013-12-24    31.7298679\n",
       " 2013-12-26    32.0379295\n",
       " 2013-12-27    31.9095726\n",
       " 2013-12-30    31.9095726\n",
       " Name: Adj Close, dtype: float64,\n",
       " Date\n",
       " 2013-12-23    31.4902630\n",
       " 2013-12-24    31.3362293\n",
       " 2013-12-26    31.7298679\n",
       " 2013-12-27    32.0379295\n",
       " 2013-12-30    31.9095726\n",
       " Name: Adj Close, dtype: float64)"
      ]
     },
     "execution_count": 9,
     "metadata": {},
     "output_type": "execute_result"
    }
   ],
   "source": [
    "msftAC.tail(), shift_forward.tail()\n",
    "# the last price 31.9755402 on date 2013-12-30 in msftAC has been lost away in shift_forward since there is no index available for\n",
    "# it now after the prices have been shifted one day forward. So, we got one NaN value at the start and one value lost at the end\n",
    "# by shifting one day forward."
   ]
  },
  {
   "cell_type": "code",
   "execution_count": 10,
   "id": "ea6ea3a0-15ab-4f13-80b0-9d100b18f37e",
   "metadata": {},
   "outputs": [],
   "source": [
    "shift_backward = msftAC.shift(-2)\n",
    "# will shift two days (two indices) backward."
   ]
  },
  {
   "cell_type": "code",
   "execution_count": 11,
   "id": "52660bfa-ee90-421d-b08a-bc136e03daaf",
   "metadata": {},
   "outputs": [
    {
     "data": {
      "text/plain": [
       "(Date\n",
       " 2012-01-03    21.6231346\n",
       " 2012-01-04    22.1320057\n",
       " 2012-01-05    22.3581791\n",
       " 2012-01-06    22.7055016\n",
       " 2012-01-09    22.4066353\n",
       "                  ...    \n",
       " 2013-12-23    31.3362293\n",
       " 2013-12-24    31.7298679\n",
       " 2013-12-26    32.0379295\n",
       " 2013-12-27    31.9095726\n",
       " 2013-12-30    31.9095726\n",
       " Name: Adj Close, Length: 501, dtype: float64,\n",
       " Date\n",
       " 2012-01-03    22.3581791\n",
       " 2012-01-04    22.7055016\n",
       " 2012-01-05    22.4066353\n",
       " 2012-01-06    22.4874134\n",
       " 2012-01-09    22.3904839\n",
       "                  ...    \n",
       " 2013-12-23    32.0379295\n",
       " 2013-12-24    31.9095726\n",
       " 2013-12-26    31.9095726\n",
       " 2013-12-27           NaN\n",
       " 2013-12-30           NaN\n",
       " Name: Adj Close, Length: 501, dtype: float64)"
      ]
     },
     "execution_count": 11,
     "metadata": {},
     "output_type": "execute_result"
    }
   ],
   "source": [
    "msftAC, shift_backward\n",
    "# inserts two NaNs at the end since we have shifted two days (two indices) backward and the first two values lost since there are \n",
    "# no indices available for them."
   ]
  },
  {
   "cell_type": "code",
   "execution_count": 12,
   "id": "a69327ab-0876-4967-8aaf-40caa022afce",
   "metadata": {},
   "outputs": [],
   "source": [
    "shift_1sec = msftAC.shift(1, freq = 'S')"
   ]
  },
  {
   "cell_type": "code",
   "execution_count": 13,
   "id": "7b6dc144-292b-40b0-8a47-c6f22d672d8a",
   "metadata": {},
   "outputs": [
    {
     "data": {
      "text/plain": [
       "(Date\n",
       " 2012-01-03    21.6231346\n",
       " 2012-01-04    22.1320057\n",
       " 2012-01-05    22.3581791\n",
       " 2012-01-06    22.7055016\n",
       " 2012-01-09    22.4066353\n",
       "                  ...    \n",
       " 2013-12-23    31.3362293\n",
       " 2013-12-24    31.7298679\n",
       " 2013-12-26    32.0379295\n",
       " 2013-12-27    31.9095726\n",
       " 2013-12-30    31.9095726\n",
       " Name: Adj Close, Length: 501, dtype: float64,\n",
       " Date\n",
       " 2012-01-03 00:00:01    21.6231346\n",
       " 2012-01-04 00:00:01    22.1320057\n",
       " 2012-01-05 00:00:01    22.3581791\n",
       " 2012-01-06 00:00:01    22.7055016\n",
       " 2012-01-09 00:00:01    22.4066353\n",
       "                           ...    \n",
       " 2013-12-23 00:00:01    31.3362293\n",
       " 2013-12-24 00:00:01    31.7298679\n",
       " 2013-12-26 00:00:01    32.0379295\n",
       " 2013-12-27 00:00:01    31.9095726\n",
       " 2013-12-30 00:00:01    31.9095726\n",
       " Name: Adj Close, Length: 501, dtype: float64)"
      ]
     },
     "execution_count": 13,
     "metadata": {},
     "output_type": "execute_result"
    }
   ],
   "source": [
    "msftAC, shift_1sec\n",
    "# the prices have been shifted just one second forward each day. That means that the prices still exist on the same date. So, no\n",
    "# value is lost and no NaN is inserted.\n",
    "# the frequency could be changed to any desirable level such as hour etc.\n",
    "# Note that the index labels have been adjusted according to the specified frequency resulting into a new dataframe or series in \n",
    "# this case."
   ]
  },
  {
   "cell_type": "code",
   "execution_count": 14,
   "id": "d0d0f8f8-4ffb-4add-b1a6-222806d9ab81",
   "metadata": {},
   "outputs": [
    {
     "data": {
      "text/plain": [
       "Date\n",
       "2012-01-03 00:00:01    21.6231346\n",
       "2012-01-04 00:00:01    22.1320057\n",
       "2012-01-05 00:00:01    22.3581791\n",
       "2012-01-06 00:00:01    22.7055016\n",
       "Name: Adj Close, dtype: float64"
      ]
     },
     "execution_count": 14,
     "metadata": {},
     "output_type": "execute_result"
    }
   ],
   "source": [
    "shift_1sec['2012-01-03':'2012-01-06']\n",
    "# note that the indices now include the time as well in addition to the date."
   ]
  },
  {
   "cell_type": "markdown",
   "id": "46477297-0d4c-474a-9312-3e4e323cf04a",
   "metadata": {},
   "source": [
    "### Practical Example:"
   ]
  },
  {
   "cell_type": "code",
   "execution_count": 17,
   "id": "264d1ed1-f07d-4b1a-ad71-b605baea97d4",
   "metadata": {},
   "outputs": [
    {
     "data": {
      "text/plain": [
       "(Date\n",
       " 2012-01-03    21.6231346\n",
       " 2012-01-04    22.1320057\n",
       " 2012-01-05    22.3581791\n",
       " 2012-01-06    22.7055016\n",
       " 2012-01-09    22.4066353\n",
       "                  ...    \n",
       " 2013-12-23    31.3362293\n",
       " 2013-12-24    31.7298679\n",
       " 2013-12-26    32.0379295\n",
       " 2013-12-27    31.9095726\n",
       " 2013-12-30    31.9095726\n",
       " Name: Adj Close, Length: 501, dtype: float64,\n",
       " Date\n",
       " 2012-01-03           NaN\n",
       " 2012-01-04    21.6231346\n",
       " 2012-01-05    22.1320057\n",
       " 2012-01-06    22.3581791\n",
       " 2012-01-09    22.7055016\n",
       "                  ...    \n",
       " 2013-12-23    31.4902630\n",
       " 2013-12-24    31.3362293\n",
       " 2013-12-26    31.7298679\n",
       " 2013-12-27    32.0379295\n",
       " 2013-12-30    31.9095726\n",
       " Name: Adj Close, Length: 501, dtype: float64)"
      ]
     },
     "execution_count": 17,
     "metadata": {},
     "output_type": "execute_result"
    }
   ],
   "source": [
    "msftAC, msftAC.shift(1)\n",
    "# the prices have been shifted one day forward."
   ]
  },
  {
   "cell_type": "code",
   "execution_count": 18,
   "id": "bdda981b-285d-45a4-95c6-1cffa939c8ad",
   "metadata": {},
   "outputs": [
    {
     "data": {
      "text/plain": [
       "Date\n",
       "2012-01-03          NaN\n",
       "2012-01-04    1.0235336\n",
       "2012-01-05    1.0102193\n",
       "2012-01-06    1.0155345\n",
       "2012-01-09    0.9868373\n",
       "                ...    \n",
       "2013-12-23    0.9951085\n",
       "2013-12-24    1.0125618\n",
       "2013-12-26    1.0097089\n",
       "2013-12-27    0.9959936\n",
       "2013-12-30    1.0000000\n",
       "Name: Adj Close, Length: 501, dtype: float64"
      ]
     },
     "execution_count": 18,
     "metadata": {},
     "output_type": "execute_result"
    }
   ],
   "source": [
    "msftAC / msftAC.shift(1)\n",
    "# the dividsion is based on the same index labels. That is, the price on 2012-01-04 in msftAC is divided the price on 2012-01-04 in\n",
    "# msftAC.shift(1). This is equal t`o (current price divided by previous price). The previous price is the amount invested.\n",
    "\n",
    "# Interpretation: the $1 invested has grown to $1.0235337. So, the net return is $1.0235337 - 1 = $0.0235337. That is why we need\n",
    "# to subtract 1 as shown below.\n",
    "# the first value is NaN because value is missing in msftAC.shift(1) on 2012-01-03.\n",
    "# the last value is 1.00000 because in both msftAC and msftAC.shift(1) the value on 2013-12-30 is the same.\n",
    "\n",
    "# Very important to note that we CANNOT say that $1 investment at the start (2012-01-03) has grown to (or in this case \n",
    "# has remained same) to $1 at the end of the period (2013-12-30) since we can see that the adj close price at the start\n",
    "# is $21.62 and at the end is $31.90. So, there is definately a gain. But then why we have 1 at the end of the output of\n",
    "# this cell? It is because these returns are computed on daily basis. So, this 1 shows that $1 dollar invested on 2013-12\n",
    "#-27 has remained same $1 and it makes sense since the price has remained unchanged from 2013-12-27 to 2013-12-30. To find\n",
    "# the total return, we need to find the cumulative product."
   ]
  },
  {
   "cell_type": "code",
   "execution_count": 19,
   "id": "964fa8f5-04f1-47f4-b5e5-d864485f2052",
   "metadata": {},
   "outputs": [
    {
     "data": {
      "text/plain": [
       "Date\n",
       "2012-01-03          NaN\n",
       "2012-01-04    1.0235336\n",
       "2012-01-05    1.0339934\n",
       "2012-01-06    1.0500560\n",
       "2012-01-09    1.0362344\n",
       "                ...    \n",
       "2013-12-23    1.4491992\n",
       "2013-12-24    1.4674037\n",
       "2013-12-26    1.4816506\n",
       "2013-12-27    1.4757145\n",
       "2013-12-30    1.4757145\n",
       "Name: Adj Close, Length: 501, dtype: float64"
      ]
     },
     "execution_count": 19,
     "metadata": {},
     "output_type": "execute_result"
    }
   ],
   "source": [
    "np.cumprod(msftAC / msftAC.shift(1))\n",
    "\n",
    "# just for the confirmation of the above."
   ]
  },
  {
   "cell_type": "code",
   "execution_count": 20,
   "id": "54b30761-92a1-47fb-b7ef-93a35bb1e9bd",
   "metadata": {},
   "outputs": [
    {
     "data": {
      "text/plain": [
       "1.4757141177856794"
      ]
     },
     "execution_count": 20,
     "metadata": {},
     "output_type": "execute_result"
    }
   ],
   "source": [
    "31.9095650 / 21.6231346\n",
    "\n",
    "# just for the confirmation above"
   ]
  },
  {
   "cell_type": "code",
   "execution_count": 21,
   "id": "f81eee7e-255a-4a6c-a367-fdd1f6e69a2d",
   "metadata": {},
   "outputs": [
    {
     "data": {
      "text/plain": [
       "Date\n",
       "2012-01-03          NaN\n",
       "2012-01-04    0.0235336\n",
       "2012-01-05    0.0102193\n",
       "2012-01-06    0.0155345\n",
       "2012-01-09   -0.0131627\n",
       "                ...    \n",
       "2013-12-23   -0.0048915\n",
       "2013-12-24    0.0125618\n",
       "2013-12-26    0.0097089\n",
       "2013-12-27   -0.0040064\n",
       "2013-12-30    0.0000000\n",
       "Name: Adj Close, Length: 501, dtype: float64"
      ]
     },
     "execution_count": 21,
     "metadata": {},
     "output_type": "execute_result"
    }
   ],
   "source": [
    "percent_change = msftAC / msftAC.shift(1) - 1\n",
    "percent_change\n",
    "# gives the net daily change or return.\n",
    "# the price has increased by 2.3% from 2012-01-03 to 2012-01-04."
   ]
  },
  {
   "cell_type": "markdown",
   "id": "8b04803d-a6fb-4bda-a436-52ea08eee558",
   "metadata": {},
   "source": [
    "### Frequency Conversion of Time-Series Data:"
   ]
  },
  {
   "cell_type": "code",
   "execution_count": 22,
   "id": "42a04e4a-c6c0-40ef-b6eb-15366a9fabe4",
   "metadata": {},
   "outputs": [
    {
     "data": {
      "text/plain": [
       "Date\n",
       "2012-01-03    21.6231346\n",
       "2012-01-04    22.1320057\n",
       "Name: Adj Close, dtype: float64"
      ]
     },
     "execution_count": 22,
     "metadata": {},
     "output_type": "execute_result"
    }
   ],
   "source": [
    "sample = msftAC[:2]\n",
    "sample\n",
    "# selected first 2 rows and stored them in 'sample'"
   ]
  },
  {
   "cell_type": "code",
   "execution_count": 23,
   "id": "865e3fe2-7137-415d-a9d1-23390e1fbad5",
   "metadata": {},
   "outputs": [
    {
     "data": {
      "text/plain": [
       "Date\n",
       "2012-01-03 00:00:00    21.6231346\n",
       "2012-01-03 01:00:00           NaN\n",
       "2012-01-03 02:00:00           NaN\n",
       "2012-01-03 03:00:00           NaN\n",
       "2012-01-03 04:00:00           NaN\n",
       "2012-01-03 05:00:00           NaN\n",
       "2012-01-03 06:00:00           NaN\n",
       "2012-01-03 07:00:00           NaN\n",
       "2012-01-03 08:00:00           NaN\n",
       "2012-01-03 09:00:00           NaN\n",
       "2012-01-03 10:00:00           NaN\n",
       "2012-01-03 11:00:00           NaN\n",
       "2012-01-03 12:00:00           NaN\n",
       "2012-01-03 13:00:00           NaN\n",
       "2012-01-03 14:00:00           NaN\n",
       "2012-01-03 15:00:00           NaN\n",
       "2012-01-03 16:00:00           NaN\n",
       "2012-01-03 17:00:00           NaN\n",
       "2012-01-03 18:00:00           NaN\n",
       "2012-01-03 19:00:00           NaN\n",
       "2012-01-03 20:00:00           NaN\n",
       "2012-01-03 21:00:00           NaN\n",
       "2012-01-03 22:00:00           NaN\n",
       "2012-01-03 23:00:00           NaN\n",
       "2012-01-04 00:00:00    22.1320057\n",
       "Freq: H, Name: Adj Close, dtype: float64"
      ]
     },
     "execution_count": 23,
     "metadata": {},
     "output_type": "execute_result"
    }
   ],
   "source": [
    "sample.asfreq('H')\n",
    "# to have hourly data between the two index labels.\n",
    "# a new index with hourly index labels has been created by pandas, but when aligning to the original time series, only two values\n",
    "# were found, thereby leaving the others filled with NaN. This default behaviour can be changed as follows:"
   ]
  },
  {
   "cell_type": "code",
   "execution_count": 24,
   "id": "4994e712-ef45-4268-b5af-02a8af9162ff",
   "metadata": {},
   "outputs": [
    {
     "data": {
      "text/plain": [
       "Date\n",
       "2012-01-03 00:00:00    21.6231346\n",
       "2012-01-03 01:00:00    21.6231346\n",
       "2012-01-03 02:00:00    21.6231346\n",
       "2012-01-03 03:00:00    21.6231346\n",
       "2012-01-03 04:00:00    21.6231346\n",
       "2012-01-03 05:00:00    21.6231346\n",
       "2012-01-03 06:00:00    21.6231346\n",
       "2012-01-03 07:00:00    21.6231346\n",
       "2012-01-03 08:00:00    21.6231346\n",
       "2012-01-03 09:00:00    21.6231346\n",
       "2012-01-03 10:00:00    21.6231346\n",
       "2012-01-03 11:00:00    21.6231346\n",
       "2012-01-03 12:00:00    21.6231346\n",
       "2012-01-03 13:00:00    21.6231346\n",
       "2012-01-03 14:00:00    21.6231346\n",
       "2012-01-03 15:00:00    21.6231346\n",
       "2012-01-03 16:00:00    21.6231346\n",
       "2012-01-03 17:00:00    21.6231346\n",
       "2012-01-03 18:00:00    21.6231346\n",
       "2012-01-03 19:00:00    21.6231346\n",
       "2012-01-03 20:00:00    21.6231346\n",
       "2012-01-03 21:00:00    21.6231346\n",
       "2012-01-03 22:00:00    21.6231346\n",
       "2012-01-03 23:00:00    21.6231346\n",
       "2012-01-04 00:00:00    22.1320057\n",
       "Freq: H, Name: Adj Close, dtype: float64"
      ]
     },
     "execution_count": 24,
     "metadata": {},
     "output_type": "execute_result"
    }
   ],
   "source": [
    "sample.asfreq('H', method = 'ffill')\n",
    "# forward fill will take the earlier known value and fill all the missing values with it."
   ]
  },
  {
   "cell_type": "code",
   "execution_count": 25,
   "id": "02f4d82c-bc33-4539-941e-3afd8d590577",
   "metadata": {},
   "outputs": [
    {
     "data": {
      "text/plain": [
       "Date\n",
       "2012-01-03 00:00:00    21.6231346\n",
       "2012-01-03 01:00:00    22.1320057\n",
       "2012-01-03 02:00:00    22.1320057\n",
       "2012-01-03 03:00:00    22.1320057\n",
       "2012-01-03 04:00:00    22.1320057\n",
       "2012-01-03 05:00:00    22.1320057\n",
       "2012-01-03 06:00:00    22.1320057\n",
       "2012-01-03 07:00:00    22.1320057\n",
       "2012-01-03 08:00:00    22.1320057\n",
       "2012-01-03 09:00:00    22.1320057\n",
       "2012-01-03 10:00:00    22.1320057\n",
       "2012-01-03 11:00:00    22.1320057\n",
       "2012-01-03 12:00:00    22.1320057\n",
       "2012-01-03 13:00:00    22.1320057\n",
       "2012-01-03 14:00:00    22.1320057\n",
       "2012-01-03 15:00:00    22.1320057\n",
       "2012-01-03 16:00:00    22.1320057\n",
       "2012-01-03 17:00:00    22.1320057\n",
       "2012-01-03 18:00:00    22.1320057\n",
       "2012-01-03 19:00:00    22.1320057\n",
       "2012-01-03 20:00:00    22.1320057\n",
       "2012-01-03 21:00:00    22.1320057\n",
       "2012-01-03 22:00:00    22.1320057\n",
       "2012-01-03 23:00:00    22.1320057\n",
       "2012-01-04 00:00:00    22.1320057\n",
       "Freq: H, Name: Adj Close, dtype: float64"
      ]
     },
     "execution_count": 25,
     "metadata": {},
     "output_type": "execute_result"
    }
   ],
   "source": [
    "sample.asfreq('H', method = 'bfill')\n",
    "# backward fill will take the next known value and fill the missing values in the backward direction."
   ]
  },
  {
   "cell_type": "markdown",
   "id": "db11eea1-33f1-496d-9cd4-808085197595",
   "metadata": {},
   "source": [
    "### Resampling of time-series:"
   ]
  },
  {
   "cell_type": "code",
   "execution_count": 33,
   "id": "3da9c1f9-6303-4404-ade8-73fd651ec0ef",
   "metadata": {},
   "outputs": [
    {
     "data": {
      "text/plain": [
       "Date\n",
       "2012-01-03          NaN\n",
       "2012-01-04    1.0235336\n",
       "2012-01-05    1.0102193\n",
       "2012-01-06    1.0155345\n",
       "2012-01-09    0.9868373\n",
       "                ...    \n",
       "2013-12-23    0.9951085\n",
       "2013-12-24    1.0125618\n",
       "2013-12-26    1.0097089\n",
       "2013-12-27    0.9959936\n",
       "2013-12-30    1.0000000\n",
       "Name: Adj Close, Length: 501, dtype: float64"
      ]
     },
     "execution_count": 33,
     "metadata": {},
     "output_type": "execute_result"
    }
   ],
   "source": [
    "msftAC / msftAC.shift()\n",
    "# I haven't confirmed it but i think the default argument for shift is 1 which means to shift prices forward by one day."
   ]
  },
  {
   "cell_type": "code",
   "execution_count": 34,
   "id": "c97fb5a7-f80b-49f0-981b-3463467527cd",
   "metadata": {},
   "outputs": [
    {
     "data": {
      "text/plain": [
       "Date\n",
       "2012-01-03          NaN\n",
       "2012-01-04    1.0235336\n",
       "2012-01-05    1.0102193\n",
       "2012-01-06    1.0155345\n",
       "2012-01-09    0.9868373\n",
       "                ...    \n",
       "2013-12-23    0.9951085\n",
       "2013-12-24    1.0125618\n",
       "2013-12-26    1.0097089\n",
       "2013-12-27    0.9959936\n",
       "2013-12-30    1.0000000\n",
       "Name: Adj Close, Length: 501, dtype: float64"
      ]
     },
     "execution_count": 34,
     "metadata": {},
     "output_type": "execute_result"
    }
   ],
   "source": [
    "(1 + (msftAC / msftAC.shift() - 1))\n",
    "# this and immediately above seems to produce the same result. Plus1 and minus1 cancels out so the result is the same as immediately above."
   ]
  },
  {
   "cell_type": "code",
   "execution_count": 35,
   "id": "9bd33b7c-f730-4519-8256-281b6b8e4384",
   "metadata": {},
   "outputs": [
    {
     "data": {
      "text/plain": [
       "Date\n",
       "2012-01-03          NaN\n",
       "2012-01-04    1.0235336\n",
       "2012-01-05    1.0339934\n",
       "2012-01-06    1.0500560\n",
       "2012-01-09    1.0362344\n",
       "                ...    \n",
       "2013-12-23    1.4491992\n",
       "2013-12-24    1.4674037\n",
       "2013-12-26    1.4816506\n",
       "2013-12-27    1.4757145\n",
       "2013-12-30    1.4757145\n",
       "Name: Adj Close, Length: 501, dtype: float64"
      ]
     },
     "execution_count": 35,
     "metadata": {},
     "output_type": "execute_result"
    }
   ],
   "source": [
    "msft_cum_ret = (1 + (msftAC / msftAC.shift() - 1)).cumprod()\n",
    "msft_cum_ret\n",
    "# cumprod stands for cummulative product.\n",
    "# it multiplies the value on 2012-01-04 with the value on 2012-01-05 and produces the product in the index label 2012-01-05. This product \n",
    "# can be called cumulative daily return.\n",
    "# $1 dollar invested on 2012-01-03 has grown to $1.475 on 2013-12-30."
   ]
  },
  {
   "cell_type": "code",
   "execution_count": 36,
   "id": "33b36fea-a9fa-4df5-b8d2-1231fe0f471f",
   "metadata": {},
   "outputs": [
    {
     "data": {
      "text/plain": [
       "Date\n",
       "2012-01-03          NaN\n",
       "2012-01-04    1.0235336\n",
       "2012-01-05    1.0339934\n",
       "2012-01-06    1.0500560\n",
       "2012-01-09    1.0362344\n",
       "2012-01-10    1.0399701\n",
       "2012-01-11    1.0354874\n",
       "2012-01-12    1.0459469\n",
       "2012-01-13    1.0552859\n",
       "2012-01-17    1.0556593\n",
       "2012-01-18    1.0545386\n",
       "2012-01-19    1.0504296\n",
       "2012-01-20    1.1098242\n",
       "2012-01-23    1.1105717\n",
       "2012-01-24    1.0960030\n",
       "2012-01-25    1.1042211\n",
       "2012-01-26    1.1019798\n",
       "2012-01-27    1.0918937\n",
       "2012-01-30    1.1060890\n",
       "2012-01-31    1.1031004\n",
       "Name: Adj Close, dtype: float64"
      ]
     },
     "execution_count": 36,
     "metadata": {},
     "output_type": "execute_result"
    }
   ],
   "source": [
    "msft_cum_ret['1/1/2012':'1/31/2012']\n",
    "# note that typing the date in this pattern is the same as typing 2012-01-04 and so on.\n",
    "# this gives us daily cumulative returns for all the month as explained above."
   ]
  },
  {
   "cell_type": "code",
   "execution_count": 38,
   "id": "45ef963e-80b7-4b17-bb0b-b24079207f25",
   "metadata": {},
   "outputs": [
    {
     "data": {
      "text/plain": [
       "1.0686746480066573"
      ]
     },
     "execution_count": 38,
     "metadata": {},
     "output_type": "execute_result"
    }
   ],
   "source": [
    "msft_cum_ret['1/1/2012':'1/31/2012'].mean()\n",
    "# mean cumulative return of January 2012. It is a mean of all the daily cumulative returns in January.\n",
    "# to calculate each month mean cumulative return, we have to write this command 24 times for all 24 months."
   ]
  },
  {
   "cell_type": "code",
   "execution_count": 46,
   "id": "cdb851e6-4063-4b60-a284-a61705de1b34",
   "metadata": {},
   "outputs": [
    {
     "data": {
      "text/plain": [
       "1.0686746480066573"
      ]
     },
     "execution_count": 46,
     "metadata": {},
     "output_type": "execute_result"
    }
   ],
   "source": [
    "msft_cum_ret['1/2012'].mean()\n",
    "# an alternative to the above method to compute monthly mean."
   ]
  },
  {
   "cell_type": "code",
   "execution_count": 48,
   "id": "350283dc-a4c1-4d58-bf4d-68c78929c8e0",
   "metadata": {},
   "outputs": [
    {
     "data": {
      "text/plain": [
       "1.0008829545168116"
      ]
     },
     "execution_count": 48,
     "metadata": {},
     "output_type": "execute_result"
    }
   ],
   "source": [
    "(msftAC/msftAC.shift()).mean() # mean of daily returns."
   ]
  },
  {
   "cell_type": "code",
   "execution_count": 49,
   "id": "6f7c516b-bf0c-458e-ba2f-b4bc951ff6a9",
   "metadata": {},
   "outputs": [
    {
     "data": {
      "text/plain": [
       "Date\n",
       "2012-01-03          NaN\n",
       "2012-01-04    1.0235336\n",
       "2012-01-05    1.0339934\n",
       "2012-01-06    1.0500560\n",
       "2012-01-09    1.0362344\n",
       "                ...    \n",
       "2013-12-23    1.4491992\n",
       "2013-12-24    1.4674037\n",
       "2013-12-26    1.4816506\n",
       "2013-12-27    1.4757145\n",
       "2013-12-30    1.4757145\n",
       "Name: Adj Close, Length: 501, dtype: float64"
      ]
     },
     "execution_count": 49,
     "metadata": {},
     "output_type": "execute_result"
    }
   ],
   "source": [
    "msft_cum_ret"
   ]
  },
  {
   "cell_type": "code",
   "execution_count": 58,
   "id": "a319e92d-6ab1-4076-936f-761614b7b3d4",
   "metadata": {},
   "outputs": [
    {
     "data": {
      "text/plain": [
       "Date\n",
       "2012-01-31    20\n",
       "2012-02-29    20\n",
       "2012-03-31    22\n",
       "2012-04-30    20\n",
       "2012-05-31    22\n",
       "2012-06-30    21\n",
       "2012-07-31    21\n",
       "2012-08-31    23\n",
       "2012-09-30    19\n",
       "2012-10-31    21\n",
       "2012-11-30    21\n",
       "2012-12-31    20\n",
       "2013-01-31    21\n",
       "2013-02-28    19\n",
       "2013-03-31    20\n",
       "2013-04-30    22\n",
       "2013-05-31    22\n",
       "2013-06-30    20\n",
       "2013-07-31    22\n",
       "2013-08-31    22\n",
       "2013-09-30    20\n",
       "2013-10-31    23\n",
       "2013-11-30    20\n",
       "2013-12-31    20\n",
       "Freq: M, Name: Adj Close, dtype: int64"
      ]
     },
     "execution_count": 58,
     "metadata": {},
     "output_type": "execute_result"
    }
   ],
   "source": [
    "msft_monthly_cum_ret = msft_cum_ret.resample(\"M\")\n",
    "msft_monthly_cum_ret.size()\n",
    "# a better and efficient alternative to the above two methods to compute monthly means.\n",
    "# does not return a dataframe any longer but an object stored at some location in memory. Nevermind, all the aggregation and interpolation\n",
    "# can still be validly performed as shown below."
   ]
  },
  {
   "cell_type": "code",
   "execution_count": 65,
   "id": "544ee698-b84d-4d05-b153-303c44f097e2",
   "metadata": {},
   "outputs": [],
   "source": [
    "def print_info(groupobject):\n",
    "    for i, k in groupobject:\n",
    "        print(i)\n",
    "        print(k)"
   ]
  },
  {
   "cell_type": "code",
   "execution_count": 66,
   "id": "62b6371c-3ee3-40b2-bbc7-e4fdb11883f0",
   "metadata": {},
   "outputs": [
    {
     "name": "stdout",
     "output_type": "stream",
     "text": [
      "2012-01-31 00:00:00\n",
      "Date\n",
      "2012-01-03          NaN\n",
      "2012-01-04    1.0235336\n",
      "2012-01-05    1.0339934\n",
      "2012-01-06    1.0500560\n",
      "2012-01-09    1.0362344\n",
      "2012-01-10    1.0399701\n",
      "2012-01-11    1.0354874\n",
      "2012-01-12    1.0459469\n",
      "2012-01-13    1.0552859\n",
      "2012-01-17    1.0556593\n",
      "2012-01-18    1.0545386\n",
      "2012-01-19    1.0504296\n",
      "2012-01-20    1.1098242\n",
      "2012-01-23    1.1105717\n",
      "2012-01-24    1.0960030\n",
      "2012-01-25    1.1042211\n",
      "2012-01-26    1.1019798\n",
      "2012-01-27    1.0918937\n",
      "2012-01-30    1.1060890\n",
      "2012-01-31    1.1031004\n",
      "Name: Adj Close, dtype: float64\n",
      "2012-02-29 00:00:00\n",
      "Date\n",
      "2012-02-01    1.1165483\n",
      "2012-02-02    1.1187897\n",
      "2012-02-03    1.1296229\n",
      "2012-02-06    1.1281284\n",
      "2012-02-07    1.1337320\n",
      "2012-02-08    1.1453120\n",
      "2012-02-09    1.1494209\n",
      "2012-02-10    1.1393350\n",
      "2012-02-13    1.1423236\n",
      "2012-02-14    1.1374353\n",
      "2012-02-15    1.1299155\n",
      "2012-02-16    1.1765406\n",
      "2012-02-17    1.1750367\n",
      "2012-02-21    1.1821809\n",
      "2012-02-22    1.1757886\n",
      "2012-02-23    1.1795487\n",
      "2012-02-24    1.1836849\n",
      "2012-02-27    1.1787965\n",
      "2012-02-28    1.1983494\n",
      "2012-02-29    1.1934610\n",
      "Name: Adj Close, dtype: float64\n",
      "2012-03-31 00:00:00\n",
      "Date\n",
      "2012-03-01    1.2141419\n",
      "2012-03-02    1.2062458\n",
      "2012-03-05    1.1957170\n",
      "2012-03-06    1.1866926\n",
      "2012-03-07    1.1972211\n",
      "2012-03-08    1.2036134\n",
      "2012-03-09    1.2028614\n",
      "2012-03-12    1.2047415\n",
      "2012-03-13    1.2284302\n",
      "2012-03-14    1.2321906\n",
      "2012-03-15    1.2351985\n",
      "2012-03-16    1.2257978\n",
      "2012-03-19    1.2107574\n",
      "2012-03-20    1.2028614\n",
      "2012-03-21    1.1998536\n",
      "2012-03-22    1.2032374\n",
      "2012-03-23    1.2036134\n",
      "2012-03-26    1.2254223\n",
      "2012-03-27    1.2227900\n",
      "2012-03-28    1.2103818\n",
      "2012-03-29    1.2077498\n",
      "2012-03-30    1.2130138\n",
      "Name: Adj Close, dtype: float64\n",
      "2012-04-30 00:00:00\n",
      "Date\n",
      "2012-04-02    1.2141419\n",
      "2012-04-03    1.2009811\n",
      "2012-04-04    1.1735326\n",
      "2012-04-05    1.1851887\n",
      "2012-04-09    1.1693964\n",
      "2012-04-10    1.1457075\n",
      "2012-04-11    1.1411957\n",
      "2012-04-12    1.1648839\n",
      "2012-04-13    1.1584921\n",
      "2012-04-16    1.1686442\n",
      "2012-04-17    1.1821809\n",
      "2012-04-18    1.1709005\n",
      "2012-04-19    1.1660123\n",
      "2012-04-20    1.2190300\n",
      "2012-04-23    1.2077498\n",
      "2012-04-24    1.2002293\n",
      "2012-04-25    1.2107574\n",
      "2012-04-26    1.2073735\n",
      "2012-04-27    1.2024854\n",
      "2012-04-30    1.2039894\n",
      "Name: Adj Close, dtype: float64\n",
      "2012-05-31 00:00:00\n",
      "Date\n",
      "2012-05-01    1.2036134\n",
      "2012-05-02    1.1957170\n",
      "2012-05-03    1.1942131\n",
      "2012-05-04    1.1648839\n",
      "2012-05-07    1.1524757\n",
      "2012-05-08    1.1468357\n",
      "2012-05-09    1.1566119\n",
      "2012-05-10    1.1558602\n",
      "2012-05-11    1.1716521\n",
      "2012-05-14    1.1536039\n",
      "2012-05-15    1.1433851\n",
      "2012-05-16    1.1316521\n",
      "2012-05-17    1.1248394\n",
      "2012-05-18    1.1078081\n",
      "2012-05-21    1.1259747\n",
      "2012-05-22    1.1263536\n",
      "2012-05-23    1.1017524\n",
      "2012-05-24    1.1002383\n",
      "2012-05-25    1.0998598\n",
      "2012-05-29    1.1187838\n",
      "2012-05-30    1.1104574\n",
      "2012-05-31    1.1047801\n",
      "Name: Adj Close, dtype: float64\n",
      "2012-06-30 00:00:00\n",
      "Date\n",
      "2012-06-01    1.0767727\n",
      "2012-06-04    1.0805573\n",
      "2012-06-05    1.0790436\n",
      "2012-06-06    1.1108358\n",
      "2012-06-07    1.1062942\n",
      "2012-06-08    1.1221902\n",
      "2012-06-11    1.0938042\n",
      "2012-06-12    1.1085646\n",
      "2012-06-13    1.1025092\n",
      "2012-06-14    1.1104574\n",
      "2012-06-15    1.1361938\n",
      "2012-06-18    1.1293812\n",
      "2012-06-19    1.1619306\n",
      "2012-06-20    1.1706356\n",
      "2012-06-21    1.1407354\n",
      "2012-06-22    1.1619306\n",
      "2012-06-25    1.1305167\n",
      "2012-06-26    1.1361938\n",
      "2012-06-27    1.1418712\n",
      "2012-06-28    1.1320306\n",
      "2012-06-29    1.1577670\n",
      "Name: Adj Close, dtype: float64\n",
      "2012-07-31 00:00:00\n",
      "Date\n",
      "2012-07-02    1.1566317\n",
      "2012-07-03    1.1642011\n",
      "2012-07-05    1.1619306\n",
      "2012-07-06    1.1426281\n",
      "2012-07-09    1.1354370\n",
      "2012-07-10    1.1255965\n",
      "2012-07-11    1.1089434\n",
      "2012-07-12    1.0835852\n",
      "2012-07-13    1.1123497\n",
      "2012-07-16    1.1142420\n",
      "2012-07-17    1.1225686\n",
      "2012-07-18    1.1524686\n",
      "2012-07-19    1.1607952\n",
      "2012-07-20    1.1399788\n",
      "2012-07-23    1.1081865\n",
      "2012-07-24    1.1032662\n",
      "2012-07-25    1.0911545\n",
      "2012-07-26    1.1036444\n",
      "2012-07-27    1.1263536\n",
      "2012-07-30    1.1218115\n",
      "2012-07-31    1.1153775\n",
      "Name: Adj Close, dtype: float64\n",
      "2012-08-31 00:00:00\n",
      "Date\n",
      "2012-08-01    1.1131068\n",
      "2012-08-02    1.1047801\n",
      "2012-08-03    1.1259747\n",
      "2012-08-06    1.1335445\n",
      "2012-08-07    1.1452771\n",
      "2012-08-08    1.1479268\n",
      "2012-08-09    1.1543608\n",
      "2012-08-10    1.1513329\n",
      "2012-08-13    1.1501976\n",
      "2012-08-14    1.1479117\n",
      "2012-08-15    1.1505784\n",
      "2012-08-16    1.1726759\n",
      "2012-08-17    1.1772475\n",
      "2012-08-20    1.1711516\n",
      "2012-08-21    1.1734375\n",
      "2012-08-22    1.1635323\n",
      "2012-08-23    1.1528644\n",
      "2012-08-24    1.1642940\n",
      "2012-08-27    1.1692468\n",
      "2012-08-28    1.1669611\n",
      "2012-08-29    1.1677228\n",
      "2012-08-30    1.1551503\n",
      "2012-08-31    1.1741998\n",
      "Name: Adj Close, dtype: float64\n",
      "2012-09-30 00:00:00\n",
      "Date\n",
      "2012-09-04    1.1578172\n",
      "2012-09-05    1.1578172\n",
      "2012-09-06    1.1943920\n",
      "2012-09-07    1.1791525\n",
      "2012-09-10    1.1703898\n",
      "2012-09-11    1.1730568\n",
      "2012-09-12    1.1726759\n",
      "2012-09-13    1.1787714\n",
      "2012-09-14    1.1890582\n",
      "2012-09-17    1.1890582\n",
      "2012-09-18    1.1879155\n",
      "2012-09-19    1.1829623\n",
      "2012-09-20    1.1982017\n",
      "2012-09-21    1.1882963\n",
      "2012-09-24    1.1726759\n",
      "2012-09-25    1.1578172\n",
      "2012-09-26    1.1494357\n",
      "2012-09-27    1.1490549\n",
      "2012-09-28    1.1338152\n",
      "Name: Adj Close, dtype: float64\n",
      "2012-10-31 00:00:00\n",
      "Date\n",
      "2012-10-01    1.1235287\n",
      "2012-10-02    1.1300054\n",
      "2012-10-03    1.1376250\n",
      "2012-10-04    1.1441017\n",
      "2012-10-05    1.1372442\n",
      "2012-10-08    1.1345773\n",
      "2012-10-09    1.1155279\n",
      "2012-10-10    1.1040983\n",
      "2012-10-11    1.1029554\n",
      "2012-10-12    1.1124799\n",
      "2012-10-15    1.1242902\n",
      "2012-10-16    1.1235287\n",
      "2012-10-17    1.1273383\n",
      "2012-10-18    1.1239094\n",
      "2012-10-19    1.0911448\n",
      "2012-10-22    1.0667615\n",
      "2012-10-23    1.0686664\n",
      "2012-10-24    1.0629517\n",
      "2012-10-25    1.0621896\n",
      "2012-10-26    1.0747620\n",
      "2012-10-31    1.0873350\n",
      "Name: Adj Close, dtype: float64\n",
      "2012-11-30 00:00:00\n",
      "Date\n",
      "2012-11-01    1.1246714\n",
      "2012-11-02    1.1239094\n",
      "2012-11-05    1.1288626\n",
      "2012-11-06    1.1376250\n",
      "2012-11-07    1.1079081\n",
      "2012-11-08    1.0976218\n",
      "2012-11-09    1.0983832\n",
      "2012-11-12    1.0751430\n",
      "2012-11-13    1.0405727\n",
      "2012-11-14    1.0309699\n",
      "2012-11-15    1.0240557\n",
      "2012-11-16    1.0186784\n",
      "2012-11-19    1.0267446\n",
      "2012-11-20    1.0259763\n",
      "2012-11-21    1.0351948\n",
      "2012-11-23    1.0640038\n",
      "2012-11-26    1.0520960\n",
      "2012-11-27    1.0401887\n",
      "2012-11-28    1.0509439\n",
      "2012-11-29    1.0351948\n",
      "2012-11-30    1.0225192\n",
      "Name: Adj Close, dtype: float64\n",
      "2012-12-31 00:00:00\n",
      "Date\n",
      "2012-12-03    1.0152211\n",
      "2012-12-04    1.0129165\n",
      "2012-12-05    1.0244401\n",
      "2012-12-06    1.0267446\n",
      "2012-12-07    1.0163732\n",
      "2012-12-10    1.0348111\n",
      "2012-12-11    1.0494074\n",
      "2012-12-12    1.0463345\n",
      "2012-12-13    1.0413409\n",
      "2012-12-14    1.0298175\n",
      "2012-12-17    1.0409570\n",
      "2012-12-18    1.0586262\n",
      "2012-12-19    1.0490232\n",
      "2012-12-20    1.0632356\n",
      "2012-12-21    1.0544009\n",
      "2012-12-24    1.0394206\n",
      "2012-12-26    1.0317381\n",
      "2012-12-27    1.0355788\n",
      "2012-12-28    1.0198305\n",
      "2012-12-31    1.0259763\n",
      "Name: Adj Close, dtype: float64\n",
      "2013-01-31 00:00:00\n",
      "Date\n",
      "2013-01-02    1.0609311\n",
      "2013-01-03    1.0467185\n",
      "2013-01-04    1.0271285\n",
      "2013-01-07    1.0252081\n",
      "2013-01-08    1.0198305\n",
      "2013-01-09    1.0255922\n",
      "2013-01-10    1.0163732\n",
      "2013-01-11    1.0305856\n",
      "2013-01-14    1.0328903\n",
      "2013-01-15    1.0451825\n",
      "2013-01-16    1.0386522\n",
      "2013-01-17    1.0467185\n",
      "2013-01-18    1.0467185\n",
      "2013-01-22    1.0428775\n",
      "2013-01-23    1.0605468\n",
      "2013-01-24    1.0613152\n",
      "2013-01-25    1.0709179\n",
      "2013-01-28    1.0720704\n",
      "2013-01-29    1.0759115\n",
      "2013-01-30    1.0697656\n",
      "2013-01-31    1.0544009\n",
      "Name: Adj Close, dtype: float64\n",
      "2013-02-28 00:00:00\n",
      "Date\n",
      "2013-02-01    1.0728384\n",
      "2013-02-04    1.0540168\n",
      "2013-02-05    1.0563213\n",
      "2013-02-06    1.0501757\n",
      "2013-02-07    1.0478710\n",
      "2013-02-08    1.0582422\n",
      "2013-02-11    1.0701498\n",
      "2013-02-12    1.0709179\n",
      "2013-02-13    1.0766795\n",
      "2013-02-14    1.0770639\n",
      "2013-02-15    1.0759115\n",
      "2013-02-19    1.0863684\n",
      "2013-02-20    1.0793974\n",
      "2013-02-21    1.0646800\n",
      "2013-02-22    1.0751368\n",
      "2013-02-25    1.0600323\n",
      "2013-02-26    1.0600323\n",
      "2013-02-27    1.0770734\n",
      "2013-02-28    1.0766861\n",
      "Name: Adj Close, dtype: float64\n",
      "2013-03-31 00:00:00\n",
      "Date\n",
      "2013-03-01    1.0824956\n",
      "2013-03-04    1.0902414\n",
      "2013-03-05    1.0979875\n",
      "2013-03-06    1.0879174\n",
      "2013-03-07    1.0898543\n",
      "2013-03-08    1.0844321\n",
      "2013-03-11    1.0793974\n",
      "2013-03-12    1.0809464\n",
      "2013-03-13    1.0813336\n",
      "2013-03-14    1.0898543\n",
      "2013-03-15    1.0859814\n",
      "2013-03-18    1.0883050\n",
      "2013-03-19    1.0914035\n",
      "2013-03-20    1.0968254\n",
      "2013-03-21    1.0886924\n",
      "2013-03-22    1.0941146\n",
      "2013-03-25    1.0906288\n",
      "2013-03-26    1.0906288\n",
      "2013-03-27    1.0987619\n",
      "2013-03-28    1.1080572\n",
      "Name: Adj Close, dtype: float64\n",
      "2013-04-30 00:00:00\n",
      "Date\n",
      "2013-04-01    1.1080572\n",
      "2013-04-02    1.1154157\n",
      "2013-04-03    1.1061205\n",
      "2013-04-04    1.1076700\n",
      "2013-04-05    1.1115429\n",
      "2013-04-08    1.1072824\n",
      "2013-04-09    1.1467870\n",
      "2013-04-10    1.1727358\n",
      "2013-04-11    1.1208380\n",
      "2013-04-12    1.1150285\n",
      "2013-04-15    1.1111556\n",
      "2013-04-16    1.1219999\n",
      "2013-04-17    1.1165777\n",
      "2013-04-18    1.1150285\n",
      "2013-04-19    1.1529836\n",
      "2013-04-22    1.1940371\n",
      "2013-04-23    1.1851293\n",
      "2013-04-24    1.2300555\n",
      "2013-04-25    1.2370273\n",
      "2013-04-26    1.2312179\n",
      "2013-04-29    1.2629760\n",
      "2013-04-30    1.2819532\n",
      "Name: Adj Close, dtype: float64\n",
      "2013-05-31 00:00:00\n",
      "Date\n",
      "2013-05-01    1.2672364\n",
      "2013-05-02    1.2842772\n",
      "2013-05-03    1.2970583\n",
      "2013-05-06    1.3071281\n",
      "2013-05-07    1.2900868\n",
      "2013-05-08    1.2776934\n",
      "2013-05-09    1.2649124\n",
      "2013-05-10    1.2660745\n",
      "2013-05-13    1.2792426\n",
      "2013-05-14    1.3077137\n",
      "2013-05-15    1.3201941\n",
      "2013-05-16    1.3291641\n",
      "2013-05-17    1.3599752\n",
      "2013-05-20    1.3681655\n",
      "2013-05-21    1.3591954\n",
      "2013-05-22    1.3498349\n",
      "2013-05-23    1.3318945\n",
      "2013-05-24    1.3365747\n",
      "2013-05-28    1.3658257\n",
      "2013-05-29    1.3603654\n",
      "2013-05-30    1.3662149\n",
      "2013-05-31    1.3611452\n",
      "Name: Adj Close, dtype: float64\n",
      "2013-06-30 00:00:00\n",
      "Date\n",
      "2013-06-03    1.3880566\n",
      "2013-06-04    1.3646556\n",
      "2013-06-05    1.3564651\n",
      "2013-06-06    1.3634853\n",
      "2013-06-07    1.3911765\n",
      "2013-06-10    1.3833761\n",
      "2013-06-11    1.3588046\n",
      "2013-06-12    1.3650455\n",
      "2013-06-13    1.3541249\n",
      "2013-06-14    1.3416449\n",
      "2013-06-17    1.3650455\n",
      "2013-06-18    1.3642657\n",
      "2013-06-19    1.3490550\n",
      "2013-06-20    1.3061537\n",
      "2013-06-21    1.2975733\n",
      "2013-06-24    1.3151237\n",
      "2013-06-25    1.3131733\n",
      "2013-06-26    1.3396945\n",
      "2013-06-27    1.3502249\n",
      "2013-06-28    1.3471046\n",
      "Name: Adj Close, dtype: float64\n",
      "2013-07-31 00:00:00\n",
      "Date\n",
      "2013-07-01    1.3400845\n",
      "2013-07-02    1.3237041\n",
      "2013-07-03    1.3264342\n",
      "2013-07-05    1.3342343\n",
      "2013-07-08    1.3389146\n",
      "2013-07-09    1.3396945\n",
      "2013-07-10    1.3533451\n",
      "2013-07-11    1.3919564\n",
      "2013-07-12    1.3911765\n",
      "2013-07-15    1.4106767\n",
      "2013-07-16    1.4145766\n",
      "2013-07-17    1.3939066\n",
      "2013-07-18    1.3822059\n",
      "2013-07-19    1.2246406\n",
      "2013-07-22    1.2484315\n",
      "2013-07-23    1.2410214\n",
      "2013-07-24    1.2464811\n",
      "2013-07-25    1.2242508\n",
      "2013-07-26    1.2332210\n",
      "2013-07-29    1.2301011\n",
      "2013-07-30    1.2421911\n",
      "2013-07-31    1.2418011\n",
      "Name: Adj Close, dtype: float64\n",
      "2013-08-31 00:00:00\n",
      "Date\n",
      "2013-08-01    1.2351710\n",
      "2013-08-02    1.2437513\n",
      "2013-08-05    1.2363413\n",
      "2013-08-06    1.2316610\n",
      "2013-08-07    1.2503816\n",
      "2013-08-08    1.2827526\n",
      "2013-08-09    1.2753427\n",
      "2013-08-12    1.2819727\n",
      "2013-08-13    1.2658694\n",
      "2013-08-14    1.2705822\n",
      "2013-08-15    1.2485878\n",
      "2013-08-16    1.2489807\n",
      "2013-08-19    1.2328773\n",
      "2013-08-20    1.2419107\n",
      "2013-08-21    1.2415183\n",
      "2013-08-22    1.2721534\n",
      "2013-08-23    1.3648451\n",
      "2013-08-26    1.3412794\n",
      "2013-08-27    1.3063236\n",
      "2013-08-28    1.2968977\n",
      "2013-08-29    1.3177142\n",
      "2013-08-30    1.3118227\n",
      "Name: Adj Close, dtype: float64\n",
      "2013-09-30 00:00:00\n",
      "Date\n",
      "2013-09-03    1.2521229\n",
      "2013-09-04    1.2254153\n",
      "2013-09-05    1.2265929\n",
      "2013-09-06    1.2234512\n",
      "2013-09-09    1.2434820\n",
      "2013-09-10    1.2721534\n",
      "2013-09-11    1.2859005\n",
      "2013-09-12    1.2839364\n",
      "2013-09-13    1.2972902\n",
      "2013-09-16    1.2882569\n",
      "2013-09-17    1.2933627\n",
      "2013-09-18    1.3086804\n",
      "2013-09-19    1.3212486\n",
      "2013-09-20    1.2878642\n",
      "2013-09-23    1.2859005\n",
      "2013-09-24    1.2745102\n",
      "2013-09-25    1.2768668\n",
      "2013-09-26    1.2870787\n",
      "2013-09-27    1.3067168\n",
      "2013-09-30    1.3071095\n",
      "Name: Adj Close, dtype: float64\n",
      "2013-10-31 00:00:00\n",
      "Date\n",
      "2013-10-01    1.3188921\n",
      "2013-10-02    1.3322462\n",
      "2013-10-03    1.3298895\n",
      "2013-10-04    1.3306748\n",
      "2013-10-07    1.3078953\n",
      "2013-10-08    1.2965046\n",
      "2013-10-09    1.2988616\n",
      "2013-10-10    1.3259620\n",
      "2013-10-11    1.3404941\n",
      "2013-10-14    1.3530625\n",
      "2013-10-15    1.3546332\n",
      "2013-10-16    1.3605247\n",
      "2013-10-17    1.3715221\n",
      "2013-10-18    1.3730933\n",
      "2013-10-21    1.3742716\n",
      "2013-10-22    1.3581681\n",
      "2013-10-23    1.3259620\n",
      "2013-10-24    1.3243908\n",
      "2013-10-25    1.4033362\n",
      "2013-10-28    1.3970515\n",
      "2013-10-29    1.3950877\n",
      "2013-10-30    1.3958737\n",
      "2013-10-31    1.3907675\n",
      "Name: Adj Close, dtype: float64\n",
      "2013-11-30 00:00:00\n",
      "Date\n",
      "2013-11-01    1.3954809\n",
      "2013-11-04    1.4115839\n",
      "2013-11-05    1.4390772\n",
      "2013-11-06    1.4995620\n",
      "2013-11-07    1.4728546\n",
      "2013-11-08    1.4838523\n",
      "2013-11-11    1.4763898\n",
      "2013-11-12    1.4673558\n",
      "2013-11-13    1.4987768\n",
      "2013-11-14    1.4932781\n",
      "2013-11-15    1.4862088\n",
      "2013-11-18    1.4610718\n",
      "2013-11-19    1.4539486\n",
      "2013-11-20    1.4674037\n",
      "2013-11-21    1.4800676\n",
      "2013-11-22    1.4867947\n",
      "2013-11-25    1.4895652\n",
      "2013-11-26    1.4780890\n",
      "2013-11-27    1.4879818\n",
      "2013-11-29    1.5089564\n",
      "Name: Adj Close, dtype: float64\n",
      "2013-12-31 00:00:00\n",
      "Date\n",
      "2013-12-02    1.5216207\n",
      "2013-12-03    1.5160795\n",
      "2013-12-04    1.5410111\n",
      "2013-12-05    1.5038116\n",
      "2013-12-06    1.5180584\n",
      "2013-12-09    1.5319091\n",
      "2013-12-10    1.5081649\n",
      "2013-12-11    1.4883779\n",
      "2013-12-12    1.4729437\n",
      "2013-12-13    1.4519699\n",
      "2013-12-16    1.4598844\n",
      "2013-12-17    1.4452421\n",
      "2013-12-18    1.4476166\n",
      "2013-12-19    1.4345573\n",
      "2013-12-20    1.4563228\n",
      "2013-12-23    1.4491992\n",
      "2013-12-24    1.4674037\n",
      "2013-12-26    1.4816506\n",
      "2013-12-27    1.4757145\n",
      "2013-12-30    1.4757145\n",
      "Name: Adj Close, dtype: float64\n"
     ]
    }
   ],
   "source": [
    "print_info(msft_monthly_cum_ret)\n",
    "# the daily cumulative returns have been grouped by month. In total, we will have 24 groups since we have 24 months."
   ]
  },
  {
   "cell_type": "code",
   "execution_count": 67,
   "id": "180602e8-e5f6-473a-8c73-f15e4fd49817",
   "metadata": {},
   "outputs": [
    {
     "data": {
      "text/plain": [
       "24"
      ]
     },
     "execution_count": 67,
     "metadata": {},
     "output_type": "execute_result"
    }
   ],
   "source": [
    "len(msft_monthly_cum_ret)\n",
    "# 24 groups confirmed."
   ]
  },
  {
   "cell_type": "code",
   "execution_count": 68,
   "id": "5b2ce612-6d5b-474e-9304-46e87b7a54ac",
   "metadata": {},
   "outputs": [
    {
     "data": {
      "text/plain": [
       "Date\n",
       "2012-01-31    20\n",
       "2012-02-29    20\n",
       "2012-03-31    22\n",
       "2012-04-30    20\n",
       "2012-05-31    22\n",
       "2012-06-30    21\n",
       "2012-07-31    21\n",
       "2012-08-31    23\n",
       "2012-09-30    19\n",
       "2012-10-31    21\n",
       "2012-11-30    21\n",
       "2012-12-31    20\n",
       "2013-01-31    21\n",
       "2013-02-28    19\n",
       "2013-03-31    20\n",
       "2013-04-30    22\n",
       "2013-05-31    22\n",
       "2013-06-30    20\n",
       "2013-07-31    22\n",
       "2013-08-31    22\n",
       "2013-09-30    20\n",
       "2013-10-31    23\n",
       "2013-11-30    20\n",
       "2013-12-31    20\n",
       "Freq: M, Name: Adj Close, dtype: int64"
      ]
     },
     "execution_count": 68,
     "metadata": {},
     "output_type": "execute_result"
    }
   ],
   "source": [
    "msft_monthly_cum_ret.size()\n",
    "# size of each group."
   ]
  },
  {
   "cell_type": "code",
   "execution_count": 39,
   "id": "672743de-05c8-461b-b0f0-9a3f4c3e4e78",
   "metadata": {},
   "outputs": [
    {
     "data": {
      "text/plain": [
       "Date\n",
       "2012-01-31    1.0686749\n",
       "2012-02-29    1.1556977\n",
       "2012-03-31    1.2105698\n",
       "2012-04-30    1.1846438\n",
       "2012-05-31    1.1405162\n",
       "2012-06-30    1.1233438\n",
       "2012-07-31    1.1262454\n",
       "2012-08-31    1.1536296\n",
       "2012-09-30    1.1727562\n",
       "2012-10-31    1.1073822\n",
       "2012-11-30    1.0648223\n",
       "2012-12-31    1.0358098\n",
       "2013-01-31    1.0462066\n",
       "2013-02-28    1.0678735\n",
       "2013-03-31    1.0898931\n",
       "2013-04-30    1.1568920\n",
       "2013-05-31    1.3204535\n",
       "2013-06-30    1.3507127\n",
       "2013-07-31    1.3124115\n",
       "2013-08-31    1.2726701\n",
       "2013-09-30    1.2773973\n",
       "2013-10-31    1.3503987\n",
       "2013-11-30    1.4719151\n",
       "2013-12-31    1.4823629\n",
       "Freq: M, Name: Adj Close, dtype: float64"
      ]
     },
     "execution_count": 39,
     "metadata": {},
     "output_type": "execute_result"
    }
   ],
   "source": [
    "msft_monthly_cum_ret.mean()"
   ]
  },
  {
   "cell_type": "code",
   "execution_count": null,
   "id": "11d7c32d-61cc-4ebd-8cae-216cd974382e",
   "metadata": {},
   "outputs": [],
   "source": [
    "msft_cum_ret['2/2012'].mean()\n",
    "# to compare and confirm the mean of feb in immediately above series. Confirmed and the same."
   ]
  },
  {
   "cell_type": "code",
   "execution_count": null,
   "id": "c9a05f6f-25a5-46a9-b2ff-092ebf6e0641",
   "metadata": {},
   "outputs": [],
   "source": [
    "## The above work is almost the end of page 94 in the book. After that, for about 3 pages, the discussion in the book cannot be\n",
    "# implemented here since there is change in the newer version of pandas. But what we can do something extra and interesting follows\n",
    "# as:"
   ]
  },
  {
   "cell_type": "code",
   "execution_count": null,
   "id": "c3db80b4-845f-46b5-9381-146804a1e020",
   "metadata": {},
   "outputs": [],
   "source": [
    "msft"
   ]
  },
  {
   "cell_type": "code",
   "execution_count": null,
   "id": "b53b89d2-3c5b-4718-9cbb-c2042b34b25b",
   "metadata": {},
   "outputs": [],
   "source": [
    "msft_resample = msft.resample('M')\n",
    "# the frequency has been changed to Monthly from Daily."
   ]
  },
  {
   "cell_type": "code",
   "execution_count": null,
   "id": "ce530215-a442-4405-b2d4-2333e6a072ed",
   "metadata": {},
   "outputs": [],
   "source": [
    "msft_resample"
   ]
  },
  {
   "cell_type": "code",
   "execution_count": null,
   "id": "01cded44-8fcb-4241-abc6-94620b4b39c6",
   "metadata": {},
   "outputs": [],
   "source": [
    "for i, k in msft_resample:\n",
    "    print(i)\n",
    "    print(k)\n",
    "# the data has been grouped on monthly basis into 24 groups since we have 24 months.    "
   ]
  },
  {
   "cell_type": "code",
   "execution_count": null,
   "id": "101290f7-5a40-4d1f-847d-3027074f721c",
   "metadata": {},
   "outputs": [],
   "source": [
    "msft_resample.mean().head(3)\n",
    "# mean of high, low, open, close, volume and adj close for each month."
   ]
  },
  {
   "cell_type": "code",
   "execution_count": null,
   "id": "1f5714b5-0b9e-4ce2-b3d5-d5a0140b9f44",
   "metadata": {},
   "outputs": [],
   "source": [
    "msft.loc['1/2012', 'Adj Close'].mean()\n",
    "# confirmed that 'msft_resample.mean()' has produced mean of high, low, open, close, volume and adj close for each month."
   ]
  },
  {
   "cell_type": "code",
   "execution_count": null,
   "id": "839a442b-703f-4537-b699-f8241e182796",
   "metadata": {},
   "outputs": [],
   "source": []
  },
  {
   "cell_type": "code",
   "execution_count": null,
   "id": "b201a36a-2dc7-48a4-b3af-7647dbedce55",
   "metadata": {},
   "outputs": [],
   "source": []
  }
 ],
 "metadata": {
  "kernelspec": {
   "display_name": "Python 3 (ipykernel)",
   "language": "python",
   "name": "python3"
  },
  "language_info": {
   "codemirror_mode": {
    "name": "ipython",
    "version": 3
   },
   "file_extension": ".py",
   "mimetype": "text/x-python",
   "name": "python",
   "nbconvert_exporter": "python",
   "pygments_lexer": "ipython3",
   "version": "3.10.4"
  }
 },
 "nbformat": 4,
 "nbformat_minor": 5
}
