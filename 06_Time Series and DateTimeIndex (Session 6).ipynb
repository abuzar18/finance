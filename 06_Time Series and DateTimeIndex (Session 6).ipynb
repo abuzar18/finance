{
 "cells": [
  {
   "cell_type": "code",
   "execution_count": 1,
   "id": "a1d8212d-1553-4c3c-9bb9-3ba62eda3100",
   "metadata": {},
   "outputs": [],
   "source": [
    "# Bismillah"
   ]
  },
  {
   "cell_type": "code",
   "execution_count": 2,
   "id": "e2e11f92",
   "metadata": {},
   "outputs": [],
   "source": [
    "#pip install pandas_datareader"
   ]
  },
  {
   "cell_type": "code",
   "execution_count": 3,
   "id": "1e10a20b-ea03-4b15-ad40-470c878da1d6",
   "metadata": {},
   "outputs": [],
   "source": [
    "import numpy as np\n",
    "import pandas as pd\n",
    "import datetime as dt\n",
    "import matplotlib.pyplot as plt\n",
    "%matplotlib inline\n",
    "pd.set_option('precision', 7)\n",
    "from pandas_datareader import data"
   ]
  },
  {
   "cell_type": "code",
   "execution_count": 4,
   "id": "54f691f5-be4f-411d-be19-e9913eab5752",
   "metadata": {},
   "outputs": [
    {
     "data": {
      "text/plain": [
       "int"
      ]
     },
     "execution_count": 4,
     "metadata": {},
     "output_type": "execute_result"
    }
   ],
   "source": [
    "type(2014-8-1)\n",
    "# it looks date to us, but for pandas, it is just an int. So, the operations permitted on date cannot be performed\n",
    "# on this int.\n",
    "# If we enter date in this format in datetime function, shown below, then we will get error since pandas does not\n",
    "# recognize date in this format as a date."
   ]
  },
  {
   "cell_type": "code",
   "execution_count": 5,
   "id": "e6434fdd-2452-4564-bf76-fd244a4467e2",
   "metadata": {},
   "outputs": [
    {
     "data": {
      "text/plain": [
       "8"
      ]
     },
     "execution_count": 5,
     "metadata": {},
     "output_type": "execute_result"
    }
   ],
   "source": [
    "dt.datetime(2014, 8, 1).month\n",
    "# datetime object created. So, relevant operations can be performed on it now.\n",
    "# year, month, day, hours, minutes, seconds, and microseconds must be seperated by a comma."
   ]
  },
  {
   "cell_type": "code",
   "execution_count": 6,
   "id": "263fc29a-4b30-42db-b19e-0ae2996f846a",
   "metadata": {},
   "outputs": [
    {
     "data": {
      "text/plain": [
       "datetime.datetime"
      ]
     },
     "execution_count": 6,
     "metadata": {},
     "output_type": "execute_result"
    }
   ],
   "source": [
    "type(dt.datetime(2014, 8, 1, 9, 30, 45, 100000))"
   ]
  },
  {
   "cell_type": "code",
   "execution_count": 7,
   "id": "7136a38e-fd8f-4163-957d-84a0ff30992c",
   "metadata": {},
   "outputs": [
    {
     "data": {
      "text/plain": [
       "[datetime.datetime(2014, 8, 1, 0, 0), datetime.datetime(2014, 8, 2, 0, 0)]"
      ]
     },
     "execution_count": 7,
     "metadata": {},
     "output_type": "execute_result"
    }
   ],
   "source": [
    "dates = [dt.datetime(2014, 8, 1), dt.datetime(2014, 8, 2)]\n",
    "dates\n",
    "# a list of datetime objects created."
   ]
  },
  {
   "cell_type": "code",
   "execution_count": 8,
   "id": "31a8d4d9-f1a1-44e5-b269-f97c4013c36c",
   "metadata": {},
   "outputs": [
    {
     "data": {
      "text/plain": [
       "list"
      ]
     },
     "execution_count": 8,
     "metadata": {},
     "output_type": "execute_result"
    }
   ],
   "source": [
    "type(dates)"
   ]
  },
  {
   "cell_type": "code",
   "execution_count": 9,
   "id": "dc015455-941d-4aa5-b9b1-0fc6b4182616",
   "metadata": {},
   "outputs": [
    {
     "data": {
      "text/plain": [
       "datetime.datetime"
      ]
     },
     "execution_count": 9,
     "metadata": {},
     "output_type": "execute_result"
    }
   ],
   "source": [
    "type(dates[1])"
   ]
  },
  {
   "cell_type": "code",
   "execution_count": 10,
   "id": "b528a867-9408-49cb-b650-e7701860bd76",
   "metadata": {},
   "outputs": [
    {
     "data": {
      "text/plain": [
       "DatetimeIndex(['2014-08-01', '2014-08-02'], dtype='datetime64[ns]', freq=None)"
      ]
     },
     "execution_count": 10,
     "metadata": {},
     "output_type": "execute_result"
    }
   ],
   "source": [
    "dti = pd.DatetimeIndex(dates)\n",
    "dti\n",
    "# datetime index created from a list of datetime objects. Each item in DatetimeIndex is an object of Timestamp class."
   ]
  },
  {
   "cell_type": "code",
   "execution_count": 11,
   "id": "2f9a4eda-0cae-42b2-93cf-0946e5eb0eaf",
   "metadata": {},
   "outputs": [
    {
     "data": {
      "text/plain": [
       "pandas.core.indexes.datetimes.DatetimeIndex"
      ]
     },
     "execution_count": 11,
     "metadata": {},
     "output_type": "execute_result"
    }
   ],
   "source": [
    "type(dti)"
   ]
  },
  {
   "cell_type": "code",
   "execution_count": 12,
   "id": "5c67c91b-873e-4412-bf0a-551228e83150",
   "metadata": {},
   "outputs": [
    {
     "data": {
      "text/plain": [
       "pandas._libs.tslibs.timestamps.Timestamp"
      ]
     },
     "execution_count": 12,
     "metadata": {},
     "output_type": "execute_result"
    }
   ],
   "source": [
    "type(dti[0])"
   ]
  },
  {
   "cell_type": "code",
   "execution_count": 13,
   "id": "7a8783eb-ba75-45a6-8419-b0cdc6073ff1",
   "metadata": {},
   "outputs": [
    {
     "data": {
      "text/plain": [
       "0    1.2448113\n",
       "1   -1.3911497\n",
       "dtype: float64"
      ]
     },
     "execution_count": 13,
     "metadata": {},
     "output_type": "execute_result"
    }
   ],
   "source": [
    "ts = pd.Series(np.random.randn(2))\n",
    "ts\n",
    "# the index is zero-based integer index."
   ]
  },
  {
   "cell_type": "code",
   "execution_count": 14,
   "id": "85c0cc02-51c1-4622-8916-109b1d87f937",
   "metadata": {},
   "outputs": [
    {
     "data": {
      "text/plain": [
       "pandas.core.series.Series"
      ]
     },
     "execution_count": 14,
     "metadata": {},
     "output_type": "execute_result"
    }
   ],
   "source": [
    "type(ts)"
   ]
  },
  {
   "cell_type": "code",
   "execution_count": 15,
   "id": "a5829c5f-1bea-4371-877d-b43df1c5b509",
   "metadata": {},
   "outputs": [
    {
     "data": {
      "text/plain": [
       "2014-08-01   -1.0236142\n",
       "2014-08-02   -0.0644776\n",
       "dtype: float64"
      ]
     },
     "execution_count": 15,
     "metadata": {},
     "output_type": "execute_result"
    }
   ],
   "source": [
    "ts1 = pd.Series(np.random.randn(2), dates)\n",
    "ts1\n",
    "# the index is datetime index rather than zero-based integer index.\n",
    "# a series will automatically construct a DatetimeIndex as its index when passing a list of datetime objects (dates)\n",
    "# as the index parameter."
   ]
  },
  {
   "cell_type": "code",
   "execution_count": 16,
   "id": "a69f02db-6635-48c8-a5a1-b539c00c7c04",
   "metadata": {},
   "outputs": [
    {
     "data": {
      "text/plain": [
       "pandas.core.series.Series"
      ]
     },
     "execution_count": 16,
     "metadata": {},
     "output_type": "execute_result"
    }
   ],
   "source": [
    "type(ts1)"
   ]
  },
  {
   "cell_type": "code",
   "execution_count": 17,
   "id": "01ede082-2bca-47df-9e7c-73655a53e816",
   "metadata": {},
   "outputs": [
    {
     "data": {
      "text/plain": [
       "2014-08-01    0.8520248\n",
       "2014-08-02   -1.4999467\n",
       "dtype: float64"
      ]
     },
     "execution_count": 17,
     "metadata": {},
     "output_type": "execute_result"
    }
   ],
   "source": [
    "ts2 = pd.Series(np.random.randn(2), dti)\n",
    "ts2\n",
    "# here we have directly passed the DatetimeIndex as the index parameter."
   ]
  },
  {
   "cell_type": "code",
   "execution_count": 18,
   "id": "0c119c87-d974-4440-bf60-bdec1705dfb2",
   "metadata": {},
   "outputs": [
    {
     "data": {
      "text/plain": [
       "pandas.core.series.Series"
      ]
     },
     "execution_count": 18,
     "metadata": {},
     "output_type": "execute_result"
    }
   ],
   "source": [
    "type(ts2)"
   ]
  },
  {
   "cell_type": "code",
   "execution_count": 19,
   "id": "ba11874a-3a92-4130-9a60-2943c27151a7",
   "metadata": {},
   "outputs": [
    {
     "data": {
      "text/plain": [
       "DatetimeIndex(['2014-08-01', '2014-08-02'], dtype='datetime64[ns]', freq=None)"
      ]
     },
     "execution_count": 19,
     "metadata": {},
     "output_type": "execute_result"
    }
   ],
   "source": [
    "ts2.index\n",
    "# the index of the series is DatetimeIndex as can be confirmed from the following type command."
   ]
  },
  {
   "cell_type": "code",
   "execution_count": 20,
   "id": "378245bf-4465-4c10-b5c2-b763e46302c7",
   "metadata": {},
   "outputs": [
    {
     "data": {
      "text/plain": [
       "pandas.core.indexes.datetimes.DatetimeIndex"
      ]
     },
     "execution_count": 20,
     "metadata": {},
     "output_type": "execute_result"
    }
   ],
   "source": [
    "type(ts2.index)"
   ]
  },
  {
   "cell_type": "code",
   "execution_count": 21,
   "id": "cf80214f-f083-4958-9250-073f98c456f2",
   "metadata": {},
   "outputs": [],
   "source": [
    "# Important: The series object has taken the datetime objects (contained in the variable, dates) and constructed a \n",
    "# DatetimeIndex from the date values contained in the datetime objects. Each value of the DatetimeIndex is the \n",
    "# Timestamp object and each element (Timestamp) of the DatetimeIndex can be used to access the corresponding value in\n",
    "# the Series object. This is demonstrated in the following:"
   ]
  },
  {
   "cell_type": "code",
   "execution_count": 22,
   "id": "e000d83a-a8aa-4c39-8c85-a50ad85c4d5b",
   "metadata": {},
   "outputs": [
    {
     "data": {
      "text/plain": [
       "2014-08-01    0.8520248\n",
       "2014-08-02   -1.4999467\n",
       "dtype: float64"
      ]
     },
     "execution_count": 22,
     "metadata": {},
     "output_type": "execute_result"
    }
   ],
   "source": [
    "ts2"
   ]
  },
  {
   "cell_type": "code",
   "execution_count": 23,
   "id": "4b20a8e5-ddeb-4441-844c-a18ef7281d78",
   "metadata": {},
   "outputs": [
    {
     "data": {
      "text/plain": [
       "0.8520248300091848"
      ]
     },
     "execution_count": 23,
     "metadata": {},
     "output_type": "execute_result"
    }
   ],
   "source": [
    "ts2['2014-08-01']\n",
    "# first row retreived using [] without slicing, loc or iloc. It is possible because there is only one column since\n",
    "# this is a series. So, all we can give is an argument for a row or rows so pandas doesn't get confused."
   ]
  },
  {
   "cell_type": "code",
   "execution_count": 24,
   "id": "ba2142ec-9f3c-4787-845e-5e0ec29b7dad",
   "metadata": {},
   "outputs": [
    {
     "data": {
      "text/plain": [
       "2014-08-01    0.8520248\n",
       "2014-08-02   -1.4999467\n",
       "dtype: float64"
      ]
     },
     "execution_count": 24,
     "metadata": {},
     "output_type": "execute_result"
    }
   ],
   "source": [
    "ts2['2014-08-01':'2014-08-02']\n",
    "# the end date is inclusive."
   ]
  },
  {
   "cell_type": "code",
   "execution_count": 25,
   "id": "924366b7-9ece-4cf7-9023-6941966c6b68",
   "metadata": {},
   "outputs": [
    {
     "data": {
      "text/plain": [
       "0.8520248300091848"
      ]
     },
     "execution_count": 25,
     "metadata": {},
     "output_type": "execute_result"
    }
   ],
   "source": [
    "ts2[dt.datetime(2014, 8, 1)]\n",
    "# instead of using the date in the string with - seperator, we can use the date with , seperator without '' to produce\n",
    "# the same output."
   ]
  },
  {
   "cell_type": "code",
   "execution_count": 26,
   "id": "7482613f-f6e0-4366-8162-e41e184f8153",
   "metadata": {},
   "outputs": [],
   "source": [
    "# The next method to create DatetimeIndex by passing a list of dates in string as shown below:"
   ]
  },
  {
   "cell_type": "code",
   "execution_count": 27,
   "id": "eddcb5c9-b319-4dcb-8b82-673128f34c66",
   "metadata": {},
   "outputs": [
    {
     "data": {
      "text/plain": [
       "['2014-08-01', '2014-08-02']"
      ]
     },
     "execution_count": 27,
     "metadata": {},
     "output_type": "execute_result"
    }
   ],
   "source": [
    "dates = ['2014-08-01', '2014-08-02']\n",
    "dates"
   ]
  },
  {
   "cell_type": "code",
   "execution_count": 28,
   "id": "56e3d474-a7f1-46b3-8bce-03e93a6387d3",
   "metadata": {},
   "outputs": [
    {
     "data": {
      "text/plain": [
       "list"
      ]
     },
     "execution_count": 28,
     "metadata": {},
     "output_type": "execute_result"
    }
   ],
   "source": [
    "type(dates)\n",
    "# list of strings."
   ]
  },
  {
   "cell_type": "code",
   "execution_count": 29,
   "id": "de4323c9-272a-4b67-9739-7a1a9dc08bfd",
   "metadata": {},
   "outputs": [
    {
     "data": {
      "text/plain": [
       "str"
      ]
     },
     "execution_count": 29,
     "metadata": {},
     "output_type": "execute_result"
    }
   ],
   "source": [
    "type(dates[0])\n",
    "# the first element (date) in the list is of type string and the same is the second element."
   ]
  },
  {
   "cell_type": "code",
   "execution_count": 30,
   "id": "b52d6d88-f734-4a94-9651-32b58982cf29",
   "metadata": {},
   "outputs": [
    {
     "data": {
      "text/plain": [
       "2014-08-01    0.0734030\n",
       "2014-08-02    0.4643571\n",
       "dtype: float64"
      ]
     },
     "execution_count": 30,
     "metadata": {},
     "output_type": "execute_result"
    }
   ],
   "source": [
    "ts3 = pd.Series(np.random.randn(2), dates)\n",
    "ts3\n",
    "# here dates as a string have been passed as an index argument. But the pandas itself figured out that these are dates\n",
    "# and converted them into DatetimeIndex as shown below."
   ]
  },
  {
   "cell_type": "code",
   "execution_count": 31,
   "id": "189143dd-6f7d-4234-85b7-15ce8ba83982",
   "metadata": {},
   "outputs": [
    {
     "data": {
      "text/plain": [
       "pandas.core.indexes.base.Index"
      ]
     },
     "execution_count": 31,
     "metadata": {},
     "output_type": "execute_result"
    }
   ],
   "source": [
    "type(ts3.index)"
   ]
  },
  {
   "cell_type": "code",
   "execution_count": 32,
   "id": "564d662a-d99c-4adc-9737-44fece7fea35",
   "metadata": {},
   "outputs": [],
   "source": [
    "# convert a list of mixed type items/elements into DatetimeIndex using pandas' function, to_datetime()."
   ]
  },
  {
   "cell_type": "code",
   "execution_count": 33,
   "id": "817c81f1-a7e8-4a37-8a28-caec69a6fbc1",
   "metadata": {},
   "outputs": [
    {
     "data": {
      "text/plain": [
       "DatetimeIndex(['2014-08-01', '2014-08-02', '2014-08-03', 'NaT'], dtype='datetime64[ns]', freq=None)"
      ]
     },
     "execution_count": 33,
     "metadata": {},
     "output_type": "execute_result"
    }
   ],
   "source": [
    "dti2 = pd.to_datetime(['Aug1 2014', '2014-08-02', '2014.8.3', None])\n",
    "dti2\n",
    "# note that all are strings in the list except the keyword, None.\n",
    "# all the strings have been converted into DatetimeIndex (pandas recognized dates as shown below:)\n",
    "# None has been converted into NaT (not a time-value), which means that the source data could not be converted into\n",
    "# datetime."
   ]
  },
  {
   "cell_type": "code",
   "execution_count": 34,
   "id": "d2f68f0e-43ea-4e58-b547-f35c14761bb5",
   "metadata": {},
   "outputs": [
    {
     "data": {
      "text/plain": [
       "pandas.core.indexes.datetimes.DatetimeIndex"
      ]
     },
     "execution_count": 34,
     "metadata": {},
     "output_type": "execute_result"
    }
   ],
   "source": [
    "type(dti2)"
   ]
  },
  {
   "cell_type": "code",
   "execution_count": 35,
   "id": "68f43b44-e24b-454d-b42e-17dbd0034f7b",
   "metadata": {},
   "outputs": [],
   "source": [
    "#dti3 = pd.to_datetime(['Aug 1, 2014', '2014-08-02', '2014.8.3', 'foo'], coerce = True)\n",
    "# gives error. pandas cannot parse 'foo' since it does not seem like a date. Previously, pandas recognized the keyword\n",
    "# None, so didn't give the error and produced NaT. Also, the coerce parameter is not working here unlike in the book."
   ]
  },
  {
   "cell_type": "code",
   "execution_count": 36,
   "id": "c96d50b8-59a2-4c46-a868-0a4a718f793d",
   "metadata": {},
   "outputs": [],
   "source": [
    "# Changing the date order: The default order is "
   ]
  },
  {
   "cell_type": "code",
   "execution_count": 37,
   "id": "3a0b100d-3b9b-4a55-9028-3210fdcee4a4",
   "metadata": {},
   "outputs": [
    {
     "data": {
      "text/plain": [
       "DatetimeIndex(['2014-08-01'], dtype='datetime64[ns]', freq=None)"
      ]
     },
     "execution_count": 37,
     "metadata": {},
     "output_type": "execute_result"
    }
   ],
   "source": [
    "dti = pd.to_datetime(['2014, 8, 1'])\n",
    "dti\n",
    "# 8 is taken as a month and 1 as a date."
   ]
  },
  {
   "cell_type": "code",
   "execution_count": 38,
   "id": "506a70bc-6ecf-4175-822a-8ffc8e37ca59",
   "metadata": {},
   "outputs": [
    {
     "data": {
      "text/plain": [
       "DatetimeIndex(['2014-08-01'], dtype='datetime64[ns]', freq=None)"
      ]
     },
     "execution_count": 38,
     "metadata": {},
     "output_type": "execute_result"
    }
   ],
   "source": [
    "dti = pd.to_datetime(['8, 1, 2014'])\n",
    "dti\n",
    "# same result produced, 8 is the month and 1 is the date."
   ]
  },
  {
   "cell_type": "code",
   "execution_count": 39,
   "id": "b6e17dbc-a0da-4bfd-812f-95d4f3e9bed7",
   "metadata": {},
   "outputs": [
    {
     "data": {
      "text/plain": [
       "DatetimeIndex(['2014-01-08'], dtype='datetime64[ns]', freq=None)"
      ]
     },
     "execution_count": 39,
     "metadata": {},
     "output_type": "execute_result"
    }
   ],
   "source": [
    "dti = pd.to_datetime(['8, 1, 2014'], dayfirst = True)\n",
    "dti\n",
    "# if we mean to say that the date is 8th of January, then we have to tell pandas that the first argument is the day or\n",
    "# date by typing 'dayfirst = True' since by default pandas will treat the first value as the month and the second as\n",
    "# a day or date.\n",
    "# now the date is 8th of January as we desired."
   ]
  },
  {
   "cell_type": "code",
   "execution_count": 40,
   "id": "fe1c8fd4-9bea-4e19-8f5f-abcada9b64bd",
   "metadata": {},
   "outputs": [
    {
     "data": {
      "text/plain": [
       "Timestamp('2014-01-08 00:00:00')"
      ]
     },
     "execution_count": 40,
     "metadata": {},
     "output_type": "execute_result"
    }
   ],
   "source": [
    "dti[0]"
   ]
  },
  {
   "cell_type": "code",
   "execution_count": 41,
   "id": "2d7f491e-65e7-402b-bf75-91f834f7e71c",
   "metadata": {},
   "outputs": [],
   "source": [
    "# Using date_range function to create DatetineIndex (a series of TimeStamps):"
   ]
  },
  {
   "cell_type": "code",
   "execution_count": 42,
   "id": "09d44b18-69ac-44c9-b682-7c435a6e5e9a",
   "metadata": {},
   "outputs": [
    {
     "data": {
      "text/plain": [
       "DatetimeIndex(['2014-08-01', '2014-08-02', '2014-08-03', '2014-08-04',\n",
       "               '2014-08-05', '2014-08-06', '2014-08-07', '2014-08-08',\n",
       "               '2014-08-09', '2014-08-10'],\n",
       "              dtype='datetime64[ns]', freq='D')"
      ]
     },
     "execution_count": 42,
     "metadata": {},
     "output_type": "execute_result"
    }
   ],
   "source": [
    "dates = pd.date_range('8, 1, 2014', periods = 10)\n",
    "dates"
   ]
  },
  {
   "cell_type": "code",
   "execution_count": 43,
   "id": "d7e0a619-2b9a-42e0-986e-adc364af049d",
   "metadata": {},
   "outputs": [
    {
     "data": {
      "text/plain": [
       "2014-08-01    1.3243786\n",
       "2014-08-02    0.8686872\n",
       "2014-08-03    1.7705583\n",
       "2014-08-04    0.8948812\n",
       "2014-08-05    0.2853944\n",
       "2014-08-06   -0.0523608\n",
       "2014-08-07    0.5462764\n",
       "2014-08-08    2.2903047\n",
       "2014-08-09   -0.4275418\n",
       "2014-08-10   -0.8488491\n",
       "Freq: D, dtype: float64"
      ]
     },
     "execution_count": 43,
     "metadata": {},
     "output_type": "execute_result"
    }
   ],
   "source": [
    "s1 = pd.Series(np.random.randn(10), dates)\n",
    "s1"
   ]
  },
  {
   "cell_type": "code",
   "execution_count": 44,
   "id": "8e481936-569d-4218-9cfe-2fb25b8c936c",
   "metadata": {},
   "outputs": [
    {
     "data": {
      "text/plain": [
       "DatetimeIndex(['2014-08-01', '2014-08-02', '2014-08-03', '2014-08-04',\n",
       "               '2014-08-05', '2014-08-06', '2014-08-07', '2014-08-08',\n",
       "               '2014-08-09', '2014-08-10'],\n",
       "              dtype='datetime64[ns]', freq='D')"
      ]
     },
     "execution_count": 44,
     "metadata": {},
     "output_type": "execute_result"
    }
   ],
   "source": [
    "s1.index"
   ]
  },
  {
   "cell_type": "code",
   "execution_count": 45,
   "id": "4e0287a1-caed-4bc6-9d5f-9c389fe97f5b",
   "metadata": {},
   "outputs": [
    {
     "data": {
      "text/plain": [
       "pandas.core.indexes.datetimes.DatetimeIndex"
      ]
     },
     "execution_count": 45,
     "metadata": {},
     "output_type": "execute_result"
    }
   ],
   "source": [
    "type(s1.index)"
   ]
  },
  {
   "cell_type": "markdown",
   "id": "39bb6256-9079-4eb4-b480-20bbbb859b24",
   "metadata": {},
   "source": [
    "# S&P 500 Example:"
   ]
  },
  {
   "cell_type": "code",
   "execution_count": 46,
   "id": "d1b05e87-a2a0-4523-afc9-f284ce442d4c",
   "metadata": {},
   "outputs": [
    {
     "data": {
      "text/html": [
       "<div>\n",
       "<style scoped>\n",
       "    .dataframe tbody tr th:only-of-type {\n",
       "        vertical-align: middle;\n",
       "    }\n",
       "\n",
       "    .dataframe tbody tr th {\n",
       "        vertical-align: top;\n",
       "    }\n",
       "\n",
       "    .dataframe thead th {\n",
       "        text-align: right;\n",
       "    }\n",
       "</style>\n",
       "<table border=\"1\" class=\"dataframe\">\n",
       "  <thead>\n",
       "    <tr style=\"text-align: right;\">\n",
       "      <th></th>\n",
       "      <th>High</th>\n",
       "      <th>Low</th>\n",
       "      <th>Open</th>\n",
       "      <th>Close</th>\n",
       "      <th>Volume</th>\n",
       "      <th>Adj Close</th>\n",
       "    </tr>\n",
       "    <tr>\n",
       "      <th>Date</th>\n",
       "      <th></th>\n",
       "      <th></th>\n",
       "      <th></th>\n",
       "      <th></th>\n",
       "      <th></th>\n",
       "      <th></th>\n",
       "    </tr>\n",
       "  </thead>\n",
       "  <tbody>\n",
       "    <tr>\n",
       "      <th>2012-01-03</th>\n",
       "      <td>26.9599991</td>\n",
       "      <td>26.3899994</td>\n",
       "      <td>26.5499992</td>\n",
       "      <td>26.7700005</td>\n",
       "      <td>64731500.0</td>\n",
       "      <td>21.6231327</td>\n",
       "    </tr>\n",
       "    <tr>\n",
       "      <th>2012-01-04</th>\n",
       "      <td>27.4699993</td>\n",
       "      <td>26.7800007</td>\n",
       "      <td>26.8199997</td>\n",
       "      <td>27.3999996</td>\n",
       "      <td>80516100.0</td>\n",
       "      <td>22.1320114</td>\n",
       "    </tr>\n",
       "    <tr>\n",
       "      <th>2012-01-05</th>\n",
       "      <td>27.7299995</td>\n",
       "      <td>27.2900009</td>\n",
       "      <td>27.3799992</td>\n",
       "      <td>27.6800003</td>\n",
       "      <td>56081400.0</td>\n",
       "      <td>22.3581753</td>\n",
       "    </tr>\n",
       "    <tr>\n",
       "      <th>2012-01-06</th>\n",
       "      <td>28.1900005</td>\n",
       "      <td>27.5300007</td>\n",
       "      <td>27.5300007</td>\n",
       "      <td>28.1100006</td>\n",
       "      <td>99455500.0</td>\n",
       "      <td>22.7055073</td>\n",
       "    </tr>\n",
       "    <tr>\n",
       "      <th>2012-01-09</th>\n",
       "      <td>28.1000004</td>\n",
       "      <td>27.7199993</td>\n",
       "      <td>28.0499992</td>\n",
       "      <td>27.7399998</td>\n",
       "      <td>59706800.0</td>\n",
       "      <td>22.4066372</td>\n",
       "    </tr>\n",
       "    <tr>\n",
       "      <th>...</th>\n",
       "      <td>...</td>\n",
       "      <td>...</td>\n",
       "      <td>...</td>\n",
       "      <td>...</td>\n",
       "      <td>...</td>\n",
       "      <td>...</td>\n",
       "    </tr>\n",
       "    <tr>\n",
       "      <th>2013-12-23</th>\n",
       "      <td>36.8899994</td>\n",
       "      <td>36.5499992</td>\n",
       "      <td>36.8100014</td>\n",
       "      <td>36.6199989</td>\n",
       "      <td>25128700.0</td>\n",
       "      <td>31.3362370</td>\n",
       "    </tr>\n",
       "    <tr>\n",
       "      <th>2013-12-24</th>\n",
       "      <td>37.1699982</td>\n",
       "      <td>36.6399994</td>\n",
       "      <td>36.7200012</td>\n",
       "      <td>37.0800018</td>\n",
       "      <td>14243000.0</td>\n",
       "      <td>31.7298622</td>\n",
       "    </tr>\n",
       "    <tr>\n",
       "      <th>2013-12-26</th>\n",
       "      <td>37.4900017</td>\n",
       "      <td>37.1699982</td>\n",
       "      <td>37.2000008</td>\n",
       "      <td>37.4399986</td>\n",
       "      <td>17612800.0</td>\n",
       "      <td>32.0379295</td>\n",
       "    </tr>\n",
       "    <tr>\n",
       "      <th>2013-12-27</th>\n",
       "      <td>37.6199989</td>\n",
       "      <td>37.1699982</td>\n",
       "      <td>37.5800018</td>\n",
       "      <td>37.2900009</td>\n",
       "      <td>14563000.0</td>\n",
       "      <td>31.9095669</td>\n",
       "    </tr>\n",
       "    <tr>\n",
       "      <th>2013-12-30</th>\n",
       "      <td>37.3800011</td>\n",
       "      <td>36.9000015</td>\n",
       "      <td>37.2200012</td>\n",
       "      <td>37.2900009</td>\n",
       "      <td>16290500.0</td>\n",
       "      <td>31.9095669</td>\n",
       "    </tr>\n",
       "  </tbody>\n",
       "</table>\n",
       "<p>501 rows × 6 columns</p>\n",
       "</div>"
      ],
      "text/plain": [
       "                  High         Low        Open       Close      Volume  \\\n",
       "Date                                                                     \n",
       "2012-01-03  26.9599991  26.3899994  26.5499992  26.7700005  64731500.0   \n",
       "2012-01-04  27.4699993  26.7800007  26.8199997  27.3999996  80516100.0   \n",
       "2012-01-05  27.7299995  27.2900009  27.3799992  27.6800003  56081400.0   \n",
       "2012-01-06  28.1900005  27.5300007  27.5300007  28.1100006  99455500.0   \n",
       "2012-01-09  28.1000004  27.7199993  28.0499992  27.7399998  59706800.0   \n",
       "...                ...         ...         ...         ...         ...   \n",
       "2013-12-23  36.8899994  36.5499992  36.8100014  36.6199989  25128700.0   \n",
       "2013-12-24  37.1699982  36.6399994  36.7200012  37.0800018  14243000.0   \n",
       "2013-12-26  37.4900017  37.1699982  37.2000008  37.4399986  17612800.0   \n",
       "2013-12-27  37.6199989  37.1699982  37.5800018  37.2900009  14563000.0   \n",
       "2013-12-30  37.3800011  36.9000015  37.2200012  37.2900009  16290500.0   \n",
       "\n",
       "             Adj Close  \n",
       "Date                    \n",
       "2012-01-03  21.6231327  \n",
       "2012-01-04  22.1320114  \n",
       "2012-01-05  22.3581753  \n",
       "2012-01-06  22.7055073  \n",
       "2012-01-09  22.4066372  \n",
       "...                ...  \n",
       "2013-12-23  31.3362370  \n",
       "2013-12-24  31.7298622  \n",
       "2013-12-26  32.0379295  \n",
       "2013-12-27  31.9095669  \n",
       "2013-12-30  31.9095669  \n",
       "\n",
       "[501 rows x 6 columns]"
      ]
     },
     "execution_count": 46,
     "metadata": {},
     "output_type": "execute_result"
    }
   ],
   "source": [
    "msft = data.DataReader('MSFT', 'yahoo', '2012-1-1', '2013-12-30')\n",
    "msft"
   ]
  },
  {
   "cell_type": "code",
   "execution_count": 47,
   "id": "2528e749-c52e-4ec6-9e2a-59b3420eb274",
   "metadata": {},
   "outputs": [
    {
     "data": {
      "text/html": [
       "<div>\n",
       "<style scoped>\n",
       "    .dataframe tbody tr th:only-of-type {\n",
       "        vertical-align: middle;\n",
       "    }\n",
       "\n",
       "    .dataframe tbody tr th {\n",
       "        vertical-align: top;\n",
       "    }\n",
       "\n",
       "    .dataframe thead th {\n",
       "        text-align: right;\n",
       "    }\n",
       "</style>\n",
       "<table border=\"1\" class=\"dataframe\">\n",
       "  <thead>\n",
       "    <tr style=\"text-align: right;\">\n",
       "      <th></th>\n",
       "      <th>High</th>\n",
       "      <th>Low</th>\n",
       "    </tr>\n",
       "    <tr>\n",
       "      <th>Date</th>\n",
       "      <th></th>\n",
       "      <th></th>\n",
       "    </tr>\n",
       "  </thead>\n",
       "  <tbody>\n",
       "    <tr>\n",
       "      <th>2012-01-03</th>\n",
       "      <td>26.9599991</td>\n",
       "      <td>26.3899994</td>\n",
       "    </tr>\n",
       "    <tr>\n",
       "      <th>2012-01-04</th>\n",
       "      <td>27.4699993</td>\n",
       "      <td>26.7800007</td>\n",
       "    </tr>\n",
       "    <tr>\n",
       "      <th>2012-01-05</th>\n",
       "      <td>27.7299995</td>\n",
       "      <td>27.2900009</td>\n",
       "    </tr>\n",
       "    <tr>\n",
       "      <th>2012-01-06</th>\n",
       "      <td>28.1900005</td>\n",
       "      <td>27.5300007</td>\n",
       "    </tr>\n",
       "    <tr>\n",
       "      <th>2012-01-09</th>\n",
       "      <td>28.1000004</td>\n",
       "      <td>27.7199993</td>\n",
       "    </tr>\n",
       "    <tr>\n",
       "      <th>...</th>\n",
       "      <td>...</td>\n",
       "      <td>...</td>\n",
       "    </tr>\n",
       "    <tr>\n",
       "      <th>2013-12-23</th>\n",
       "      <td>36.8899994</td>\n",
       "      <td>36.5499992</td>\n",
       "    </tr>\n",
       "    <tr>\n",
       "      <th>2013-12-24</th>\n",
       "      <td>37.1699982</td>\n",
       "      <td>36.6399994</td>\n",
       "    </tr>\n",
       "    <tr>\n",
       "      <th>2013-12-26</th>\n",
       "      <td>37.4900017</td>\n",
       "      <td>37.1699982</td>\n",
       "    </tr>\n",
       "    <tr>\n",
       "      <th>2013-12-27</th>\n",
       "      <td>37.6199989</td>\n",
       "      <td>37.1699982</td>\n",
       "    </tr>\n",
       "    <tr>\n",
       "      <th>2013-12-30</th>\n",
       "      <td>37.3800011</td>\n",
       "      <td>36.9000015</td>\n",
       "    </tr>\n",
       "  </tbody>\n",
       "</table>\n",
       "<p>501 rows × 2 columns</p>\n",
       "</div>"
      ],
      "text/plain": [
       "                  High         Low\n",
       "Date                              \n",
       "2012-01-03  26.9599991  26.3899994\n",
       "2012-01-04  27.4699993  26.7800007\n",
       "2012-01-05  27.7299995  27.2900009\n",
       "2012-01-06  28.1900005  27.5300007\n",
       "2012-01-09  28.1000004  27.7199993\n",
       "...                ...         ...\n",
       "2013-12-23  36.8899994  36.5499992\n",
       "2013-12-24  37.1699982  36.6399994\n",
       "2013-12-26  37.4900017  37.1699982\n",
       "2013-12-27  37.6199989  37.1699982\n",
       "2013-12-30  37.3800011  36.9000015\n",
       "\n",
       "[501 rows x 2 columns]"
      ]
     },
     "execution_count": 47,
     "metadata": {},
     "output_type": "execute_result"
    }
   ],
   "source": [
    "msft[['High', 'Low']]\n",
    "# Thus, using DatetimeIndex, any desirable part of the dataframe can be accessed for any period."
   ]
  },
  {
   "cell_type": "code",
   "execution_count": 48,
   "id": "9d90d661-196b-4134-aba6-0719a8053787",
   "metadata": {},
   "outputs": [
    {
     "data": {
      "text/plain": [
       "Date\n",
       "2012-01-03    21.6231327\n",
       "2012-01-04    22.1320114\n",
       "2012-01-05    22.3581753\n",
       "2012-01-06    22.7055073\n",
       "2012-01-09    22.4066372\n",
       "Name: Adj Close, dtype: float64"
      ]
     },
     "execution_count": 48,
     "metadata": {},
     "output_type": "execute_result"
    }
   ],
   "source": [
    "msftAC = msft['Adj Close']\n",
    "msftAC.head(5)"
   ]
  },
  {
   "cell_type": "code",
   "execution_count": 49,
   "id": "108bdc83-16d0-4c25-b8cb-a5ec42d4abaf",
   "metadata": {},
   "outputs": [
    {
     "data": {
      "text/plain": [
       "21.623132705688477"
      ]
     },
     "execution_count": 49,
     "metadata": {},
     "output_type": "execute_result"
    }
   ],
   "source": [
    "msftAC['2012-01-03']\n",
    "# Nothe that msftAC is a series, therefore, a row index (which is DatetimeIndex) can be used with [] without slicing, \n",
    "# loc or iloc. "
   ]
  },
  {
   "cell_type": "code",
   "execution_count": 50,
   "id": "7c03121a-9f49-4e81-b4f9-9d2885506b8e",
   "metadata": {},
   "outputs": [
    {
     "data": {
      "text/plain": [
       "Date\n",
       "2012-01-03    21.6231327\n",
       "2012-01-04    22.1320114\n",
       "2012-01-05    22.3581753\n",
       "Name: Adj Close, dtype: float64"
      ]
     },
     "execution_count": 50,
     "metadata": {},
     "output_type": "execute_result"
    }
   ],
   "source": [
    "msftAC['2012-01-01':'2012-01-05']\n",
    "# DatetimeIndex can easily allow access to any chunk of dataframe for any desirable period."
   ]
  },
  {
   "cell_type": "code",
   "execution_count": 51,
   "id": "6180b06d-f740-4278-8d88-48051dedb382",
   "metadata": {},
   "outputs": [
    {
     "name": "stderr",
     "output_type": "stream",
     "text": [
      "/var/folders/85/pz631h490csdlf61sc2z395c0000gp/T/ipykernel_2440/3994141690.py:1: FutureWarning: Indexing a DataFrame with a datetimelike index using a single string to slice the rows, like `frame[string]`, is deprecated and will be removed in a future version. Use `frame.loc[string]` instead.\n",
      "  msft['2012-02']\n"
     ]
    },
    {
     "data": {
      "text/html": [
       "<div>\n",
       "<style scoped>\n",
       "    .dataframe tbody tr th:only-of-type {\n",
       "        vertical-align: middle;\n",
       "    }\n",
       "\n",
       "    .dataframe tbody tr th {\n",
       "        vertical-align: top;\n",
       "    }\n",
       "\n",
       "    .dataframe thead th {\n",
       "        text-align: right;\n",
       "    }\n",
       "</style>\n",
       "<table border=\"1\" class=\"dataframe\">\n",
       "  <thead>\n",
       "    <tr style=\"text-align: right;\">\n",
       "      <th></th>\n",
       "      <th>High</th>\n",
       "      <th>Low</th>\n",
       "      <th>Open</th>\n",
       "      <th>Close</th>\n",
       "      <th>Volume</th>\n",
       "      <th>Adj Close</th>\n",
       "    </tr>\n",
       "    <tr>\n",
       "      <th>Date</th>\n",
       "      <th></th>\n",
       "      <th></th>\n",
       "      <th></th>\n",
       "      <th></th>\n",
       "      <th></th>\n",
       "      <th></th>\n",
       "    </tr>\n",
       "  </thead>\n",
       "  <tbody>\n",
       "    <tr>\n",
       "      <th>2012-02-01</th>\n",
       "      <td>30.0499992</td>\n",
       "      <td>29.7600002</td>\n",
       "      <td>29.7900009</td>\n",
       "      <td>29.8899994</td>\n",
       "      <td>67409900.0</td>\n",
       "      <td>24.1432800</td>\n",
       "    </tr>\n",
       "    <tr>\n",
       "      <th>2012-02-02</th>\n",
       "      <td>30.1700001</td>\n",
       "      <td>29.7099991</td>\n",
       "      <td>29.8999996</td>\n",
       "      <td>29.9500008</td>\n",
       "      <td>52223300.0</td>\n",
       "      <td>24.1917305</td>\n",
       "    </tr>\n",
       "    <tr>\n",
       "      <th>2012-02-03</th>\n",
       "      <td>30.3999996</td>\n",
       "      <td>30.0900002</td>\n",
       "      <td>30.1399994</td>\n",
       "      <td>30.2399998</td>\n",
       "      <td>41838500.0</td>\n",
       "      <td>24.4259834</td>\n",
       "    </tr>\n",
       "    <tr>\n",
       "      <th>2012-02-06</th>\n",
       "      <td>30.2199993</td>\n",
       "      <td>29.9699993</td>\n",
       "      <td>30.0400009</td>\n",
       "      <td>30.2000008</td>\n",
       "      <td>28039700.0</td>\n",
       "      <td>24.3936710</td>\n",
       "    </tr>\n",
       "    <tr>\n",
       "      <th>2012-02-07</th>\n",
       "      <td>30.4899998</td>\n",
       "      <td>30.0499992</td>\n",
       "      <td>30.1499996</td>\n",
       "      <td>30.3500004</td>\n",
       "      <td>39242400.0</td>\n",
       "      <td>24.5148392</td>\n",
       "    </tr>\n",
       "    <tr>\n",
       "      <th>2012-02-08</th>\n",
       "      <td>30.6700001</td>\n",
       "      <td>30.2199993</td>\n",
       "      <td>30.2600002</td>\n",
       "      <td>30.6599998</td>\n",
       "      <td>49659100.0</td>\n",
       "      <td>24.7652359</td>\n",
       "    </tr>\n",
       "    <tr>\n",
       "      <th>2012-02-09</th>\n",
       "      <td>30.7999992</td>\n",
       "      <td>30.4799995</td>\n",
       "      <td>30.6800003</td>\n",
       "      <td>30.7700005</td>\n",
       "      <td>50481600.0</td>\n",
       "      <td>24.8540821</td>\n",
       "    </tr>\n",
       "    <tr>\n",
       "      <th>2012-02-10</th>\n",
       "      <td>30.7999992</td>\n",
       "      <td>30.3600006</td>\n",
       "      <td>30.6399994</td>\n",
       "      <td>30.5000000</td>\n",
       "      <td>44605300.0</td>\n",
       "      <td>24.6359978</td>\n",
       "    </tr>\n",
       "    <tr>\n",
       "      <th>2012-02-13</th>\n",
       "      <td>30.7700005</td>\n",
       "      <td>30.4300003</td>\n",
       "      <td>30.6299992</td>\n",
       "      <td>30.5799999</td>\n",
       "      <td>33319800.0</td>\n",
       "      <td>24.7006149</td>\n",
       "    </tr>\n",
       "    <tr>\n",
       "      <th>2012-02-14</th>\n",
       "      <td>30.4599991</td>\n",
       "      <td>29.8500004</td>\n",
       "      <td>30.3299999</td>\n",
       "      <td>30.2500000</td>\n",
       "      <td>59644000.0</td>\n",
       "      <td>24.5949230</td>\n",
       "    </tr>\n",
       "    <tr>\n",
       "      <th>2012-02-15</th>\n",
       "      <td>30.3899994</td>\n",
       "      <td>30.0300007</td>\n",
       "      <td>30.3299999</td>\n",
       "      <td>30.0499992</td>\n",
       "      <td>43311300.0</td>\n",
       "      <td>24.4323082</td>\n",
       "    </tr>\n",
       "    <tr>\n",
       "      <th>2012-02-16</th>\n",
       "      <td>31.5499992</td>\n",
       "      <td>30.2999992</td>\n",
       "      <td>30.3099995</td>\n",
       "      <td>31.2900009</td>\n",
       "      <td>94705100.0</td>\n",
       "      <td>25.4404926</td>\n",
       "    </tr>\n",
       "    <tr>\n",
       "      <th>2012-02-17</th>\n",
       "      <td>31.3199997</td>\n",
       "      <td>30.9500008</td>\n",
       "      <td>31.2000008</td>\n",
       "      <td>31.2500000</td>\n",
       "      <td>70036500.0</td>\n",
       "      <td>25.4079762</td>\n",
       "    </tr>\n",
       "    <tr>\n",
       "      <th>2012-02-21</th>\n",
       "      <td>31.6100006</td>\n",
       "      <td>31.1499996</td>\n",
       "      <td>31.1800003</td>\n",
       "      <td>31.4400005</td>\n",
       "      <td>50829900.0</td>\n",
       "      <td>25.5624561</td>\n",
       "    </tr>\n",
       "    <tr>\n",
       "      <th>2012-02-22</th>\n",
       "      <td>31.6800003</td>\n",
       "      <td>31.1800003</td>\n",
       "      <td>31.4500008</td>\n",
       "      <td>31.2700005</td>\n",
       "      <td>49253200.0</td>\n",
       "      <td>25.4242344</td>\n",
       "    </tr>\n",
       "    <tr>\n",
       "      <th>2012-02-23</th>\n",
       "      <td>31.5900002</td>\n",
       "      <td>31.0000000</td>\n",
       "      <td>31.2000008</td>\n",
       "      <td>31.3700008</td>\n",
       "      <td>35034700.0</td>\n",
       "      <td>25.5055447</td>\n",
       "    </tr>\n",
       "    <tr>\n",
       "      <th>2012-02-24</th>\n",
       "      <td>31.5000000</td>\n",
       "      <td>31.2399998</td>\n",
       "      <td>31.4799995</td>\n",
       "      <td>31.4799995</td>\n",
       "      <td>35575400.0</td>\n",
       "      <td>25.5949707</td>\n",
       "    </tr>\n",
       "    <tr>\n",
       "      <th>2012-02-27</th>\n",
       "      <td>31.5000000</td>\n",
       "      <td>31.1000004</td>\n",
       "      <td>31.2399998</td>\n",
       "      <td>31.3500004</td>\n",
       "      <td>34568400.0</td>\n",
       "      <td>25.4892788</td>\n",
       "    </tr>\n",
       "    <tr>\n",
       "      <th>2012-02-28</th>\n",
       "      <td>31.9300003</td>\n",
       "      <td>31.3799992</td>\n",
       "      <td>31.4099998</td>\n",
       "      <td>31.8700008</td>\n",
       "      <td>45230600.0</td>\n",
       "      <td>25.9120617</td>\n",
       "    </tr>\n",
       "    <tr>\n",
       "      <th>2012-02-29</th>\n",
       "      <td>32.0000000</td>\n",
       "      <td>31.6100006</td>\n",
       "      <td>31.8899994</td>\n",
       "      <td>31.7399998</td>\n",
       "      <td>59323600.0</td>\n",
       "      <td>25.8063698</td>\n",
       "    </tr>\n",
       "  </tbody>\n",
       "</table>\n",
       "</div>"
      ],
      "text/plain": [
       "                  High         Low        Open       Close      Volume  \\\n",
       "Date                                                                     \n",
       "2012-02-01  30.0499992  29.7600002  29.7900009  29.8899994  67409900.0   \n",
       "2012-02-02  30.1700001  29.7099991  29.8999996  29.9500008  52223300.0   \n",
       "2012-02-03  30.3999996  30.0900002  30.1399994  30.2399998  41838500.0   \n",
       "2012-02-06  30.2199993  29.9699993  30.0400009  30.2000008  28039700.0   \n",
       "2012-02-07  30.4899998  30.0499992  30.1499996  30.3500004  39242400.0   \n",
       "2012-02-08  30.6700001  30.2199993  30.2600002  30.6599998  49659100.0   \n",
       "2012-02-09  30.7999992  30.4799995  30.6800003  30.7700005  50481600.0   \n",
       "2012-02-10  30.7999992  30.3600006  30.6399994  30.5000000  44605300.0   \n",
       "2012-02-13  30.7700005  30.4300003  30.6299992  30.5799999  33319800.0   \n",
       "2012-02-14  30.4599991  29.8500004  30.3299999  30.2500000  59644000.0   \n",
       "2012-02-15  30.3899994  30.0300007  30.3299999  30.0499992  43311300.0   \n",
       "2012-02-16  31.5499992  30.2999992  30.3099995  31.2900009  94705100.0   \n",
       "2012-02-17  31.3199997  30.9500008  31.2000008  31.2500000  70036500.0   \n",
       "2012-02-21  31.6100006  31.1499996  31.1800003  31.4400005  50829900.0   \n",
       "2012-02-22  31.6800003  31.1800003  31.4500008  31.2700005  49253200.0   \n",
       "2012-02-23  31.5900002  31.0000000  31.2000008  31.3700008  35034700.0   \n",
       "2012-02-24  31.5000000  31.2399998  31.4799995  31.4799995  35575400.0   \n",
       "2012-02-27  31.5000000  31.1000004  31.2399998  31.3500004  34568400.0   \n",
       "2012-02-28  31.9300003  31.3799992  31.4099998  31.8700008  45230600.0   \n",
       "2012-02-29  32.0000000  31.6100006  31.8899994  31.7399998  59323600.0   \n",
       "\n",
       "             Adj Close  \n",
       "Date                    \n",
       "2012-02-01  24.1432800  \n",
       "2012-02-02  24.1917305  \n",
       "2012-02-03  24.4259834  \n",
       "2012-02-06  24.3936710  \n",
       "2012-02-07  24.5148392  \n",
       "2012-02-08  24.7652359  \n",
       "2012-02-09  24.8540821  \n",
       "2012-02-10  24.6359978  \n",
       "2012-02-13  24.7006149  \n",
       "2012-02-14  24.5949230  \n",
       "2012-02-15  24.4323082  \n",
       "2012-02-16  25.4404926  \n",
       "2012-02-17  25.4079762  \n",
       "2012-02-21  25.5624561  \n",
       "2012-02-22  25.4242344  \n",
       "2012-02-23  25.5055447  \n",
       "2012-02-24  25.5949707  \n",
       "2012-02-27  25.4892788  \n",
       "2012-02-28  25.9120617  \n",
       "2012-02-29  25.8063698  "
      ]
     },
     "execution_count": 51,
     "metadata": {},
     "output_type": "execute_result"
    }
   ],
   "source": [
    "msft['2012-02']\n",
    "# Note that this didn't require the use of the .loc method, as pandas first identifies this as a partial date and then\n",
    "# looks along the index of the dataframe instead of column (although .loc can be used to perform the same operation)."
   ]
  },
  {
   "cell_type": "code",
   "execution_count": 52,
   "id": "387d8f7e-bdc8-4db2-8cf3-a22a734881b4",
   "metadata": {},
   "outputs": [
    {
     "data": {
      "text/html": [
       "<div>\n",
       "<style scoped>\n",
       "    .dataframe tbody tr th:only-of-type {\n",
       "        vertical-align: middle;\n",
       "    }\n",
       "\n",
       "    .dataframe tbody tr th {\n",
       "        vertical-align: top;\n",
       "    }\n",
       "\n",
       "    .dataframe thead th {\n",
       "        text-align: right;\n",
       "    }\n",
       "</style>\n",
       "<table border=\"1\" class=\"dataframe\">\n",
       "  <thead>\n",
       "    <tr style=\"text-align: right;\">\n",
       "      <th></th>\n",
       "      <th>High</th>\n",
       "      <th>Low</th>\n",
       "      <th>Open</th>\n",
       "      <th>Close</th>\n",
       "      <th>Volume</th>\n",
       "      <th>Adj Close</th>\n",
       "    </tr>\n",
       "    <tr>\n",
       "      <th>Date</th>\n",
       "      <th></th>\n",
       "      <th></th>\n",
       "      <th></th>\n",
       "      <th></th>\n",
       "      <th></th>\n",
       "      <th></th>\n",
       "    </tr>\n",
       "  </thead>\n",
       "  <tbody>\n",
       "    <tr>\n",
       "      <th>2012-02-01</th>\n",
       "      <td>30.0499992</td>\n",
       "      <td>29.7600002</td>\n",
       "      <td>29.7900009</td>\n",
       "      <td>29.8899994</td>\n",
       "      <td>67409900.0</td>\n",
       "      <td>24.1432800</td>\n",
       "    </tr>\n",
       "    <tr>\n",
       "      <th>2012-02-02</th>\n",
       "      <td>30.1700001</td>\n",
       "      <td>29.7099991</td>\n",
       "      <td>29.8999996</td>\n",
       "      <td>29.9500008</td>\n",
       "      <td>52223300.0</td>\n",
       "      <td>24.1917305</td>\n",
       "    </tr>\n",
       "    <tr>\n",
       "      <th>2012-02-03</th>\n",
       "      <td>30.3999996</td>\n",
       "      <td>30.0900002</td>\n",
       "      <td>30.1399994</td>\n",
       "      <td>30.2399998</td>\n",
       "      <td>41838500.0</td>\n",
       "      <td>24.4259834</td>\n",
       "    </tr>\n",
       "    <tr>\n",
       "      <th>2012-02-06</th>\n",
       "      <td>30.2199993</td>\n",
       "      <td>29.9699993</td>\n",
       "      <td>30.0400009</td>\n",
       "      <td>30.2000008</td>\n",
       "      <td>28039700.0</td>\n",
       "      <td>24.3936710</td>\n",
       "    </tr>\n",
       "    <tr>\n",
       "      <th>2012-02-07</th>\n",
       "      <td>30.4899998</td>\n",
       "      <td>30.0499992</td>\n",
       "      <td>30.1499996</td>\n",
       "      <td>30.3500004</td>\n",
       "      <td>39242400.0</td>\n",
       "      <td>24.5148392</td>\n",
       "    </tr>\n",
       "    <tr>\n",
       "      <th>2012-02-08</th>\n",
       "      <td>30.6700001</td>\n",
       "      <td>30.2199993</td>\n",
       "      <td>30.2600002</td>\n",
       "      <td>30.6599998</td>\n",
       "      <td>49659100.0</td>\n",
       "      <td>24.7652359</td>\n",
       "    </tr>\n",
       "    <tr>\n",
       "      <th>2012-02-09</th>\n",
       "      <td>30.7999992</td>\n",
       "      <td>30.4799995</td>\n",
       "      <td>30.6800003</td>\n",
       "      <td>30.7700005</td>\n",
       "      <td>50481600.0</td>\n",
       "      <td>24.8540821</td>\n",
       "    </tr>\n",
       "  </tbody>\n",
       "</table>\n",
       "</div>"
      ],
      "text/plain": [
       "                  High         Low        Open       Close      Volume  \\\n",
       "Date                                                                     \n",
       "2012-02-01  30.0499992  29.7600002  29.7900009  29.8899994  67409900.0   \n",
       "2012-02-02  30.1700001  29.7099991  29.8999996  29.9500008  52223300.0   \n",
       "2012-02-03  30.3999996  30.0900002  30.1399994  30.2399998  41838500.0   \n",
       "2012-02-06  30.2199993  29.9699993  30.0400009  30.2000008  28039700.0   \n",
       "2012-02-07  30.4899998  30.0499992  30.1499996  30.3500004  39242400.0   \n",
       "2012-02-08  30.6700001  30.2199993  30.2600002  30.6599998  49659100.0   \n",
       "2012-02-09  30.7999992  30.4799995  30.6800003  30.7700005  50481600.0   \n",
       "\n",
       "             Adj Close  \n",
       "Date                    \n",
       "2012-02-01  24.1432800  \n",
       "2012-02-02  24.1917305  \n",
       "2012-02-03  24.4259834  \n",
       "2012-02-06  24.3936710  \n",
       "2012-02-07  24.5148392  \n",
       "2012-02-08  24.7652359  \n",
       "2012-02-09  24.8540821  "
      ]
     },
     "execution_count": 52,
     "metadata": {},
     "output_type": "execute_result"
    }
   ],
   "source": [
    "msft['2012-02':'2012-02-09']\n",
    "# the slice will start at the beginning of the month."
   ]
  },
  {
   "cell_type": "markdown",
   "id": "156c61ac-c524-46b5-89fc-ad7293da2021",
   "metadata": {},
   "source": [
    "# Creating time-series with specific frequencies:"
   ]
  },
  {
   "cell_type": "code",
   "execution_count": 53,
   "id": "437890a8-1a20-4e26-9b88-3de01652d293",
   "metadata": {},
   "outputs": [
    {
     "data": {
      "text/plain": [
       "DatetimeIndex(['2014-08-01 00:00:00', '2014-08-01 00:01:00',\n",
       "               '2014-08-01 00:02:00', '2014-08-01 00:03:00',\n",
       "               '2014-08-01 00:04:00', '2014-08-01 00:05:00',\n",
       "               '2014-08-01 00:06:00', '2014-08-01 00:07:00',\n",
       "               '2014-08-01 00:08:00', '2014-08-01 00:09:00',\n",
       "               ...\n",
       "               '2014-10-28 23:51:00', '2014-10-28 23:52:00',\n",
       "               '2014-10-28 23:53:00', '2014-10-28 23:54:00',\n",
       "               '2014-10-28 23:55:00', '2014-10-28 23:56:00',\n",
       "               '2014-10-28 23:57:00', '2014-10-28 23:58:00',\n",
       "               '2014-10-28 23:59:00', '2014-10-29 00:00:00'],\n",
       "              dtype='datetime64[ns]', length=128161, freq='T')"
      ]
     },
     "execution_count": 53,
     "metadata": {},
     "output_type": "execute_result"
    }
   ],
   "source": [
    "dates = pd.date_range('2014-08-01', '2014-10-29', freq = 'T')\n",
    "dates\n",
    "# create DatetimeIndex with hourly frequency. The default is 'D' for daily. Weekly, monthly etc is also possible."
   ]
  },
  {
   "cell_type": "code",
   "execution_count": 54,
   "id": "2fcf534a-dd47-4460-83ec-449b864b69ce",
   "metadata": {},
   "outputs": [
    {
     "data": {
      "text/plain": [
       "array([     0,      1,      2, ..., 129597, 129598, 129599])"
      ]
     },
     "execution_count": 54,
     "metadata": {},
     "output_type": "execute_result"
    }
   ],
   "source": [
    "np_array = np.arange(0, 90 * 60 * 24)\n",
    "np_array"
   ]
  },
  {
   "cell_type": "markdown",
   "id": "1b03dd06-b49a-4e49-be50-63a55749a552",
   "metadata": {},
   "source": [
    "### Representing intervals of time using periods:\n",
    "#### Period () method is used to determine a period starting and ending at the desired dates with the specified frequencies. "
   ]
  },
  {
   "cell_type": "code",
   "execution_count": 56,
   "id": "c74cec8f-fdb6-4eba-9039-72f9332bd480",
   "metadata": {},
   "outputs": [
    {
     "data": {
      "text/plain": [
       "Period('2014-08', 'M')"
      ]
     },
     "execution_count": 56,
     "metadata": {},
     "output_type": "execute_result"
    }
   ],
   "source": [
    "aug2014 = pd.Period('2014-08')\n",
    "aug2014\n",
    "# period('2014-08', 'M') contains only two dates, 1st and 31 of Aug, 2014 since the frequency is monthly."
   ]
  },
  {
   "cell_type": "code",
   "execution_count": null,
   "id": "a83fd45e-cf26-4d00-9d05-e5f778a61aa9",
   "metadata": {},
   "outputs": [],
   "source": [
    "aug2014.start_time, aug2014.end_time\n",
    "# pandas assumes the start date to be 1st of Aug, when only month (partial date) is mentioned. Then using the one \n",
    "# month frequency, it figures the end date to be 31st of Aug."
   ]
  },
  {
   "cell_type": "code",
   "execution_count": null,
   "id": "858a9db1-c819-42be-8325-95a2a3deabe1",
   "metadata": {},
   "outputs": [],
   "source": [
    "sep2014 = aug2014 + 1\n",
    "sep2014\n",
    "# operators overloading when plus sign in this carries a different meaning and operation that it's usual behaviour.\n",
    "# In this case, addition of 1 to aug2014 will create the next month (sep2014) since the existing period (aug2014) is \n",
    "# based on a monthly frequency. If it were based on a quarterly frequency, then +1 will create next quarter."
   ]
  },
  {
   "cell_type": "code",
   "execution_count": null,
   "id": "8e7ed349-0a65-466d-8ea3-419ff3dbf4b5",
   "metadata": {},
   "outputs": [],
   "source": [
    "sep2014.start_time, sep2014.end_time\n",
    "# note that the pandas itself has figured out that September has 30 days unlike Aug that ended with the date 31."
   ]
  },
  {
   "cell_type": "code",
   "execution_count": null,
   "id": "bf842fe2-e72a-4542-bedf-d8718ba78bd0",
   "metadata": {},
   "outputs": [],
   "source": [
    "# Period Objects: can be combined to form a PeriodIndex as shown below:"
   ]
  },
  {
   "cell_type": "code",
   "execution_count": null,
   "id": "779c1cd8-95c5-4910-906b-2bc27ed15fd4",
   "metadata": {},
   "outputs": [],
   "source": [
    "mp2013 = pd.period_range('2013-01-01', '2013-12-31', freq = 'M')\n",
    "mp2013\n",
    "# PeriodIndex has been created as shown below and confirmed in the type command.\n",
    "# In PeriodIndex, the index labels are period objects whereas in DatetimeIndex the index labels are TimeStamps."
   ]
  },
  {
   "cell_type": "code",
   "execution_count": null,
   "id": "84c6b03f-a39f-460b-8f9b-ec85839b7fde",
   "metadata": {},
   "outputs": [],
   "source": [
    "type(mp2013)"
   ]
  },
  {
   "cell_type": "code",
   "execution_count": null,
   "id": "96203ab7-89cb-432a-b204-671cf27eca8e",
   "metadata": {},
   "outputs": [],
   "source": [
    "type(mp2013[0])\n",
    "# PeriodIndex contains period objects."
   ]
  },
  {
   "cell_type": "code",
   "execution_count": null,
   "id": "3b1040f6-4931-4e0c-85c7-ca23a5a2fd74",
   "metadata": {},
   "outputs": [],
   "source": [
    "for p in mp2013:\n",
    "    print (\"{0} {1} {2} {3}\".format(p, p.freq, p.start_time, p.end_time))\n",
    "# first '2013-01' is taken from 'mp2013' and put in p, then print is executed. In print, the {} represents placeholders\n",
    "# for what comes in () after format. For instance,p relates with {0}, p.freq relates with {1} and so on. Note that the\n",
    "# PeriodIndex has Period objects as can be seen immediately above. Therefore, they have the property of .start_time and\n",
    "# .end_time.    "
   ]
  },
  {
   "cell_type": "code",
   "execution_count": null,
   "id": "68a3d5e2-d108-4c78-bca6-1ad48c563185",
   "metadata": {},
   "outputs": [],
   "source": [
    "s = np.random.randn(12)\n",
    "s"
   ]
  },
  {
   "cell_type": "code",
   "execution_count": null,
   "id": "374640e0-0698-4d65-a7cd-0304c9885b2d",
   "metadata": {},
   "outputs": [],
   "source": [
    "pandas_series = pd.Series(s, mp2013)\n",
    "pandas_series\n",
    "# this series has index labels containing Period Objects so the index is PeriodIndex rather than DatetimeIndex.\n",
    "# this type of indexing is especially helpfull when we are interested in finding average prices each month rather than\n",
    "# prices at specific dates."
   ]
  },
  {
   "cell_type": "code",
   "execution_count": null,
   "id": "8c108fbc",
   "metadata": {},
   "outputs": [],
   "source": []
  },
  {
   "cell_type": "code",
   "execution_count": null,
   "id": "41bb6cd8",
   "metadata": {},
   "outputs": [],
   "source": []
  },
  {
   "cell_type": "code",
   "execution_count": null,
   "id": "4e3cb27f",
   "metadata": {},
   "outputs": [],
   "source": []
  },
  {
   "cell_type": "code",
   "execution_count": null,
   "id": "b7aaf08c",
   "metadata": {},
   "outputs": [],
   "source": []
  },
  {
   "cell_type": "code",
   "execution_count": null,
   "id": "aa72d08b",
   "metadata": {},
   "outputs": [],
   "source": []
  },
  {
   "cell_type": "code",
   "execution_count": null,
   "id": "b2258989",
   "metadata": {},
   "outputs": [],
   "source": []
  }
 ],
 "metadata": {
  "kernelspec": {
   "display_name": "Python 3 (ipykernel)",
   "language": "python",
   "name": "python3"
  },
  "language_info": {
   "codemirror_mode": {
    "name": "ipython",
    "version": 3
   },
   "file_extension": ".py",
   "mimetype": "text/x-python",
   "name": "python",
   "nbconvert_exporter": "python",
   "pygments_lexer": "ipython3",
   "version": "3.9.7"
  }
 },
 "nbformat": 4,
 "nbformat_minor": 5
}
