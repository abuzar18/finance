{
 "cells": [
  {
   "cell_type": "code",
   "execution_count": 189,
   "id": "75da80b2-5136-41f8-9cd5-611f9a20b4e1",
   "metadata": {},
   "outputs": [],
   "source": [
    "import pandas as pd\n",
    "import numpy as np\n",
    "import datetime as dt # so that pandas can recognize dates properly\n",
    "import matplotlib.pyplot as plt # for visualization\n",
    "from matplotlib import style\n",
    "import pandas_datareader.data as web # to collect data"
   ]
  },
  {
   "cell_type": "code",
   "execution_count": 190,
   "id": "bc1a9548-f8e7-4098-ab4c-590481883f8e",
   "metadata": {},
   "outputs": [
    {
     "data": {
      "text/html": [
       "<div>\n",
       "<style scoped>\n",
       "    .dataframe tbody tr th:only-of-type {\n",
       "        vertical-align: middle;\n",
       "    }\n",
       "\n",
       "    .dataframe tbody tr th {\n",
       "        vertical-align: top;\n",
       "    }\n",
       "\n",
       "    .dataframe thead th {\n",
       "        text-align: right;\n",
       "    }\n",
       "</style>\n",
       "<table border=\"1\" class=\"dataframe\">\n",
       "  <thead>\n",
       "    <tr style=\"text-align: right;\">\n",
       "      <th></th>\n",
       "    </tr>\n",
       "  </thead>\n",
       "  <tbody>\n",
       "  </tbody>\n",
       "</table>\n",
       "</div>"
      ],
      "text/plain": [
       "Empty DataFrame\n",
       "Columns: []\n",
       "Index: []"
      ]
     },
     "execution_count": 190,
     "metadata": {},
     "output_type": "execute_result"
    }
   ],
   "source": [
    "style.use('ggplot')\n",
    "tickers = ['TSLA', 'BAC']\n",
    "start = dt.datetime(2014, 1, 1)\n",
    "end = dt.datetime(2020, 11, 20)\n",
    "returns = pd.DataFrame() # create an empty data frame, returns.\n",
    "returns"
   ]
  },
  {
   "cell_type": "markdown",
   "id": "dd338f0e-805c-4280-b56a-6a7a948c4a8b",
   "metadata": {},
   "source": [
    "# Portfolio Optimization:\n",
    "Optimal portfolio has the highest sharpe ratio\n",
    "- [**Data**](#Data): Extract the data online and organize it in the data frame.\n"
   ]
  },
  {
   "cell_type": "markdown",
   "id": "0c169e7a-9569-4ccc-8b2e-0767ecf004d9",
   "metadata": {},
   "source": [
    "## Data"
   ]
  },
  {
   "cell_type": "code",
   "execution_count": 191,
   "id": "27af816e-8388-4dda-967a-ef6c3bd064bc",
   "metadata": {},
   "outputs": [
    {
     "data": {
      "text/html": [
       "<div>\n",
       "<style scoped>\n",
       "    .dataframe tbody tr th:only-of-type {\n",
       "        vertical-align: middle;\n",
       "    }\n",
       "\n",
       "    .dataframe tbody tr th {\n",
       "        vertical-align: top;\n",
       "    }\n",
       "\n",
       "    .dataframe thead th {\n",
       "        text-align: right;\n",
       "    }\n",
       "</style>\n",
       "<table border=\"1\" class=\"dataframe\">\n",
       "  <thead>\n",
       "    <tr style=\"text-align: right;\">\n",
       "      <th></th>\n",
       "      <th>High</th>\n",
       "      <th>Low</th>\n",
       "      <th>Open</th>\n",
       "      <th>Close</th>\n",
       "      <th>Volume</th>\n",
       "      <th>Adj Close</th>\n",
       "    </tr>\n",
       "    <tr>\n",
       "      <th>Date</th>\n",
       "      <th></th>\n",
       "      <th></th>\n",
       "      <th></th>\n",
       "      <th></th>\n",
       "      <th></th>\n",
       "      <th></th>\n",
       "    </tr>\n",
       "  </thead>\n",
       "  <tbody>\n",
       "    <tr>\n",
       "      <th>2013-12-31</th>\n",
       "      <td>15.620000</td>\n",
       "      <td>15.510000</td>\n",
       "      <td>15.600000</td>\n",
       "      <td>15.570000</td>\n",
       "      <td>57188900.0</td>\n",
       "      <td>13.512722</td>\n",
       "    </tr>\n",
       "    <tr>\n",
       "      <th>2014-01-02</th>\n",
       "      <td>16.160000</td>\n",
       "      <td>15.680000</td>\n",
       "      <td>15.690000</td>\n",
       "      <td>16.100000</td>\n",
       "      <td>148709900.0</td>\n",
       "      <td>13.972696</td>\n",
       "    </tr>\n",
       "    <tr>\n",
       "      <th>2014-01-03</th>\n",
       "      <td>16.500000</td>\n",
       "      <td>16.230000</td>\n",
       "      <td>16.270000</td>\n",
       "      <td>16.410000</td>\n",
       "      <td>129921800.0</td>\n",
       "      <td>14.241734</td>\n",
       "    </tr>\n",
       "    <tr>\n",
       "      <th>2014-01-06</th>\n",
       "      <td>16.730000</td>\n",
       "      <td>16.559999</td>\n",
       "      <td>16.629999</td>\n",
       "      <td>16.660000</td>\n",
       "      <td>114431300.0</td>\n",
       "      <td>14.458702</td>\n",
       "    </tr>\n",
       "    <tr>\n",
       "      <th>2014-01-07</th>\n",
       "      <td>16.790001</td>\n",
       "      <td>16.450001</td>\n",
       "      <td>16.770000</td>\n",
       "      <td>16.500000</td>\n",
       "      <td>110605100.0</td>\n",
       "      <td>14.319847</td>\n",
       "    </tr>\n",
       "    <tr>\n",
       "      <th>...</th>\n",
       "      <td>...</td>\n",
       "      <td>...</td>\n",
       "      <td>...</td>\n",
       "      <td>...</td>\n",
       "      <td>...</td>\n",
       "      <td>...</td>\n",
       "    </tr>\n",
       "    <tr>\n",
       "      <th>2020-11-16</th>\n",
       "      <td>28.000000</td>\n",
       "      <td>27.180000</td>\n",
       "      <td>27.860001</td>\n",
       "      <td>27.580000</td>\n",
       "      <td>57396700.0</td>\n",
       "      <td>26.760632</td>\n",
       "    </tr>\n",
       "    <tr>\n",
       "      <th>2020-11-17</th>\n",
       "      <td>27.600000</td>\n",
       "      <td>27.010000</td>\n",
       "      <td>27.250000</td>\n",
       "      <td>27.549999</td>\n",
       "      <td>46402300.0</td>\n",
       "      <td>26.731520</td>\n",
       "    </tr>\n",
       "    <tr>\n",
       "      <th>2020-11-18</th>\n",
       "      <td>27.930000</td>\n",
       "      <td>26.959999</td>\n",
       "      <td>27.629999</td>\n",
       "      <td>26.980000</td>\n",
       "      <td>54416700.0</td>\n",
       "      <td>26.178453</td>\n",
       "    </tr>\n",
       "    <tr>\n",
       "      <th>2020-11-19</th>\n",
       "      <td>27.010000</td>\n",
       "      <td>26.650000</td>\n",
       "      <td>26.930000</td>\n",
       "      <td>26.980000</td>\n",
       "      <td>46423000.0</td>\n",
       "      <td>26.178453</td>\n",
       "    </tr>\n",
       "    <tr>\n",
       "      <th>2020-11-20</th>\n",
       "      <td>26.950001</td>\n",
       "      <td>26.629999</td>\n",
       "      <td>26.740000</td>\n",
       "      <td>26.809999</td>\n",
       "      <td>40538000.0</td>\n",
       "      <td>26.013504</td>\n",
       "    </tr>\n",
       "  </tbody>\n",
       "</table>\n",
       "<p>1737 rows × 6 columns</p>\n",
       "</div>"
      ],
      "text/plain": [
       "                 High        Low       Open      Close       Volume  Adj Close\n",
       "Date                                                                          \n",
       "2013-12-31  15.620000  15.510000  15.600000  15.570000   57188900.0  13.512722\n",
       "2014-01-02  16.160000  15.680000  15.690000  16.100000  148709900.0  13.972696\n",
       "2014-01-03  16.500000  16.230000  16.270000  16.410000  129921800.0  14.241734\n",
       "2014-01-06  16.730000  16.559999  16.629999  16.660000  114431300.0  14.458702\n",
       "2014-01-07  16.790001  16.450001  16.770000  16.500000  110605100.0  14.319847\n",
       "...               ...        ...        ...        ...          ...        ...\n",
       "2020-11-16  28.000000  27.180000  27.860001  27.580000   57396700.0  26.760632\n",
       "2020-11-17  27.600000  27.010000  27.250000  27.549999   46402300.0  26.731520\n",
       "2020-11-18  27.930000  26.959999  27.629999  26.980000   54416700.0  26.178453\n",
       "2020-11-19  27.010000  26.650000  26.930000  26.980000   46423000.0  26.178453\n",
       "2020-11-20  26.950001  26.629999  26.740000  26.809999   40538000.0  26.013504\n",
       "\n",
       "[1737 rows x 6 columns]"
      ]
     },
     "execution_count": 191,
     "metadata": {},
     "output_type": "execute_result"
    }
   ],
   "source": [
    "for ticker in tickers:\n",
    "    data = web.DataReader(ticker, 'yahoo', start, end)\n",
    "data\n",
    "\n",
    "# Loop will run for the first time for TSLA, extracts the data from yahoo finance and store it in data \n",
    "#frame, data. The loop will then run for BAC, extracts the data from yahoo finance and replace the data\n",
    "# in data frame, data. This is not the dataframe that we want at the end since it will contain data of\n",
    "# only BAC, the last ticker in the tickers list."
   ]
  },
  {
   "cell_type": "code",
   "execution_count": 192,
   "id": "9b634402-800d-4670-8129-c585378a60d8",
   "metadata": {},
   "outputs": [
    {
     "data": {
      "text/html": [
       "<div>\n",
       "<style scoped>\n",
       "    .dataframe tbody tr th:only-of-type {\n",
       "        vertical-align: middle;\n",
       "    }\n",
       "\n",
       "    .dataframe tbody tr th {\n",
       "        vertical-align: top;\n",
       "    }\n",
       "\n",
       "    .dataframe thead th {\n",
       "        text-align: right;\n",
       "    }\n",
       "</style>\n",
       "<table border=\"1\" class=\"dataframe\">\n",
       "  <thead>\n",
       "    <tr style=\"text-align: right;\">\n",
       "      <th></th>\n",
       "      <th>High</th>\n",
       "      <th>Low</th>\n",
       "      <th>Open</th>\n",
       "      <th>Close</th>\n",
       "      <th>Volume</th>\n",
       "      <th>Adj Close</th>\n",
       "      <th>BAC</th>\n",
       "    </tr>\n",
       "    <tr>\n",
       "      <th>Date</th>\n",
       "      <th></th>\n",
       "      <th></th>\n",
       "      <th></th>\n",
       "      <th></th>\n",
       "      <th></th>\n",
       "      <th></th>\n",
       "      <th></th>\n",
       "    </tr>\n",
       "  </thead>\n",
       "  <tbody>\n",
       "    <tr>\n",
       "      <th>2013-12-31</th>\n",
       "      <td>15.620000</td>\n",
       "      <td>15.510000</td>\n",
       "      <td>15.600000</td>\n",
       "      <td>15.570000</td>\n",
       "      <td>57188900.0</td>\n",
       "      <td>13.512728</td>\n",
       "      <td>NaN</td>\n",
       "    </tr>\n",
       "    <tr>\n",
       "      <th>2014-01-02</th>\n",
       "      <td>16.160000</td>\n",
       "      <td>15.680000</td>\n",
       "      <td>15.690000</td>\n",
       "      <td>16.100000</td>\n",
       "      <td>148709900.0</td>\n",
       "      <td>13.972698</td>\n",
       "      <td>0.034040</td>\n",
       "    </tr>\n",
       "    <tr>\n",
       "      <th>2014-01-03</th>\n",
       "      <td>16.500000</td>\n",
       "      <td>16.230000</td>\n",
       "      <td>16.270000</td>\n",
       "      <td>16.410000</td>\n",
       "      <td>129921800.0</td>\n",
       "      <td>14.241733</td>\n",
       "      <td>0.019254</td>\n",
       "    </tr>\n",
       "    <tr>\n",
       "      <th>2014-01-06</th>\n",
       "      <td>16.730000</td>\n",
       "      <td>16.559999</td>\n",
       "      <td>16.629999</td>\n",
       "      <td>16.660000</td>\n",
       "      <td>114431300.0</td>\n",
       "      <td>14.458705</td>\n",
       "      <td>0.015235</td>\n",
       "    </tr>\n",
       "    <tr>\n",
       "      <th>2014-01-07</th>\n",
       "      <td>16.790001</td>\n",
       "      <td>16.450001</td>\n",
       "      <td>16.770000</td>\n",
       "      <td>16.500000</td>\n",
       "      <td>110605100.0</td>\n",
       "      <td>14.319844</td>\n",
       "      <td>-0.009604</td>\n",
       "    </tr>\n",
       "    <tr>\n",
       "      <th>...</th>\n",
       "      <td>...</td>\n",
       "      <td>...</td>\n",
       "      <td>...</td>\n",
       "      <td>...</td>\n",
       "      <td>...</td>\n",
       "      <td>...</td>\n",
       "      <td>...</td>\n",
       "    </tr>\n",
       "    <tr>\n",
       "      <th>2020-11-16</th>\n",
       "      <td>28.000000</td>\n",
       "      <td>27.180000</td>\n",
       "      <td>27.860001</td>\n",
       "      <td>27.580000</td>\n",
       "      <td>57396700.0</td>\n",
       "      <td>26.760632</td>\n",
       "      <td>0.021482</td>\n",
       "    </tr>\n",
       "    <tr>\n",
       "      <th>2020-11-17</th>\n",
       "      <td>27.600000</td>\n",
       "      <td>27.010000</td>\n",
       "      <td>27.250000</td>\n",
       "      <td>27.549999</td>\n",
       "      <td>46402300.0</td>\n",
       "      <td>26.731520</td>\n",
       "      <td>-0.001088</td>\n",
       "    </tr>\n",
       "    <tr>\n",
       "      <th>2020-11-18</th>\n",
       "      <td>27.930000</td>\n",
       "      <td>26.959999</td>\n",
       "      <td>27.629999</td>\n",
       "      <td>26.980000</td>\n",
       "      <td>54416700.0</td>\n",
       "      <td>26.178455</td>\n",
       "      <td>-0.020690</td>\n",
       "    </tr>\n",
       "    <tr>\n",
       "      <th>2020-11-19</th>\n",
       "      <td>27.010000</td>\n",
       "      <td>26.650000</td>\n",
       "      <td>26.930000</td>\n",
       "      <td>26.980000</td>\n",
       "      <td>46423000.0</td>\n",
       "      <td>26.178455</td>\n",
       "      <td>0.000000</td>\n",
       "    </tr>\n",
       "    <tr>\n",
       "      <th>2020-11-20</th>\n",
       "      <td>26.950001</td>\n",
       "      <td>26.629999</td>\n",
       "      <td>26.740000</td>\n",
       "      <td>26.809999</td>\n",
       "      <td>40538000.0</td>\n",
       "      <td>26.013504</td>\n",
       "      <td>-0.006301</td>\n",
       "    </tr>\n",
       "  </tbody>\n",
       "</table>\n",
       "<p>1737 rows × 7 columns</p>\n",
       "</div>"
      ],
      "text/plain": [
       "                 High        Low       Open      Close       Volume  \\\n",
       "Date                                                                  \n",
       "2013-12-31  15.620000  15.510000  15.600000  15.570000   57188900.0   \n",
       "2014-01-02  16.160000  15.680000  15.690000  16.100000  148709900.0   \n",
       "2014-01-03  16.500000  16.230000  16.270000  16.410000  129921800.0   \n",
       "2014-01-06  16.730000  16.559999  16.629999  16.660000  114431300.0   \n",
       "2014-01-07  16.790001  16.450001  16.770000  16.500000  110605100.0   \n",
       "...               ...        ...        ...        ...          ...   \n",
       "2020-11-16  28.000000  27.180000  27.860001  27.580000   57396700.0   \n",
       "2020-11-17  27.600000  27.010000  27.250000  27.549999   46402300.0   \n",
       "2020-11-18  27.930000  26.959999  27.629999  26.980000   54416700.0   \n",
       "2020-11-19  27.010000  26.650000  26.930000  26.980000   46423000.0   \n",
       "2020-11-20  26.950001  26.629999  26.740000  26.809999   40538000.0   \n",
       "\n",
       "            Adj Close       BAC  \n",
       "Date                             \n",
       "2013-12-31  13.512728       NaN  \n",
       "2014-01-02  13.972698  0.034040  \n",
       "2014-01-03  14.241733  0.019254  \n",
       "2014-01-06  14.458705  0.015235  \n",
       "2014-01-07  14.319844 -0.009604  \n",
       "...               ...       ...  \n",
       "2020-11-16  26.760632  0.021482  \n",
       "2020-11-17  26.731520 -0.001088  \n",
       "2020-11-18  26.178455 -0.020690  \n",
       "2020-11-19  26.178455  0.000000  \n",
       "2020-11-20  26.013504 -0.006301  \n",
       "\n",
       "[1737 rows x 7 columns]"
      ]
     },
     "execution_count": 192,
     "metadata": {},
     "output_type": "execute_result"
    }
   ],
   "source": [
    "for ticker in tickers:\n",
    "    data = web.DataReader(ticker, 'yahoo', start, end)\n",
    "    data[ticker] = data['Adj Close'].pct_change() # add a column to data frame, data, and store returns in it.\n",
    "\n",
    "# pd.set_option('display.max_rows', None)\n",
    "data\n",
    "# still same number of rows as above, so values of one firm (TSLA) replace by another firm (BAC)."
   ]
  },
  {
   "cell_type": "code",
   "execution_count": 193,
   "id": "b4564be9-f4c4-4aed-aeb2-5e3571343e01",
   "metadata": {},
   "outputs": [
    {
     "data": {
      "text/plain": [
       "0.034039837705582165"
      ]
     },
     "execution_count": 193,
     "metadata": {},
     "output_type": "execute_result"
    }
   ],
   "source": [
    "13.972697 / 13.512726 - 1\n",
    "\n",
    "# just for confirmation of the return above."
   ]
  },
  {
   "cell_type": "code",
   "execution_count": 194,
   "id": "41adca5f-e045-4bce-b1f2-4a7a47173abb",
   "metadata": {},
   "outputs": [
    {
     "data": {
      "text/html": [
       "<div>\n",
       "<style scoped>\n",
       "    .dataframe tbody tr th:only-of-type {\n",
       "        vertical-align: middle;\n",
       "    }\n",
       "\n",
       "    .dataframe tbody tr th {\n",
       "        vertical-align: top;\n",
       "    }\n",
       "\n",
       "    .dataframe thead th {\n",
       "        text-align: right;\n",
       "    }\n",
       "</style>\n",
       "<table border=\"1\" class=\"dataframe\">\n",
       "  <thead>\n",
       "    <tr style=\"text-align: right;\">\n",
       "      <th></th>\n",
       "      <th>High</th>\n",
       "      <th>Low</th>\n",
       "      <th>Open</th>\n",
       "      <th>Close</th>\n",
       "      <th>Volume</th>\n",
       "      <th>Adj Close</th>\n",
       "      <th>BAC</th>\n",
       "    </tr>\n",
       "    <tr>\n",
       "      <th>Date</th>\n",
       "      <th></th>\n",
       "      <th></th>\n",
       "      <th></th>\n",
       "      <th></th>\n",
       "      <th></th>\n",
       "      <th></th>\n",
       "      <th></th>\n",
       "    </tr>\n",
       "  </thead>\n",
       "  <tbody>\n",
       "    <tr>\n",
       "      <th>2013-12-31</th>\n",
       "      <td>15.620000</td>\n",
       "      <td>15.510000</td>\n",
       "      <td>15.600000</td>\n",
       "      <td>15.570000</td>\n",
       "      <td>57188900.0</td>\n",
       "      <td>13.512726</td>\n",
       "      <td>NaN</td>\n",
       "    </tr>\n",
       "    <tr>\n",
       "      <th>2014-01-02</th>\n",
       "      <td>16.160000</td>\n",
       "      <td>15.680000</td>\n",
       "      <td>15.690000</td>\n",
       "      <td>16.100000</td>\n",
       "      <td>148709900.0</td>\n",
       "      <td>13.972697</td>\n",
       "      <td>0.034040</td>\n",
       "    </tr>\n",
       "    <tr>\n",
       "      <th>2014-01-03</th>\n",
       "      <td>16.500000</td>\n",
       "      <td>16.230000</td>\n",
       "      <td>16.270000</td>\n",
       "      <td>16.410000</td>\n",
       "      <td>129921800.0</td>\n",
       "      <td>14.241735</td>\n",
       "      <td>0.019255</td>\n",
       "    </tr>\n",
       "    <tr>\n",
       "      <th>2014-01-06</th>\n",
       "      <td>16.730000</td>\n",
       "      <td>16.559999</td>\n",
       "      <td>16.629999</td>\n",
       "      <td>16.660000</td>\n",
       "      <td>114431300.0</td>\n",
       "      <td>14.458702</td>\n",
       "      <td>0.015235</td>\n",
       "    </tr>\n",
       "    <tr>\n",
       "      <th>2014-01-07</th>\n",
       "      <td>16.790001</td>\n",
       "      <td>16.450001</td>\n",
       "      <td>16.770000</td>\n",
       "      <td>16.500000</td>\n",
       "      <td>110605100.0</td>\n",
       "      <td>14.319849</td>\n",
       "      <td>-0.009603</td>\n",
       "    </tr>\n",
       "    <tr>\n",
       "      <th>...</th>\n",
       "      <td>...</td>\n",
       "      <td>...</td>\n",
       "      <td>...</td>\n",
       "      <td>...</td>\n",
       "      <td>...</td>\n",
       "      <td>...</td>\n",
       "      <td>...</td>\n",
       "    </tr>\n",
       "    <tr>\n",
       "      <th>2020-11-16</th>\n",
       "      <td>28.000000</td>\n",
       "      <td>27.180000</td>\n",
       "      <td>27.860001</td>\n",
       "      <td>27.580000</td>\n",
       "      <td>57396700.0</td>\n",
       "      <td>26.760630</td>\n",
       "      <td>0.021481</td>\n",
       "    </tr>\n",
       "    <tr>\n",
       "      <th>2020-11-17</th>\n",
       "      <td>27.600000</td>\n",
       "      <td>27.010000</td>\n",
       "      <td>27.250000</td>\n",
       "      <td>27.549999</td>\n",
       "      <td>46402300.0</td>\n",
       "      <td>26.731520</td>\n",
       "      <td>-0.001088</td>\n",
       "    </tr>\n",
       "    <tr>\n",
       "      <th>2020-11-18</th>\n",
       "      <td>27.930000</td>\n",
       "      <td>26.959999</td>\n",
       "      <td>27.629999</td>\n",
       "      <td>26.980000</td>\n",
       "      <td>54416700.0</td>\n",
       "      <td>26.178455</td>\n",
       "      <td>-0.020690</td>\n",
       "    </tr>\n",
       "    <tr>\n",
       "      <th>2020-11-19</th>\n",
       "      <td>27.010000</td>\n",
       "      <td>26.650000</td>\n",
       "      <td>26.930000</td>\n",
       "      <td>26.980000</td>\n",
       "      <td>46423000.0</td>\n",
       "      <td>26.178455</td>\n",
       "      <td>0.000000</td>\n",
       "    </tr>\n",
       "    <tr>\n",
       "      <th>2020-11-20</th>\n",
       "      <td>26.950001</td>\n",
       "      <td>26.629999</td>\n",
       "      <td>26.740000</td>\n",
       "      <td>26.809999</td>\n",
       "      <td>40538000.0</td>\n",
       "      <td>26.013504</td>\n",
       "      <td>-0.006301</td>\n",
       "    </tr>\n",
       "  </tbody>\n",
       "</table>\n",
       "<p>1737 rows × 7 columns</p>\n",
       "</div>"
      ],
      "text/plain": [
       "                 High        Low       Open      Close       Volume  \\\n",
       "Date                                                                  \n",
       "2013-12-31  15.620000  15.510000  15.600000  15.570000   57188900.0   \n",
       "2014-01-02  16.160000  15.680000  15.690000  16.100000  148709900.0   \n",
       "2014-01-03  16.500000  16.230000  16.270000  16.410000  129921800.0   \n",
       "2014-01-06  16.730000  16.559999  16.629999  16.660000  114431300.0   \n",
       "2014-01-07  16.790001  16.450001  16.770000  16.500000  110605100.0   \n",
       "...               ...        ...        ...        ...          ...   \n",
       "2020-11-16  28.000000  27.180000  27.860001  27.580000   57396700.0   \n",
       "2020-11-17  27.600000  27.010000  27.250000  27.549999   46402300.0   \n",
       "2020-11-18  27.930000  26.959999  27.629999  26.980000   54416700.0   \n",
       "2020-11-19  27.010000  26.650000  26.930000  26.980000   46423000.0   \n",
       "2020-11-20  26.950001  26.629999  26.740000  26.809999   40538000.0   \n",
       "\n",
       "            Adj Close       BAC  \n",
       "Date                             \n",
       "2013-12-31  13.512726       NaN  \n",
       "2014-01-02  13.972697  0.034040  \n",
       "2014-01-03  14.241735  0.019255  \n",
       "2014-01-06  14.458702  0.015235  \n",
       "2014-01-07  14.319849 -0.009603  \n",
       "...               ...       ...  \n",
       "2020-11-16  26.760630  0.021481  \n",
       "2020-11-17  26.731520 -0.001088  \n",
       "2020-11-18  26.178455 -0.020690  \n",
       "2020-11-19  26.178455  0.000000  \n",
       "2020-11-20  26.013504 -0.006301  \n",
       "\n",
       "[1737 rows x 7 columns]"
      ]
     },
     "execution_count": 194,
     "metadata": {},
     "output_type": "execute_result"
    }
   ],
   "source": [
    "for ticker in tickers:\n",
    "    data = web.DataReader(ticker, 'yahoo', start, end) \n",
    "    data[ticker] = data['Adj Close'].pct_change()\n",
    "    \n",
    "    if returns.empty:\n",
    "        returns = data[[ticker]]\n",
    "    else:\n",
    "        returns = returns.join(data[[ticker]], how = 'outer')\n",
    "data\n",
    "# loop first running for TSLA, extracting its data from yahoo finance from the start to the end dates \n",
    "# and then storing it in a data frame, data. Next, data[ticker] = data[TSLA] column is created which\n",
    "# contains percentage changes in the Adj Close of TSLA. Next, if-else is evaluated. In the if statement,\n",
    "# returns.empty outputs True since the data frame, returns, is yet empty, which sets the data frame,\n",
    "# returns, equal to data[[ticker]] or more precisely to data[[TSLA]]. This finishes the first loop.\n",
    "\n",
    "# Then the loop runs for BAC, extracting its data from yahoo finance from the start to the end dates\n",
    "# and then storing it in a data frame, data. Next, data[ticker] = data[BAC] column is created which\n",
    "# is set equal to percentage changes in the Adj Close of BAC. Next, if-else is evaluated. In the if\n",
    "# statement,returns.empty turns out to be False this time, therefore, else is executed, where the data \n",
    "# frame, returns which already contains the data for TSLA, now takes the data from data[[ticker]] which\n",
    "# is this time equal to data[[BAC]]. Thus, the data frame, returns, now contains two columns. The first one\n",
    "# contains percent changes (net returns) of TSLA and the second one contains the percent changes (net returns) of\n",
    "# BAC.\n",
    "\n",
    "# The data frame, data, will still contain 1,737 rows since it contains data only for BAC.\n",
    "\n",
    "# The data frame, returns, will contain 1,737 rows but then two columns, one for TSLA and the other for\n",
    "# BAC."
   ]
  },
  {
   "cell_type": "code",
   "execution_count": 195,
   "id": "60e9cc03-5a2e-45b7-ac0b-6a309cdc682b",
   "metadata": {},
   "outputs": [
    {
     "data": {
      "text/html": [
       "<div>\n",
       "<style scoped>\n",
       "    .dataframe tbody tr th:only-of-type {\n",
       "        vertical-align: middle;\n",
       "    }\n",
       "\n",
       "    .dataframe tbody tr th {\n",
       "        vertical-align: top;\n",
       "    }\n",
       "\n",
       "    .dataframe thead th {\n",
       "        text-align: right;\n",
       "    }\n",
       "</style>\n",
       "<table border=\"1\" class=\"dataframe\">\n",
       "  <thead>\n",
       "    <tr style=\"text-align: right;\">\n",
       "      <th></th>\n",
       "      <th>TSLA</th>\n",
       "      <th>BAC</th>\n",
       "    </tr>\n",
       "    <tr>\n",
       "      <th>Date</th>\n",
       "      <th></th>\n",
       "      <th></th>\n",
       "    </tr>\n",
       "  </thead>\n",
       "  <tbody>\n",
       "    <tr>\n",
       "      <th>2013-12-31</th>\n",
       "      <td>NaN</td>\n",
       "      <td>NaN</td>\n",
       "    </tr>\n",
       "    <tr>\n",
       "      <th>2014-01-02</th>\n",
       "      <td>-0.002194</td>\n",
       "      <td>0.034040</td>\n",
       "    </tr>\n",
       "    <tr>\n",
       "      <th>2014-01-03</th>\n",
       "      <td>-0.003598</td>\n",
       "      <td>0.019255</td>\n",
       "    </tr>\n",
       "    <tr>\n",
       "      <th>2014-01-06</th>\n",
       "      <td>-0.017117</td>\n",
       "      <td>0.015235</td>\n",
       "    </tr>\n",
       "    <tr>\n",
       "      <th>2014-01-07</th>\n",
       "      <td>0.016054</td>\n",
       "      <td>-0.009603</td>\n",
       "    </tr>\n",
       "    <tr>\n",
       "      <th>...</th>\n",
       "      <td>...</td>\n",
       "      <td>...</td>\n",
       "    </tr>\n",
       "    <tr>\n",
       "      <th>2020-11-16</th>\n",
       "      <td>-0.001004</td>\n",
       "      <td>0.021481</td>\n",
       "    </tr>\n",
       "    <tr>\n",
       "      <th>2020-11-17</th>\n",
       "      <td>0.082139</td>\n",
       "      <td>-0.001088</td>\n",
       "    </tr>\n",
       "    <tr>\n",
       "      <th>2020-11-18</th>\n",
       "      <td>0.101968</td>\n",
       "      <td>-0.020690</td>\n",
       "    </tr>\n",
       "    <tr>\n",
       "      <th>2020-11-19</th>\n",
       "      <td>0.025953</td>\n",
       "      <td>0.000000</td>\n",
       "    </tr>\n",
       "    <tr>\n",
       "      <th>2020-11-20</th>\n",
       "      <td>-0.019348</td>\n",
       "      <td>-0.006301</td>\n",
       "    </tr>\n",
       "  </tbody>\n",
       "</table>\n",
       "<p>1737 rows × 2 columns</p>\n",
       "</div>"
      ],
      "text/plain": [
       "                TSLA       BAC\n",
       "Date                          \n",
       "2013-12-31       NaN       NaN\n",
       "2014-01-02 -0.002194  0.034040\n",
       "2014-01-03 -0.003598  0.019255\n",
       "2014-01-06 -0.017117  0.015235\n",
       "2014-01-07  0.016054 -0.009603\n",
       "...              ...       ...\n",
       "2020-11-16 -0.001004  0.021481\n",
       "2020-11-17  0.082139 -0.001088\n",
       "2020-11-18  0.101968 -0.020690\n",
       "2020-11-19  0.025953  0.000000\n",
       "2020-11-20 -0.019348 -0.006301\n",
       "\n",
       "[1737 rows x 2 columns]"
      ]
     },
     "execution_count": 195,
     "metadata": {},
     "output_type": "execute_result"
    }
   ],
   "source": [
    "returns"
   ]
  },
  {
   "cell_type": "code",
   "execution_count": 196,
   "id": "4d090e00-c3d5-4eb4-826b-248711779450",
   "metadata": {},
   "outputs": [
    {
     "data": {
      "text/plain": [
       "pandas.core.frame.DataFrame"
      ]
     },
     "execution_count": 196,
     "metadata": {},
     "output_type": "execute_result"
    }
   ],
   "source": [
    "type(returns)"
   ]
  },
  {
   "cell_type": "code",
   "execution_count": 197,
   "id": "782dda5a",
   "metadata": {},
   "outputs": [
    {
     "data": {
      "text/plain": [
       "2"
      ]
     },
     "execution_count": 197,
     "metadata": {},
     "output_type": "execute_result"
    }
   ],
   "source": [
    "len(tickers)"
   ]
  },
  {
   "cell_type": "markdown",
   "id": "84e40b1f-6ee3-454d-a465-abb8da9af964",
   "metadata": {},
   "source": [
    "## Determine the portfolio weights:"
   ]
  },
  {
   "cell_type": "code",
   "execution_count": 198,
   "id": "1d9fb0a6-d980-43dc-9785-fa9ae9d53496",
   "metadata": {},
   "outputs": [
    {
     "name": "stdout",
     "output_type": "stream",
     "text": [
      "[0.27960677 0.99268242]\n",
      "[0.55630228 0.1492471 ]\n",
      "[0.54921433 0.13037391]\n",
      "[0.43738573 0.92327661]\n",
      "[0.78915589 0.33028886]\n",
      "[0.11329097 0.50341696]\n",
      "[0.1252243  0.06845049]\n",
      "[0.01481791 0.842281  ]\n",
      "[0.67023047 0.82436216]\n",
      "[0.58739927 0.8460302 ]\n"
     ]
    }
   ],
   "source": [
    "for i in range(10):\n",
    "    weights = np.random.rand(len(tickers))\n",
    "    print(weights)\n",
    "    \n",
    "# Loop will run the first time for 0 and put 0 in portfolio variable. Then, np.random.random_sample(2) will run\n",
    "# and produce two random numbers and store them in the variable, weights. The loop then runs for 1 in portfolio\n",
    "# variable, np.random.random_sample(2) generates two random numbers and store them in the variable, weights again.\n",
    "# The loop runs 5 times in total from 0 to 4. Thus, the variable, weights, contain 5 sets of 2 random numbers and\n",
    "# each set can be viewed as a seperate portfolio. Hence, the total number of portfolios is equal to 5.\n",
    "\n",
    "# But now the problem is each portfolio weight is either less than or greater than 1 or 100 percent. We overcome \n",
    "# this problem in the following as:"
   ]
  },
  {
   "cell_type": "code",
   "execution_count": 199,
   "id": "2fd393b1-a627-45d0-b81f-2cca7d2eda60",
   "metadata": {},
   "outputs": [
    {
     "data": {
      "text/plain": [
       "array([0.58739927, 0.8460302 ])"
      ]
     },
     "execution_count": 199,
     "metadata": {},
     "output_type": "execute_result"
    }
   ],
   "source": [
    "weights"
   ]
  },
  {
   "cell_type": "code",
   "execution_count": 200,
   "id": "ba4c89ad-4f4c-4d99-9fbd-ae264240c829",
   "metadata": {},
   "outputs": [
    {
     "data": {
      "text/plain": [
       "1.4334294739746345"
      ]
     },
     "execution_count": 200,
     "metadata": {},
     "output_type": "execute_result"
    }
   ],
   "source": [
    "weights[0] + weights[1] # these will change every time we run the cells above."
   ]
  },
  {
   "cell_type": "code",
   "execution_count": 202,
   "id": "afbdeeba-8799-4f1d-b4ed-15132eeb4b09",
   "metadata": {},
   "outputs": [],
   "source": [
    "weights = weights / np.sum(weights)"
   ]
  },
  {
   "cell_type": "code",
   "execution_count": 203,
   "id": "456fa729-d4af-4e5f-a0ae-79f0cd3a400e",
   "metadata": {},
   "outputs": [
    {
     "data": {
      "text/plain": [
       "0.9999999999999999"
      ]
     },
     "execution_count": 203,
     "metadata": {},
     "output_type": "execute_result"
    }
   ],
   "source": [
    "weights[0] + weights[1] # Now the sum of the weights invested in both the assets is precesiely equal to 1."
   ]
  },
  {
   "cell_type": "code",
   "execution_count": 204,
   "id": "5cbe1073-1f13-4085-b834-c38325eebe41",
   "metadata": {},
   "outputs": [
    {
     "data": {
      "text/plain": [
       "0"
      ]
     },
     "execution_count": 204,
     "metadata": {},
     "output_type": "execute_result"
    }
   ],
   "source": [
    "weights = 0 # to start fresh for the following loop.\n",
    "weights"
   ]
  },
  {
   "cell_type": "code",
   "execution_count": 205,
   "id": "26004c57-4735-4c52-a799-5f4fe0077068",
   "metadata": {},
   "outputs": [
    {
     "name": "stdout",
     "output_type": "stream",
     "text": [
      "[0.49162487 0.50837513]\n",
      "[0.27243034 0.72756966]\n",
      "[0.74853136 0.25146864]\n",
      "[0.91423616 0.08576384]\n",
      "[0.75868297 0.24131703]\n"
     ]
    }
   ],
   "source": [
    "number_of_portfolios = 5\n",
    "for portfolio in range(number_of_portfolios):\n",
    "    weights = np.random.rand(len(tickers))\n",
    "    weights = weights / np.sum(weights)\n",
    "    print(weights)\n",
    "    \n",
    "# Now the weights invested in each portfolio is equal to 1."
   ]
  },
  {
   "cell_type": "code",
   "execution_count": 206,
   "id": "74b15e3b-feee-4604-a35b-5ac12dd27bce",
   "metadata": {},
   "outputs": [],
   "source": [
    "portfolio_return = []\n",
    "portfolio_risk = []\n",
    "sharpe_ratio = []\n",
    "portfolio_weights = []\n",
    "rf = 0"
   ]
  },
  {
   "cell_type": "code",
   "execution_count": 207,
   "id": "84b6c4c2-28c1-4f8f-a543-690a11d67d39",
   "metadata": {},
   "outputs": [
    {
     "data": {
      "text/plain": [
       "0"
      ]
     },
     "execution_count": 207,
     "metadata": {},
     "output_type": "execute_result"
    }
   ],
   "source": [
    "weights = 0 # to start fresh for the following loop.\n",
    "weights"
   ]
  },
  {
   "cell_type": "code",
   "execution_count": 208,
   "id": "970ed775-2bc9-47c9-bce1-74958a17fc18",
   "metadata": {},
   "outputs": [
    {
     "name": "stdout",
     "output_type": "stream",
     "text": [
      "[array([0.902, 0.098]), array([0.556, 0.444]), array([0.508, 0.492]), array([0.299, 0.701]), array([0.141, 0.859])]\n"
     ]
    }
   ],
   "source": [
    "number_of_portfolios = 5\n",
    "for portfolio in range(number_of_portfolios):\n",
    "    # Generate random portfolio weights\n",
    "    weights = np.random.random_sample(len(tickers))\n",
    "    weights = np.round((weights / np.sum(weights)), 3) # round-off to 3 decimal points\n",
    "    portfolio_weights.append(weights)\n",
    "\n",
    "print(portfolio_weights)"
   ]
  },
  {
   "cell_type": "markdown",
   "id": "e3b64ace-9bc9-4b78-8269-ad6e55620971",
   "metadata": {},
   "source": [
    "## Compute Annualized Portfolio Returns:"
   ]
  },
  {
   "cell_type": "code",
   "execution_count": 209,
   "id": "266625d6-9762-4e5a-92e8-4d635555d5da",
   "metadata": {},
   "outputs": [
    {
     "data": {
      "text/html": [
       "<div>\n",
       "<style scoped>\n",
       "    .dataframe tbody tr th:only-of-type {\n",
       "        vertical-align: middle;\n",
       "    }\n",
       "\n",
       "    .dataframe tbody tr th {\n",
       "        vertical-align: top;\n",
       "    }\n",
       "\n",
       "    .dataframe thead th {\n",
       "        text-align: right;\n",
       "    }\n",
       "</style>\n",
       "<table border=\"1\" class=\"dataframe\">\n",
       "  <thead>\n",
       "    <tr style=\"text-align: right;\">\n",
       "      <th></th>\n",
       "      <th>TSLA</th>\n",
       "      <th>BAC</th>\n",
       "    </tr>\n",
       "    <tr>\n",
       "      <th>Date</th>\n",
       "      <th></th>\n",
       "      <th></th>\n",
       "    </tr>\n",
       "  </thead>\n",
       "  <tbody>\n",
       "    <tr>\n",
       "      <th>2013-12-31</th>\n",
       "      <td>NaN</td>\n",
       "      <td>NaN</td>\n",
       "    </tr>\n",
       "    <tr>\n",
       "      <th>2014-01-02</th>\n",
       "      <td>-0.002194</td>\n",
       "      <td>0.034040</td>\n",
       "    </tr>\n",
       "    <tr>\n",
       "      <th>2014-01-03</th>\n",
       "      <td>-0.003598</td>\n",
       "      <td>0.019255</td>\n",
       "    </tr>\n",
       "    <tr>\n",
       "      <th>2014-01-06</th>\n",
       "      <td>-0.017117</td>\n",
       "      <td>0.015235</td>\n",
       "    </tr>\n",
       "    <tr>\n",
       "      <th>2014-01-07</th>\n",
       "      <td>0.016054</td>\n",
       "      <td>-0.009603</td>\n",
       "    </tr>\n",
       "    <tr>\n",
       "      <th>...</th>\n",
       "      <td>...</td>\n",
       "      <td>...</td>\n",
       "    </tr>\n",
       "    <tr>\n",
       "      <th>2020-11-16</th>\n",
       "      <td>-0.001004</td>\n",
       "      <td>0.021481</td>\n",
       "    </tr>\n",
       "    <tr>\n",
       "      <th>2020-11-17</th>\n",
       "      <td>0.082139</td>\n",
       "      <td>-0.001088</td>\n",
       "    </tr>\n",
       "    <tr>\n",
       "      <th>2020-11-18</th>\n",
       "      <td>0.101968</td>\n",
       "      <td>-0.020690</td>\n",
       "    </tr>\n",
       "    <tr>\n",
       "      <th>2020-11-19</th>\n",
       "      <td>0.025953</td>\n",
       "      <td>0.000000</td>\n",
       "    </tr>\n",
       "    <tr>\n",
       "      <th>2020-11-20</th>\n",
       "      <td>-0.019348</td>\n",
       "      <td>-0.006301</td>\n",
       "    </tr>\n",
       "  </tbody>\n",
       "</table>\n",
       "<p>1737 rows × 2 columns</p>\n",
       "</div>"
      ],
      "text/plain": [
       "                TSLA       BAC\n",
       "Date                          \n",
       "2013-12-31       NaN       NaN\n",
       "2014-01-02 -0.002194  0.034040\n",
       "2014-01-03 -0.003598  0.019255\n",
       "2014-01-06 -0.017117  0.015235\n",
       "2014-01-07  0.016054 -0.009603\n",
       "...              ...       ...\n",
       "2020-11-16 -0.001004  0.021481\n",
       "2020-11-17  0.082139 -0.001088\n",
       "2020-11-18  0.101968 -0.020690\n",
       "2020-11-19  0.025953  0.000000\n",
       "2020-11-20 -0.019348 -0.006301\n",
       "\n",
       "[1737 rows x 2 columns]"
      ]
     },
     "execution_count": 209,
     "metadata": {},
     "output_type": "execute_result"
    }
   ],
   "source": [
    "returns # the data frame, returns, contains daily returns of the 2 stocks."
   ]
  },
  {
   "cell_type": "code",
   "execution_count": 210,
   "id": "fb83a116-ba6a-4b6f-b0a0-2ed6cb6ecf37",
   "metadata": {},
   "outputs": [
    {
     "data": {
      "text/plain": [
       "TSLA    0.002186\n",
       "BAC     0.000582\n",
       "dtype: float64"
      ]
     },
     "execution_count": 210,
     "metadata": {},
     "output_type": "execute_result"
    }
   ],
   "source": [
    "returns.mean() \n",
    "# generates daily mean return for the two stocks. TSLA on average generates a daily return of $0.0022 per dollar\n",
    "# investment or $0.22 per 100 dollar investment."
   ]
  },
  {
   "cell_type": "code",
   "execution_count": 211,
   "id": "40fef497-7773-4fc5-891a-6d858f03edd4",
   "metadata": {},
   "outputs": [
    {
     "data": {
      "text/plain": [
       "array([0.141, 0.859])"
      ]
     },
     "execution_count": 211,
     "metadata": {},
     "output_type": "execute_result"
    }
   ],
   "source": [
    "weights # the weights of both the assets in a portfolio."
   ]
  },
  {
   "cell_type": "code",
   "execution_count": 212,
   "id": "bea67fe4-cd82-4b66-88df-8b46128a551b",
   "metadata": {},
   "outputs": [
    {
     "data": {
      "text/plain": [
       "(0.141, 0.859)"
      ]
     },
     "execution_count": 212,
     "metadata": {},
     "output_type": "execute_result"
    }
   ],
   "source": [
    "weights[0], weights[1]"
   ]
  },
  {
   "cell_type": "code",
   "execution_count": 213,
   "id": "49379275-109a-4e83-8324-e700e06db03a",
   "metadata": {},
   "outputs": [
    {
     "data": {
      "text/plain": [
       "0.000808164"
      ]
     },
     "execution_count": 213,
     "metadata": {},
     "output_type": "execute_result"
    }
   ],
   "source": [
    "0.002186 * weights[0] + 0.000582 * weights[1] \n",
    "# Portfolio of these weights generate daily expected return of $0.0014 per dollar investment or return of $0.14 \n",
    "# per 100 dollar investment."
   ]
  },
  {
   "cell_type": "code",
   "execution_count": 214,
   "id": "ca0acfb6-84dd-4591-96f0-db1294d16743",
   "metadata": {},
   "outputs": [
    {
     "data": {
      "text/plain": [
       "0.0008079533864349974"
      ]
     },
     "execution_count": 214,
     "metadata": {},
     "output_type": "execute_result"
    }
   ],
   "source": [
    "np.sum(returns.mean() * weights) \n",
    "\n",
    "# generates the portfolio's daily expected return given the means and weights. We cannot change the mean daily \n",
    "# returns but can change the weights, which will change the portfolio's expected return.\n",
    "\n",
    "# Investing 52.7% of the total available funds in TSLA and 47.3% in BAC has the expected daily portfolio return of\n",
    "# $0.00143 per dollar of investment or $0.143 per 100 dollars of investment. "
   ]
  },
  {
   "cell_type": "code",
   "execution_count": 219,
   "id": "f0706467-0d31-44ca-be89-18af8ca3ea84",
   "metadata": {},
   "outputs": [
    {
     "data": {
      "text/plain": [
       "0.0"
      ]
     },
     "execution_count": 219,
     "metadata": {},
     "output_type": "execute_result"
    }
   ],
   "source": [
    "np.sum(returns.mean() * weights) * 252 \n",
    "# 252 days since stock markets usally trade for 252 days in a year.\n",
    "# generates annualized return of the portfolio. So, $1 invested in this portfolio is expected to generate a return\n",
    "# of almost $0.25 in a year or $100 invested in this portfolio is expected to generate a return of almost $25 in a\n",
    "# year."
   ]
  },
  {
   "cell_type": "code",
   "execution_count": 216,
   "id": "fd268544-6ad1-4395-85e7-748e975a8cc8",
   "metadata": {},
   "outputs": [
    {
     "data": {
      "text/plain": [
       "([],\n",
       " [],\n",
       " [],\n",
       " [array([0.902, 0.098]),\n",
       "  array([0.556, 0.444]),\n",
       "  array([0.508, 0.492]),\n",
       "  array([0.299, 0.701]),\n",
       "  array([0.141, 0.859])],\n",
       " 0,\n",
       " array([0.141, 0.859]))"
      ]
     },
     "execution_count": 216,
     "metadata": {},
     "output_type": "execute_result"
    }
   ],
   "source": [
    "portfolio_return, portfolio_risk, sharpe_ratio, portfolio_weights, rf, weights"
   ]
  },
  {
   "cell_type": "code",
   "execution_count": 217,
   "id": "1e76069b-86c8-490d-9621-b1eb26cade24",
   "metadata": {},
   "outputs": [],
   "source": [
    "portfolio_return = []\n",
    "portfolio_risk = []\n",
    "sharpe_ratio = []\n",
    "portfolio_weights = []\n",
    "rf = 0\n",
    "\n",
    "# to start fresh for the following loop."
   ]
  },
  {
   "cell_type": "code",
   "execution_count": 218,
   "id": "e0b06145-d08e-496b-a441-2da53fa02745",
   "metadata": {},
   "outputs": [],
   "source": [
    "weights = 0"
   ]
  },
  {
   "cell_type": "code",
   "execution_count": 93,
   "id": "6cac056e-b4a4-43dd-aa2e-0af467deaf55",
   "metadata": {},
   "outputs": [
    {
     "name": "stdout",
     "output_type": "stream",
     "text": [
      "[array([0.006, 0.994]), array([0.946, 0.054]), array([0.326, 0.674]), array([0.486, 0.514]), array([0.338, 0.662])]\n",
      "[0.149, 0.529, 0.278, 0.343, 0.283]\n"
     ]
    }
   ],
   "source": [
    "number_of_portfolios = 5\n",
    "for portfolio in range(number_of_portfolios):\n",
    "    # Generate random portfolio weights\n",
    "    weights = np.random.random_sample(len(tickers))\n",
    "    weights = np.round((weights / np.sum(weights)), 3) # round-off to 3 decimal points\n",
    "    portfolio_weights.append(weights)\n",
    "    #Generate annualized portfolio return\n",
    "    annualized_return = np.sum(returns.mean() * weights) * 252\n",
    "    annualized_return = np.round((annualized_return), 3)\n",
    "    portfolio_return.append(annualized_return)\n",
    "\n",
    "print(portfolio_weights)\n",
    "print(portfolio_return)"
   ]
  },
  {
   "cell_type": "markdown",
   "id": "f6a2097f-8f73-43c3-a344-e21284b1d718",
   "metadata": {},
   "source": [
    "## Compute Covariance Matrix and Portfolio's Risk:"
   ]
  },
  {
   "cell_type": "code",
   "execution_count": 220,
   "id": "0d8baa2c-a2d1-48c1-bb59-b1dcd1fe4162",
   "metadata": {},
   "outputs": [
    {
     "data": {
      "text/html": [
       "<div>\n",
       "<style scoped>\n",
       "    .dataframe tbody tr th:only-of-type {\n",
       "        vertical-align: middle;\n",
       "    }\n",
       "\n",
       "    .dataframe tbody tr th {\n",
       "        vertical-align: top;\n",
       "    }\n",
       "\n",
       "    .dataframe thead th {\n",
       "        text-align: right;\n",
       "    }\n",
       "</style>\n",
       "<table border=\"1\" class=\"dataframe\">\n",
       "  <thead>\n",
       "    <tr style=\"text-align: right;\">\n",
       "      <th></th>\n",
       "      <th>TSLA</th>\n",
       "      <th>BAC</th>\n",
       "    </tr>\n",
       "    <tr>\n",
       "      <th>Date</th>\n",
       "      <th></th>\n",
       "      <th></th>\n",
       "    </tr>\n",
       "  </thead>\n",
       "  <tbody>\n",
       "    <tr>\n",
       "      <th>2013-12-31</th>\n",
       "      <td>NaN</td>\n",
       "      <td>NaN</td>\n",
       "    </tr>\n",
       "    <tr>\n",
       "      <th>2014-01-02</th>\n",
       "      <td>-0.002194</td>\n",
       "      <td>0.034040</td>\n",
       "    </tr>\n",
       "    <tr>\n",
       "      <th>2014-01-03</th>\n",
       "      <td>-0.003598</td>\n",
       "      <td>0.019255</td>\n",
       "    </tr>\n",
       "    <tr>\n",
       "      <th>2014-01-06</th>\n",
       "      <td>-0.017117</td>\n",
       "      <td>0.015235</td>\n",
       "    </tr>\n",
       "    <tr>\n",
       "      <th>2014-01-07</th>\n",
       "      <td>0.016054</td>\n",
       "      <td>-0.009603</td>\n",
       "    </tr>\n",
       "    <tr>\n",
       "      <th>...</th>\n",
       "      <td>...</td>\n",
       "      <td>...</td>\n",
       "    </tr>\n",
       "    <tr>\n",
       "      <th>2020-11-16</th>\n",
       "      <td>-0.001004</td>\n",
       "      <td>0.021481</td>\n",
       "    </tr>\n",
       "    <tr>\n",
       "      <th>2020-11-17</th>\n",
       "      <td>0.082139</td>\n",
       "      <td>-0.001088</td>\n",
       "    </tr>\n",
       "    <tr>\n",
       "      <th>2020-11-18</th>\n",
       "      <td>0.101968</td>\n",
       "      <td>-0.020690</td>\n",
       "    </tr>\n",
       "    <tr>\n",
       "      <th>2020-11-19</th>\n",
       "      <td>0.025953</td>\n",
       "      <td>0.000000</td>\n",
       "    </tr>\n",
       "    <tr>\n",
       "      <th>2020-11-20</th>\n",
       "      <td>-0.019348</td>\n",
       "      <td>-0.006301</td>\n",
       "    </tr>\n",
       "  </tbody>\n",
       "</table>\n",
       "<p>1737 rows × 2 columns</p>\n",
       "</div>"
      ],
      "text/plain": [
       "                TSLA       BAC\n",
       "Date                          \n",
       "2013-12-31       NaN       NaN\n",
       "2014-01-02 -0.002194  0.034040\n",
       "2014-01-03 -0.003598  0.019255\n",
       "2014-01-06 -0.017117  0.015235\n",
       "2014-01-07  0.016054 -0.009603\n",
       "...              ...       ...\n",
       "2020-11-16 -0.001004  0.021481\n",
       "2020-11-17  0.082139 -0.001088\n",
       "2020-11-18  0.101968 -0.020690\n",
       "2020-11-19  0.025953  0.000000\n",
       "2020-11-20 -0.019348 -0.006301\n",
       "\n",
       "[1737 rows x 2 columns]"
      ]
     },
     "execution_count": 220,
     "metadata": {},
     "output_type": "execute_result"
    }
   ],
   "source": [
    "returns"
   ]
  },
  {
   "cell_type": "code",
   "execution_count": 95,
   "id": "0940cd5b-8a69-4d51-bf8b-02287f1cfed7",
   "metadata": {},
   "outputs": [
    {
     "data": {
      "text/html": [
       "<div>\n",
       "<style scoped>\n",
       "    .dataframe tbody tr th:only-of-type {\n",
       "        vertical-align: middle;\n",
       "    }\n",
       "\n",
       "    .dataframe tbody tr th {\n",
       "        vertical-align: top;\n",
       "    }\n",
       "\n",
       "    .dataframe thead th {\n",
       "        text-align: right;\n",
       "    }\n",
       "</style>\n",
       "<table border=\"1\" class=\"dataframe\">\n",
       "  <thead>\n",
       "    <tr style=\"text-align: right;\">\n",
       "      <th></th>\n",
       "      <th>TSLA</th>\n",
       "      <th>BAC</th>\n",
       "    </tr>\n",
       "  </thead>\n",
       "  <tbody>\n",
       "    <tr>\n",
       "      <th>TSLA</th>\n",
       "      <td>0.001160</td>\n",
       "      <td>0.000187</td>\n",
       "    </tr>\n",
       "    <tr>\n",
       "      <th>BAC</th>\n",
       "      <td>0.000187</td>\n",
       "      <td>0.000410</td>\n",
       "    </tr>\n",
       "  </tbody>\n",
       "</table>\n",
       "</div>"
      ],
      "text/plain": [
       "          TSLA       BAC\n",
       "TSLA  0.001160  0.000187\n",
       "BAC   0.000187  0.000410"
      ]
     },
     "execution_count": 95,
     "metadata": {},
     "output_type": "execute_result"
    }
   ],
   "source": [
    "returns.cov()"
   ]
  },
  {
   "cell_type": "code",
   "execution_count": 96,
   "id": "ecb6d41d-1004-469c-a1a3-3d543e388341",
   "metadata": {},
   "outputs": [
    {
     "data": {
      "text/html": [
       "<div>\n",
       "<style scoped>\n",
       "    .dataframe tbody tr th:only-of-type {\n",
       "        vertical-align: middle;\n",
       "    }\n",
       "\n",
       "    .dataframe tbody tr th {\n",
       "        vertical-align: top;\n",
       "    }\n",
       "\n",
       "    .dataframe thead th {\n",
       "        text-align: right;\n",
       "    }\n",
       "</style>\n",
       "<table border=\"1\" class=\"dataframe\">\n",
       "  <thead>\n",
       "    <tr style=\"text-align: right;\">\n",
       "      <th></th>\n",
       "      <th>TSLA</th>\n",
       "      <th>BAC</th>\n",
       "    </tr>\n",
       "  </thead>\n",
       "  <tbody>\n",
       "    <tr>\n",
       "      <th>TSLA</th>\n",
       "      <td>0.292387</td>\n",
       "      <td>0.047138</td>\n",
       "    </tr>\n",
       "    <tr>\n",
       "      <th>BAC</th>\n",
       "      <td>0.047138</td>\n",
       "      <td>0.103215</td>\n",
       "    </tr>\n",
       "  </tbody>\n",
       "</table>\n",
       "</div>"
      ],
      "text/plain": [
       "          TSLA       BAC\n",
       "TSLA  0.292387  0.047138\n",
       "BAC   0.047138  0.103215"
      ]
     },
     "execution_count": 96,
     "metadata": {},
     "output_type": "execute_result"
    }
   ],
   "source": [
    "returns.cov() * 252"
   ]
  },
  {
   "cell_type": "code",
   "execution_count": 97,
   "id": "d99f2dd6-9add-4422-9319-d79a75ee920c",
   "metadata": {},
   "outputs": [
    {
     "data": {
      "text/html": [
       "<div>\n",
       "<style scoped>\n",
       "    .dataframe tbody tr th:only-of-type {\n",
       "        vertical-align: middle;\n",
       "    }\n",
       "\n",
       "    .dataframe tbody tr th {\n",
       "        vertical-align: top;\n",
       "    }\n",
       "\n",
       "    .dataframe thead th {\n",
       "        text-align: right;\n",
       "    }\n",
       "</style>\n",
       "<table border=\"1\" class=\"dataframe\">\n",
       "  <thead>\n",
       "    <tr style=\"text-align: right;\">\n",
       "      <th></th>\n",
       "      <th>TSLA</th>\n",
       "      <th>BAC</th>\n",
       "    </tr>\n",
       "  </thead>\n",
       "  <tbody>\n",
       "    <tr>\n",
       "      <th>TSLA</th>\n",
       "      <td>0.292387</td>\n",
       "      <td>0.047138</td>\n",
       "    </tr>\n",
       "    <tr>\n",
       "      <th>BAC</th>\n",
       "      <td>0.047138</td>\n",
       "      <td>0.103215</td>\n",
       "    </tr>\n",
       "  </tbody>\n",
       "</table>\n",
       "</div>"
      ],
      "text/plain": [
       "          TSLA       BAC\n",
       "TSLA  0.292387  0.047138\n",
       "BAC   0.047138  0.103215"
      ]
     },
     "execution_count": 97,
     "metadata": {},
     "output_type": "execute_result"
    }
   ],
   "source": [
    "covariance_matrix = returns.cov() * 252\n",
    "covariance_matrix"
   ]
  },
  {
   "cell_type": "code",
   "execution_count": 98,
   "id": "4447717e-1024-4947-ae33-c161c84e7519",
   "metadata": {},
   "outputs": [
    {
     "data": {
      "text/plain": [
       "array([0.338, 0.662])"
      ]
     },
     "execution_count": 98,
     "metadata": {},
     "output_type": "execute_result"
    }
   ],
   "source": [
    "weights"
   ]
  },
  {
   "cell_type": "code",
   "execution_count": 99,
   "id": "6ea552f8-eb38-414b-ad19-c2cf669ef609",
   "metadata": {},
   "outputs": [
    {
     "data": {
      "text/plain": [
       "array([0.338, 0.662])"
      ]
     },
     "execution_count": 99,
     "metadata": {},
     "output_type": "execute_result"
    }
   ],
   "source": [
    "weights.T # step A in excel."
   ]
  },
  {
   "cell_type": "code",
   "execution_count": 100,
   "id": "2df35e7b-f859-406a-9438-2093db546649",
   "metadata": {},
   "outputs": [
    {
     "data": {
      "text/plain": [
       "array([0.13003192, 0.084261  ])"
      ]
     },
     "execution_count": 100,
     "metadata": {},
     "output_type": "execute_result"
    }
   ],
   "source": [
    "np.dot(covariance_matrix, weights) # step B in excel."
   ]
  },
  {
   "cell_type": "code",
   "execution_count": 101,
   "id": "3b06da37-0595-456d-9af0-848ca3be89db",
   "metadata": {},
   "outputs": [
    {
     "data": {
      "text/plain": [
       "0.09973157421814088"
      ]
     },
     "execution_count": 101,
     "metadata": {},
     "output_type": "execute_result"
    }
   ],
   "source": [
    "np.dot(weights.T, np.dot(covariance_matrix, weights)) # step C in excel."
   ]
  },
  {
   "cell_type": "code",
   "execution_count": 102,
   "id": "b4709a61-60ae-4f21-9d5d-c7b59dd13a1e",
   "metadata": {},
   "outputs": [
    {
     "data": {
      "text/plain": [
       "0.09973157421814088"
      ]
     },
     "execution_count": 102,
     "metadata": {},
     "output_type": "execute_result"
    }
   ],
   "source": [
    "portfolio_variance = np.dot(weights.T, np.dot(covariance_matrix, weights))\n",
    "portfolio_variance"
   ]
  },
  {
   "cell_type": "code",
   "execution_count": 103,
   "id": "9510008b-035b-406b-972f-1c9e787d9a2e",
   "metadata": {},
   "outputs": [
    {
     "data": {
      "text/plain": [
       "0.3158030623951276"
      ]
     },
     "execution_count": 103,
     "metadata": {},
     "output_type": "execute_result"
    }
   ],
   "source": [
    "standard_deviation = np.sqrt(portfolio_variance)\n",
    "standard_deviation"
   ]
  },
  {
   "cell_type": "code",
   "execution_count": 104,
   "id": "bc3409bd-d4bd-45fb-a729-3ca0c0b1f9a5",
   "metadata": {},
   "outputs": [
    {
     "data": {
      "text/plain": [
       "([0.149, 0.529, 0.278, 0.343, 0.283],\n",
       " [],\n",
       " [],\n",
       " [array([0.006, 0.994]),\n",
       "  array([0.946, 0.054]),\n",
       "  array([0.326, 0.674]),\n",
       "  array([0.486, 0.514]),\n",
       "  array([0.338, 0.662])],\n",
       " array([0.338, 0.662]),\n",
       " 0.283,\n",
       " 0)"
      ]
     },
     "execution_count": 104,
     "metadata": {},
     "output_type": "execute_result"
    }
   ],
   "source": [
    "portfolio_return, portfolio_risk, sharpe_ratio, portfolio_weights, weights, annualized_return, rf"
   ]
  },
  {
   "cell_type": "code",
   "execution_count": 221,
   "id": "405a9aeb-996a-49f8-a3e3-fbd53408cfaa",
   "metadata": {},
   "outputs": [],
   "source": [
    "portfolio_return = []\n",
    "portfolio_risk = []\n",
    "sharpe_ratio = []\n",
    "portfolio_weights = []\n",
    "rf = 0\n",
    "\n",
    "# to start fresh for the following loop."
   ]
  },
  {
   "cell_type": "code",
   "execution_count": 222,
   "id": "9144604f-2ac7-4979-a275-b5374408d2c0",
   "metadata": {},
   "outputs": [],
   "source": [
    "weights = 0\n",
    "annualized_return = 0"
   ]
  },
  {
   "cell_type": "code",
   "execution_count": 223,
   "id": "195204f4-5464-4a8c-852d-cacce365420e",
   "metadata": {},
   "outputs": [
    {
     "name": "stdout",
     "output_type": "stream",
     "text": [
      "[array([0.422, 0.578]), array([0.85, 0.15]), array([0.531, 0.469]), array([0.58, 0.42]), array([0.65, 0.35])]\n",
      "[0.31718901199723976, 0.49019355536907433, 0.36124858028586115, 0.3810551752045992, 0.4093503108027965]\n",
      "[0.3309792039086458, 0.4749651810302254, 0.35864083060727947, 0.3735392488455025, 0.3970200776653474]\n"
     ]
    }
   ],
   "source": [
    "number_of_portfolios = 5\n",
    "for portfolio in range(number_of_portfolios):\n",
    "    # Generate random portfolio weights\n",
    "    weights = np.random.random_sample(len(tickers))\n",
    "    weights = np.round((weights / np.sum(weights)), 3) # round-off to 3 decimal points\n",
    "    portfolio_weights.append(weights)\n",
    "    #Generate annualized portfolio return\n",
    "    annualized_return = np.sum(returns.mean() * weights) * 252\n",
    "    portfolio_return.append(annualized_return)\n",
    "    # Generate Portfolio risk\n",
    "    covariance_matrix = returns.cov() * 252\n",
    "    portfolio_variance = np.dot(weights.T, np.dot(covariance_matrix, weights))\n",
    "    portfolio_standard_deviation = np.sqrt(portfolio_variance)\n",
    "    portfolio_risk.append(portfolio_standard_deviation)\n",
    "\n",
    "print(portfolio_weights)\n",
    "print(portfolio_return)\n",
    "print(portfolio_risk)"
   ]
  },
  {
   "cell_type": "markdown",
   "id": "00202395-493a-40d0-ae4c-9676ba869c2f",
   "metadata": {},
   "source": [
    "## Compute Sharpe Ratio"
   ]
  },
  {
   "cell_type": "code",
   "execution_count": 108,
   "id": "9217f7c8-8a88-4112-bde0-6a8678308c6e",
   "metadata": {},
   "outputs": [
    {
     "data": {
      "text/plain": [
       "0.5039369097904224"
      ]
     },
     "execution_count": 108,
     "metadata": {},
     "output_type": "execute_result"
    }
   ],
   "source": [
    "annualized_return # the portfolio's expected annual return."
   ]
  },
  {
   "cell_type": "code",
   "execution_count": 109,
   "id": "657e85cc-7b01-43d1-bf70-0a7b11ad993b",
   "metadata": {
    "scrolled": true
   },
   "outputs": [
    {
     "data": {
      "text/plain": [
       "0"
      ]
     },
     "execution_count": 109,
     "metadata": {},
     "output_type": "execute_result"
    }
   ],
   "source": [
    "rf"
   ]
  },
  {
   "cell_type": "code",
   "execution_count": 110,
   "id": "967ecf26-6318-46de-b3b9-c621c31cb892",
   "metadata": {},
   "outputs": [
    {
     "data": {
      "text/plain": [
       "0.5039369097904224"
      ]
     },
     "execution_count": 110,
     "metadata": {},
     "output_type": "execute_result"
    }
   ],
   "source": [
    "annualized_return - rf"
   ]
  },
  {
   "cell_type": "code",
   "execution_count": 111,
   "id": "2e9f6496-b95f-4ea0-8ca2-bb989f4dd1fe",
   "metadata": {},
   "outputs": [
    {
     "data": {
      "text/plain": [
       "0.48943198638086344"
      ]
     },
     "execution_count": 111,
     "metadata": {},
     "output_type": "execute_result"
    }
   ],
   "source": [
    "portfolio_standard_deviation"
   ]
  },
  {
   "cell_type": "code",
   "execution_count": 112,
   "id": "54f2c9f1-081a-4da8-8a89-03f9f6b9a509",
   "metadata": {},
   "outputs": [],
   "source": [
    "shrp_ratio = (annualized_return - rf) / portfolio_standard_deviation"
   ]
  },
  {
   "cell_type": "code",
   "execution_count": 113,
   "id": "fbbdf0b1-fd6a-49a8-a086-64a98920e31f",
   "metadata": {},
   "outputs": [
    {
     "data": {
      "text/plain": [
       "1.029636239177616"
      ]
     },
     "execution_count": 113,
     "metadata": {},
     "output_type": "execute_result"
    }
   ],
   "source": [
    "shrp_ratio\n",
    "# risk premium per unit of risk. The higher the shrp ratio is, the better it is."
   ]
  },
  {
   "cell_type": "code",
   "execution_count": 114,
   "id": "0267cc61-104a-4f20-9966-fd87b7169d73",
   "metadata": {},
   "outputs": [
    {
     "data": {
      "text/plain": [
       "([0.3030414592329215,\n",
       "  0.454622533597233,\n",
       "  0.3236564853464678,\n",
       "  0.38590577988541175,\n",
       "  0.5039369097904224],\n",
       " [0.32394537989111755,\n",
       "  0.4389949733905222,\n",
       "  0.33451311324341576,\n",
       "  0.37739048942095343,\n",
       "  0.48943198638086344],\n",
       " [],\n",
       " [array([0.387, 0.613]),\n",
       "  array([0.762, 0.238]),\n",
       "  array([0.438, 0.562]),\n",
       "  array([0.592, 0.408]),\n",
       "  array([0.884, 0.116])],\n",
       " array([0.884, 0.116]),\n",
       " 0.5039369097904224,\n",
       " 0)"
      ]
     },
     "execution_count": 114,
     "metadata": {},
     "output_type": "execute_result"
    }
   ],
   "source": [
    "portfolio_return, portfolio_risk, sharpe_ratio, portfolio_weights, weights, annualized_return, rf"
   ]
  },
  {
   "cell_type": "code",
   "execution_count": 115,
   "id": "d022f641-f9c4-43bc-9df1-92e70f7a6d2c",
   "metadata": {},
   "outputs": [],
   "source": [
    "portfolio_return = []\n",
    "portfolio_risk = []\n",
    "sharpe_ratio = []\n",
    "portfolio_weights = []\n",
    "rf = 0"
   ]
  },
  {
   "cell_type": "code",
   "execution_count": 116,
   "id": "607d9e78-a22a-4766-91a8-4d2570ce4f13",
   "metadata": {},
   "outputs": [],
   "source": [
    "weights = 0\n",
    "annualized_return = 0"
   ]
  },
  {
   "cell_type": "code",
   "execution_count": 117,
   "id": "4b45945b-1216-4dab-902c-e78f064002c5",
   "metadata": {},
   "outputs": [
    {
     "name": "stdout",
     "output_type": "stream",
     "text": [
      "[array([0.339, 0.661])]\n",
      "[0.28363908171428953]\n",
      "[0.3159484410173922]\n",
      "[0.8977385069568229]\n",
      "[array([0.339, 0.661]), array([0.62, 0.38])]\n",
      "[0.28363908171428953, 0.397223833437947]\n",
      "[0.3159484410173922, 0.38666401579867743]\n",
      "[0.8977385069568229, 1.0273100604343997]\n",
      "[array([0.339, 0.661]), array([0.62, 0.38]), array([0.508, 0.492])]\n",
      "[0.28363908171428953, 0.397223833437947, 0.35195161922780593]\n",
      "[0.3159484410173922, 0.38666401579867743, 0.35213920888803557]\n",
      "[0.8977385069568229, 1.0273100604343997, 0.9994672855067119]\n",
      "[array([0.339, 0.661]), array([0.62, 0.38]), array([0.508, 0.492]), array([0.246, 0.754])]\n",
      "[0.28363908171428953, 0.397223833437947, 0.35195161922780593, 0.24604697527194028]\n",
      "[0.3159484410173922, 0.38666401579867743, 0.35213920888803557, 0.30636604377623716]\n",
      "[0.8977385069568229, 1.0273100604343997, 0.9994672855067119, 0.8031143799070873]\n",
      "[array([0.339, 0.661]), array([0.62, 0.38]), array([0.508, 0.492]), array([0.246, 0.754]), array([0.339, 0.661])]\n",
      "[0.28363908171428953, 0.397223833437947, 0.35195161922780593, 0.24604697527194028, 0.28363908171428953]\n",
      "[0.3159484410173922, 0.38666401579867743, 0.35213920888803557, 0.30636604377623716, 0.3159484410173922]\n",
      "[0.8977385069568229, 1.0273100604343997, 0.9994672855067119, 0.8031143799070873, 0.8977385069568229]\n"
     ]
    }
   ],
   "source": [
    "number_of_portfolios = 5\n",
    "for portfolio in range(number_of_portfolios):\n",
    "    # Generate random portfolio weights\n",
    "    weights = np.random.rand(len(tickers))\n",
    "    weights = np.round((weights / np.sum(weights)), 3) # round-off to 3 decimal points\n",
    "    portfolio_weights.append(weights)\n",
    "    #Generate annualized portfolio return\n",
    "    annualized_return = np.sum(returns.mean() * weights) * 252\n",
    "    portfolio_return.append(annualized_return)\n",
    "    # Generate Portfolio risk\n",
    "    covariance_matrix = returns.cov() * 252\n",
    "    portfolio_variance = np.dot(weights.T, np.dot(covariance_matrix, weights))\n",
    "    portfolio_standard_deviation = np.sqrt(portfolio_variance)\n",
    "    portfolio_risk.append(portfolio_standard_deviation)\n",
    "    #Generate Sharpe Ratio\n",
    "    shrp_ratio = (annualized_return - rf) / portfolio_standard_deviation\n",
    "    sharpe_ratio.append(shrp_ratio)\n",
    "\n",
    "    print(portfolio_weights)\n",
    "    print(portfolio_return)\n",
    "    print(portfolio_risk)\n",
    "    print(sharpe_ratio)"
   ]
  },
  {
   "cell_type": "code",
   "execution_count": 118,
   "id": "4f20e673-1052-4a76-a8c3-abf85558b8b0",
   "metadata": {},
   "outputs": [],
   "source": [
    "# Based on the Sharpe Ratio, the portfolio 5 is the best among all the five portfolios since it has the highest Sharpe \n",
    "# Ratio, thus, the highest risk premium it offers per unit of risk."
   ]
  },
  {
   "cell_type": "code",
   "execution_count": 119,
   "id": "df3be603-775a-49bb-8149-2329c12e39bb",
   "metadata": {},
   "outputs": [
    {
     "data": {
      "text/plain": [
       "(list, list, list, list)"
      ]
     },
     "execution_count": 119,
     "metadata": {},
     "output_type": "execute_result"
    }
   ],
   "source": [
    "type(portfolio_weights), type(portfolio_return), type(portfolio_risk), type(sharpe_ratio)"
   ]
  },
  {
   "cell_type": "code",
   "execution_count": 155,
   "id": "8060a41a-a901-4538-81f9-ae3b2a6ed05c",
   "metadata": {},
   "outputs": [],
   "source": [
    "portfolio_weights = np.array(portfolio_weights)\n",
    "portfolio_return = np.array(portfolio_return)\n",
    "portfolio_risk = np.array(portfolio_risk)\n",
    "sharpe_ratio = np.array(sharpe_ratio)\n",
    "# change the lists to numpy arrays for better data manipulations."
   ]
  },
  {
   "cell_type": "code",
   "execution_count": 156,
   "id": "ebc74da5-e2c5-4744-9308-50025e083dcc",
   "metadata": {},
   "outputs": [
    {
     "name": "stdout",
     "output_type": "stream",
     "text": [
      "[[0.301 0.699]\n",
      " [0.497 0.503]\n",
      " [0.015 0.985]\n",
      " ...\n",
      " [0.501 0.499]\n",
      " [0.265 0.735]\n",
      " [0.133 0.867]]\n",
      "[0.26827886 0.34750524 0.15267303 ... 0.3491221  0.25372708 0.20037054]\n",
      "[0.31105797 0.34914836 0.31874862 ... 0.35022686 0.30766022 0.30598818]\n",
      "[0.86247223 0.99529392 0.47897628 ... 0.9968456  0.82469901 0.65483097]\n"
     ]
    }
   ],
   "source": [
    "print(portfolio_weights)\n",
    "print(portfolio_return)\n",
    "print(portfolio_risk)\n",
    "print(sharpe_ratio)\n",
    "\n",
    "# list items are seperated by commas, where arrays elements are not it appears."
   ]
  },
  {
   "cell_type": "code",
   "execution_count": 157,
   "id": "42b0931d-0efe-4002-b9be-98463054d6e9",
   "metadata": {},
   "outputs": [
    {
     "data": {
      "text/plain": [
       "(numpy.ndarray, numpy.ndarray, numpy.ndarray, numpy.ndarray)"
      ]
     },
     "execution_count": 157,
     "metadata": {},
     "output_type": "execute_result"
    }
   ],
   "source": [
    "type(portfolio_weights), type(portfolio_return), type(portfolio_risk), type(sharpe_ratio)"
   ]
  },
  {
   "cell_type": "code",
   "execution_count": 158,
   "id": "2066c44f-aff9-4702-ac9f-1e1c06e24b2a",
   "metadata": {},
   "outputs": [
    {
     "data": {
      "text/plain": [
       "[array([0.26827886, 0.34750524, 0.15267303, ..., 0.3491221 , 0.25372708,\n",
       "        0.20037054]),\n",
       " array([0.31105797, 0.34914836, 0.31874862, ..., 0.35022686, 0.30766022,\n",
       "        0.30598818]),\n",
       " array([0.86247223, 0.99529392, 0.47897628, ..., 0.9968456 , 0.82469901,\n",
       "        0.65483097]),\n",
       " array([[0.301, 0.699],\n",
       "        [0.497, 0.503],\n",
       "        [0.015, 0.985],\n",
       "        ...,\n",
       "        [0.501, 0.499],\n",
       "        [0.265, 0.735],\n",
       "        [0.133, 0.867]])]"
      ]
     },
     "execution_count": 158,
     "metadata": {},
     "output_type": "execute_result"
    }
   ],
   "source": [
    "portfolio_metrics = [portfolio_return, portfolio_risk, sharpe_ratio, portfolio_weights]\n",
    "portfolio_metrics"
   ]
  },
  {
   "cell_type": "code",
   "execution_count": 159,
   "id": "a55f04fb-616e-4ea4-bc82-e6417a4b8a4f",
   "metadata": {},
   "outputs": [
    {
     "data": {
      "text/html": [
       "<div>\n",
       "<style scoped>\n",
       "    .dataframe tbody tr th:only-of-type {\n",
       "        vertical-align: middle;\n",
       "    }\n",
       "\n",
       "    .dataframe tbody tr th {\n",
       "        vertical-align: top;\n",
       "    }\n",
       "\n",
       "    .dataframe thead th {\n",
       "        text-align: right;\n",
       "    }\n",
       "</style>\n",
       "<table border=\"1\" class=\"dataframe\">\n",
       "  <thead>\n",
       "    <tr style=\"text-align: right;\">\n",
       "      <th></th>\n",
       "      <th>0</th>\n",
       "      <th>1</th>\n",
       "      <th>2</th>\n",
       "      <th>3</th>\n",
       "      <th>4</th>\n",
       "      <th>5</th>\n",
       "      <th>6</th>\n",
       "      <th>7</th>\n",
       "      <th>8</th>\n",
       "      <th>9</th>\n",
       "      <th>...</th>\n",
       "      <th>9990</th>\n",
       "      <th>9991</th>\n",
       "      <th>9992</th>\n",
       "      <th>9993</th>\n",
       "      <th>9994</th>\n",
       "      <th>9995</th>\n",
       "      <th>9996</th>\n",
       "      <th>9997</th>\n",
       "      <th>9998</th>\n",
       "      <th>9999</th>\n",
       "    </tr>\n",
       "  </thead>\n",
       "  <tbody>\n",
       "    <tr>\n",
       "      <th>0</th>\n",
       "      <td>0.268279</td>\n",
       "      <td>0.347505</td>\n",
       "      <td>0.152673</td>\n",
       "      <td>0.45341</td>\n",
       "      <td>0.535466</td>\n",
       "      <td>0.293744</td>\n",
       "      <td>0.50515</td>\n",
       "      <td>0.316785</td>\n",
       "      <td>0.503128</td>\n",
       "      <td>0.475642</td>\n",
       "      <td>...</td>\n",
       "      <td>0.348314</td>\n",
       "      <td>0.149439</td>\n",
       "      <td>0.286469</td>\n",
       "      <td>0.303041</td>\n",
       "      <td>0.332953</td>\n",
       "      <td>0.202796</td>\n",
       "      <td>0.273129</td>\n",
       "      <td>0.349122</td>\n",
       "      <td>0.253727</td>\n",
       "      <td>0.200371</td>\n",
       "    </tr>\n",
       "    <tr>\n",
       "      <th>1</th>\n",
       "      <td>0.311058</td>\n",
       "      <td>0.349148</td>\n",
       "      <td>0.318749</td>\n",
       "      <td>0.437811</td>\n",
       "      <td>0.523625</td>\n",
       "      <td>0.319868</td>\n",
       "      <td>0.490722</td>\n",
       "      <td>0.330765</td>\n",
       "      <td>0.488573</td>\n",
       "      <td>0.459977</td>\n",
       "      <td>...</td>\n",
       "      <td>0.349686</td>\n",
       "      <td>0.32007</td>\n",
       "      <td>0.316991</td>\n",
       "      <td>0.323945</td>\n",
       "      <td>0.339926</td>\n",
       "      <td>0.305692</td>\n",
       "      <td>0.31246</td>\n",
       "      <td>0.350227</td>\n",
       "      <td>0.30766</td>\n",
       "      <td>0.305988</td>\n",
       "    </tr>\n",
       "    <tr>\n",
       "      <th>2</th>\n",
       "      <td>0.862472</td>\n",
       "      <td>0.995294</td>\n",
       "      <td>0.478976</td>\n",
       "      <td>1.03563</td>\n",
       "      <td>1.022613</td>\n",
       "      <td>0.918331</td>\n",
       "      <td>1.029401</td>\n",
       "      <td>0.957734</td>\n",
       "      <td>1.029792</td>\n",
       "      <td>1.034056</td>\n",
       "      <td>...</td>\n",
       "      <td>0.996075</td>\n",
       "      <td>0.466895</td>\n",
       "      <td>0.903712</td>\n",
       "      <td>0.935471</td>\n",
       "      <td>0.979487</td>\n",
       "      <td>0.663399</td>\n",
       "      <td>0.874126</td>\n",
       "      <td>0.996846</td>\n",
       "      <td>0.824699</td>\n",
       "      <td>0.654831</td>\n",
       "    </tr>\n",
       "    <tr>\n",
       "      <th>3</th>\n",
       "      <td>[0.301, 0.699]</td>\n",
       "      <td>[0.497, 0.503]</td>\n",
       "      <td>[0.015, 0.985]</td>\n",
       "      <td>[0.759, 0.241]</td>\n",
       "      <td>[0.962, 0.038]</td>\n",
       "      <td>[0.364, 0.636]</td>\n",
       "      <td>[0.887, 0.113]</td>\n",
       "      <td>[0.421, 0.579]</td>\n",
       "      <td>[0.882, 0.118]</td>\n",
       "      <td>[0.814, 0.186]</td>\n",
       "      <td>...</td>\n",
       "      <td>[0.499, 0.501]</td>\n",
       "      <td>[0.007, 0.993]</td>\n",
       "      <td>[0.346, 0.654]</td>\n",
       "      <td>[0.387, 0.613]</td>\n",
       "      <td>[0.461, 0.539]</td>\n",
       "      <td>[0.139, 0.861]</td>\n",
       "      <td>[0.313, 0.687]</td>\n",
       "      <td>[0.501, 0.499]</td>\n",
       "      <td>[0.265, 0.735]</td>\n",
       "      <td>[0.133, 0.867]</td>\n",
       "    </tr>\n",
       "  </tbody>\n",
       "</table>\n",
       "<p>4 rows × 10000 columns</p>\n",
       "</div>"
      ],
      "text/plain": [
       "             0               1               2               3     \\\n",
       "0        0.268279        0.347505        0.152673         0.45341   \n",
       "1        0.311058        0.349148        0.318749        0.437811   \n",
       "2        0.862472        0.995294        0.478976         1.03563   \n",
       "3  [0.301, 0.699]  [0.497, 0.503]  [0.015, 0.985]  [0.759, 0.241]   \n",
       "\n",
       "             4               5               6               7     \\\n",
       "0        0.535466        0.293744         0.50515        0.316785   \n",
       "1        0.523625        0.319868        0.490722        0.330765   \n",
       "2        1.022613        0.918331        1.029401        0.957734   \n",
       "3  [0.962, 0.038]  [0.364, 0.636]  [0.887, 0.113]  [0.421, 0.579]   \n",
       "\n",
       "             8               9     ...            9990            9991  \\\n",
       "0        0.503128        0.475642  ...        0.348314        0.149439   \n",
       "1        0.488573        0.459977  ...        0.349686         0.32007   \n",
       "2        1.029792        1.034056  ...        0.996075        0.466895   \n",
       "3  [0.882, 0.118]  [0.814, 0.186]  ...  [0.499, 0.501]  [0.007, 0.993]   \n",
       "\n",
       "             9992            9993            9994            9995  \\\n",
       "0        0.286469        0.303041        0.332953        0.202796   \n",
       "1        0.316991        0.323945        0.339926        0.305692   \n",
       "2        0.903712        0.935471        0.979487        0.663399   \n",
       "3  [0.346, 0.654]  [0.387, 0.613]  [0.461, 0.539]  [0.139, 0.861]   \n",
       "\n",
       "             9996            9997            9998            9999  \n",
       "0        0.273129        0.349122        0.253727        0.200371  \n",
       "1         0.31246        0.350227         0.30766        0.305988  \n",
       "2        0.874126        0.996846        0.824699        0.654831  \n",
       "3  [0.313, 0.687]  [0.501, 0.499]  [0.265, 0.735]  [0.133, 0.867]  \n",
       "\n",
       "[4 rows x 10000 columns]"
      ]
     },
     "execution_count": 159,
     "metadata": {},
     "output_type": "execute_result"
    }
   ],
   "source": [
    "portfolio_df = pd.DataFrame(portfolio_metrics)\n",
    "portfolio_df\n",
    "\n",
    "# row 0 is portfolio_return, row 1 is portfolio_risk, row 3 is sharpe_ratio, and row 4 is portfolio_weights."
   ]
  },
  {
   "cell_type": "code",
   "execution_count": 160,
   "id": "c9f59835-5a5a-425c-9a53-4a2bcf00ef4b",
   "metadata": {},
   "outputs": [
    {
     "data": {
      "text/html": [
       "<div>\n",
       "<style scoped>\n",
       "    .dataframe tbody tr th:only-of-type {\n",
       "        vertical-align: middle;\n",
       "    }\n",
       "\n",
       "    .dataframe tbody tr th {\n",
       "        vertical-align: top;\n",
       "    }\n",
       "\n",
       "    .dataframe thead th {\n",
       "        text-align: right;\n",
       "    }\n",
       "</style>\n",
       "<table border=\"1\" class=\"dataframe\">\n",
       "  <thead>\n",
       "    <tr style=\"text-align: right;\">\n",
       "      <th></th>\n",
       "      <th>0</th>\n",
       "      <th>1</th>\n",
       "      <th>2</th>\n",
       "      <th>3</th>\n",
       "    </tr>\n",
       "  </thead>\n",
       "  <tbody>\n",
       "    <tr>\n",
       "      <th>0</th>\n",
       "      <td>0.268279</td>\n",
       "      <td>0.311058</td>\n",
       "      <td>0.862472</td>\n",
       "      <td>[0.301, 0.699]</td>\n",
       "    </tr>\n",
       "    <tr>\n",
       "      <th>1</th>\n",
       "      <td>0.347505</td>\n",
       "      <td>0.349148</td>\n",
       "      <td>0.995294</td>\n",
       "      <td>[0.497, 0.503]</td>\n",
       "    </tr>\n",
       "    <tr>\n",
       "      <th>2</th>\n",
       "      <td>0.152673</td>\n",
       "      <td>0.318749</td>\n",
       "      <td>0.478976</td>\n",
       "      <td>[0.015, 0.985]</td>\n",
       "    </tr>\n",
       "    <tr>\n",
       "      <th>3</th>\n",
       "      <td>0.45341</td>\n",
       "      <td>0.437811</td>\n",
       "      <td>1.03563</td>\n",
       "      <td>[0.759, 0.241]</td>\n",
       "    </tr>\n",
       "    <tr>\n",
       "      <th>4</th>\n",
       "      <td>0.535466</td>\n",
       "      <td>0.523625</td>\n",
       "      <td>1.022613</td>\n",
       "      <td>[0.962, 0.038]</td>\n",
       "    </tr>\n",
       "    <tr>\n",
       "      <th>...</th>\n",
       "      <td>...</td>\n",
       "      <td>...</td>\n",
       "      <td>...</td>\n",
       "      <td>...</td>\n",
       "    </tr>\n",
       "    <tr>\n",
       "      <th>9995</th>\n",
       "      <td>0.202796</td>\n",
       "      <td>0.305692</td>\n",
       "      <td>0.663399</td>\n",
       "      <td>[0.139, 0.861]</td>\n",
       "    </tr>\n",
       "    <tr>\n",
       "      <th>9996</th>\n",
       "      <td>0.273129</td>\n",
       "      <td>0.31246</td>\n",
       "      <td>0.874126</td>\n",
       "      <td>[0.313, 0.687]</td>\n",
       "    </tr>\n",
       "    <tr>\n",
       "      <th>9997</th>\n",
       "      <td>0.349122</td>\n",
       "      <td>0.350227</td>\n",
       "      <td>0.996846</td>\n",
       "      <td>[0.501, 0.499]</td>\n",
       "    </tr>\n",
       "    <tr>\n",
       "      <th>9998</th>\n",
       "      <td>0.253727</td>\n",
       "      <td>0.30766</td>\n",
       "      <td>0.824699</td>\n",
       "      <td>[0.265, 0.735]</td>\n",
       "    </tr>\n",
       "    <tr>\n",
       "      <th>9999</th>\n",
       "      <td>0.200371</td>\n",
       "      <td>0.305988</td>\n",
       "      <td>0.654831</td>\n",
       "      <td>[0.133, 0.867]</td>\n",
       "    </tr>\n",
       "  </tbody>\n",
       "</table>\n",
       "<p>10000 rows × 4 columns</p>\n",
       "</div>"
      ],
      "text/plain": [
       "             0         1         2               3\n",
       "0     0.268279  0.311058  0.862472  [0.301, 0.699]\n",
       "1     0.347505  0.349148  0.995294  [0.497, 0.503]\n",
       "2     0.152673  0.318749  0.478976  [0.015, 0.985]\n",
       "3      0.45341  0.437811   1.03563  [0.759, 0.241]\n",
       "4     0.535466  0.523625  1.022613  [0.962, 0.038]\n",
       "...        ...       ...       ...             ...\n",
       "9995  0.202796  0.305692  0.663399  [0.139, 0.861]\n",
       "9996  0.273129   0.31246  0.874126  [0.313, 0.687]\n",
       "9997  0.349122  0.350227  0.996846  [0.501, 0.499]\n",
       "9998  0.253727   0.30766  0.824699  [0.265, 0.735]\n",
       "9999  0.200371  0.305988  0.654831  [0.133, 0.867]\n",
       "\n",
       "[10000 rows x 4 columns]"
      ]
     },
     "execution_count": 160,
     "metadata": {},
     "output_type": "execute_result"
    }
   ],
   "source": [
    "portfolio_df = portfolio_df.T\n",
    "portfolio_df\n",
    "\n",
    "# now column 0 is portfolio_return, column 1 is portfolio_risk, column 2 is sharpe_ratio, and column 4 is portfolio\n",
    "# _weights."
   ]
  },
  {
   "cell_type": "code",
   "execution_count": 161,
   "id": "2355b539-944c-4a29-b2ba-6840c7eb8444",
   "metadata": {},
   "outputs": [
    {
     "data": {
      "text/html": [
       "<div>\n",
       "<style scoped>\n",
       "    .dataframe tbody tr th:only-of-type {\n",
       "        vertical-align: middle;\n",
       "    }\n",
       "\n",
       "    .dataframe tbody tr th {\n",
       "        vertical-align: top;\n",
       "    }\n",
       "\n",
       "    .dataframe thead th {\n",
       "        text-align: right;\n",
       "    }\n",
       "</style>\n",
       "<table border=\"1\" class=\"dataframe\">\n",
       "  <thead>\n",
       "    <tr style=\"text-align: right;\">\n",
       "      <th></th>\n",
       "      <th>Return</th>\n",
       "      <th>Risk</th>\n",
       "      <th>Sharpe</th>\n",
       "      <th>Weights</th>\n",
       "    </tr>\n",
       "  </thead>\n",
       "  <tbody>\n",
       "    <tr>\n",
       "      <th>0</th>\n",
       "      <td>0.268279</td>\n",
       "      <td>0.311058</td>\n",
       "      <td>0.862472</td>\n",
       "      <td>[0.301, 0.699]</td>\n",
       "    </tr>\n",
       "    <tr>\n",
       "      <th>1</th>\n",
       "      <td>0.347505</td>\n",
       "      <td>0.349148</td>\n",
       "      <td>0.995294</td>\n",
       "      <td>[0.497, 0.503]</td>\n",
       "    </tr>\n",
       "    <tr>\n",
       "      <th>2</th>\n",
       "      <td>0.152673</td>\n",
       "      <td>0.318749</td>\n",
       "      <td>0.478976</td>\n",
       "      <td>[0.015, 0.985]</td>\n",
       "    </tr>\n",
       "    <tr>\n",
       "      <th>3</th>\n",
       "      <td>0.45341</td>\n",
       "      <td>0.437811</td>\n",
       "      <td>1.03563</td>\n",
       "      <td>[0.759, 0.241]</td>\n",
       "    </tr>\n",
       "    <tr>\n",
       "      <th>4</th>\n",
       "      <td>0.535466</td>\n",
       "      <td>0.523625</td>\n",
       "      <td>1.022613</td>\n",
       "      <td>[0.962, 0.038]</td>\n",
       "    </tr>\n",
       "    <tr>\n",
       "      <th>...</th>\n",
       "      <td>...</td>\n",
       "      <td>...</td>\n",
       "      <td>...</td>\n",
       "      <td>...</td>\n",
       "    </tr>\n",
       "    <tr>\n",
       "      <th>9995</th>\n",
       "      <td>0.202796</td>\n",
       "      <td>0.305692</td>\n",
       "      <td>0.663399</td>\n",
       "      <td>[0.139, 0.861]</td>\n",
       "    </tr>\n",
       "    <tr>\n",
       "      <th>9996</th>\n",
       "      <td>0.273129</td>\n",
       "      <td>0.31246</td>\n",
       "      <td>0.874126</td>\n",
       "      <td>[0.313, 0.687]</td>\n",
       "    </tr>\n",
       "    <tr>\n",
       "      <th>9997</th>\n",
       "      <td>0.349122</td>\n",
       "      <td>0.350227</td>\n",
       "      <td>0.996846</td>\n",
       "      <td>[0.501, 0.499]</td>\n",
       "    </tr>\n",
       "    <tr>\n",
       "      <th>9998</th>\n",
       "      <td>0.253727</td>\n",
       "      <td>0.30766</td>\n",
       "      <td>0.824699</td>\n",
       "      <td>[0.265, 0.735]</td>\n",
       "    </tr>\n",
       "    <tr>\n",
       "      <th>9999</th>\n",
       "      <td>0.200371</td>\n",
       "      <td>0.305988</td>\n",
       "      <td>0.654831</td>\n",
       "      <td>[0.133, 0.867]</td>\n",
       "    </tr>\n",
       "  </tbody>\n",
       "</table>\n",
       "<p>10000 rows × 4 columns</p>\n",
       "</div>"
      ],
      "text/plain": [
       "        Return      Risk    Sharpe         Weights\n",
       "0     0.268279  0.311058  0.862472  [0.301, 0.699]\n",
       "1     0.347505  0.349148  0.995294  [0.497, 0.503]\n",
       "2     0.152673  0.318749  0.478976  [0.015, 0.985]\n",
       "3      0.45341  0.437811   1.03563  [0.759, 0.241]\n",
       "4     0.535466  0.523625  1.022613  [0.962, 0.038]\n",
       "...        ...       ...       ...             ...\n",
       "9995  0.202796  0.305692  0.663399  [0.139, 0.861]\n",
       "9996  0.273129   0.31246  0.874126  [0.313, 0.687]\n",
       "9997  0.349122  0.350227  0.996846  [0.501, 0.499]\n",
       "9998  0.253727   0.30766  0.824699  [0.265, 0.735]\n",
       "9999  0.200371  0.305988  0.654831  [0.133, 0.867]\n",
       "\n",
       "[10000 rows x 4 columns]"
      ]
     },
     "execution_count": 161,
     "metadata": {},
     "output_type": "execute_result"
    }
   ],
   "source": [
    "portfolio_df.columns = ['Return', 'Risk', 'Sharpe', 'Weights']\n",
    "portfolio_df"
   ]
  },
  {
   "cell_type": "markdown",
   "id": "9a052825-f526-4ede-b17a-22c9a33e4ff1",
   "metadata": {},
   "source": [
    "## Everything Together:"
   ]
  },
  {
   "cell_type": "code",
   "execution_count": 162,
   "id": "6e245aea-7fc3-4f4b-9098-09d1a30eeeda",
   "metadata": {},
   "outputs": [
    {
     "data": {
      "text/plain": [
       "(                TSLA       BAC\n",
       " Date                          \n",
       " 2013-12-31       NaN       NaN\n",
       " 2014-01-02 -0.002194  0.034040\n",
       " 2014-01-03 -0.003598  0.019254\n",
       " 2014-01-06 -0.017117  0.015235\n",
       " 2014-01-07  0.016054 -0.009604\n",
       " ...              ...       ...\n",
       " 2020-11-16 -0.001004  0.021482\n",
       " 2020-11-17  0.082139 -0.001088\n",
       " 2020-11-18  0.101968 -0.020690\n",
       " 2020-11-19  0.025953  0.000000\n",
       " 2020-11-20 -0.019348 -0.006301\n",
       " \n",
       " [1737 rows x 2 columns],\n",
       " array([0.26827886, 0.34750524, 0.15267303, ..., 0.3491221 , 0.25372708,\n",
       "        0.20037054]),\n",
       " array([0.31105797, 0.34914836, 0.31874862, ..., 0.35022686, 0.30766022,\n",
       "        0.30598818]),\n",
       " array([0.86247223, 0.99529392, 0.47897628, ..., 0.9968456 , 0.82469901,\n",
       "        0.65483097]),\n",
       " array([[0.301, 0.699],\n",
       "        [0.497, 0.503],\n",
       "        [0.015, 0.985],\n",
       "        ...,\n",
       "        [0.501, 0.499],\n",
       "        [0.265, 0.735],\n",
       "        [0.133, 0.867]]),\n",
       " 0,\n",
       " array([0.133, 0.867]),\n",
       " 0.20037053913543867)"
      ]
     },
     "execution_count": 162,
     "metadata": {},
     "output_type": "execute_result"
    }
   ],
   "source": [
    "returns, portfolio_return, portfolio_risk, sharpe_ratio, portfolio_weights, rf, weights, annualized_return\n",
    "# the data carried forward from previous work. It needs to be deleted to run the following loops."
   ]
  },
  {
   "cell_type": "code",
   "execution_count": 163,
   "id": "ec8424fd-440e-4dc3-8006-d50c486e67dd",
   "metadata": {},
   "outputs": [],
   "source": [
    "returns = pd.DataFrame()\n",
    "portfolio_return = []\n",
    "portfolio_risk = []\n",
    "sharpe_ratio = []\n",
    "portfolio_weights = []\n",
    "rf = 0\n",
    "weights = 0\n",
    "annualized_return = 0"
   ]
  },
  {
   "cell_type": "code",
   "execution_count": 164,
   "id": "5e5d93ec-b42c-4f1e-b5f4-ae8af68b3cc7",
   "metadata": {},
   "outputs": [],
   "source": [
    "tickers = ['TSLA', 'BAC']\n",
    "returns = pd.DataFrame()"
   ]
  },
  {
   "cell_type": "code",
   "execution_count": 165,
   "id": "c63235fb-a676-47db-bf9b-565e12b1264a",
   "metadata": {},
   "outputs": [
    {
     "data": {
      "text/html": [
       "<div>\n",
       "<style scoped>\n",
       "    .dataframe tbody tr th:only-of-type {\n",
       "        vertical-align: middle;\n",
       "    }\n",
       "\n",
       "    .dataframe tbody tr th {\n",
       "        vertical-align: top;\n",
       "    }\n",
       "\n",
       "    .dataframe thead th {\n",
       "        text-align: right;\n",
       "    }\n",
       "</style>\n",
       "<table border=\"1\" class=\"dataframe\">\n",
       "  <thead>\n",
       "    <tr style=\"text-align: right;\">\n",
       "      <th></th>\n",
       "      <th>TSLA</th>\n",
       "      <th>BAC</th>\n",
       "    </tr>\n",
       "    <tr>\n",
       "      <th>Date</th>\n",
       "      <th></th>\n",
       "      <th></th>\n",
       "    </tr>\n",
       "  </thead>\n",
       "  <tbody>\n",
       "    <tr>\n",
       "      <th>2013-12-31</th>\n",
       "      <td>NaN</td>\n",
       "      <td>NaN</td>\n",
       "    </tr>\n",
       "    <tr>\n",
       "      <th>2014-01-02</th>\n",
       "      <td>-0.002194</td>\n",
       "      <td>0.034040</td>\n",
       "    </tr>\n",
       "    <tr>\n",
       "      <th>2014-01-03</th>\n",
       "      <td>-0.003598</td>\n",
       "      <td>0.019255</td>\n",
       "    </tr>\n",
       "    <tr>\n",
       "      <th>2014-01-06</th>\n",
       "      <td>-0.017117</td>\n",
       "      <td>0.015235</td>\n",
       "    </tr>\n",
       "    <tr>\n",
       "      <th>2014-01-07</th>\n",
       "      <td>0.016054</td>\n",
       "      <td>-0.009604</td>\n",
       "    </tr>\n",
       "    <tr>\n",
       "      <th>...</th>\n",
       "      <td>...</td>\n",
       "      <td>...</td>\n",
       "    </tr>\n",
       "    <tr>\n",
       "      <th>2020-11-16</th>\n",
       "      <td>-0.001004</td>\n",
       "      <td>0.021482</td>\n",
       "    </tr>\n",
       "    <tr>\n",
       "      <th>2020-11-17</th>\n",
       "      <td>0.082139</td>\n",
       "      <td>-0.001088</td>\n",
       "    </tr>\n",
       "    <tr>\n",
       "      <th>2020-11-18</th>\n",
       "      <td>0.101968</td>\n",
       "      <td>-0.020690</td>\n",
       "    </tr>\n",
       "    <tr>\n",
       "      <th>2020-11-19</th>\n",
       "      <td>0.025953</td>\n",
       "      <td>0.000000</td>\n",
       "    </tr>\n",
       "    <tr>\n",
       "      <th>2020-11-20</th>\n",
       "      <td>-0.019348</td>\n",
       "      <td>-0.006301</td>\n",
       "    </tr>\n",
       "  </tbody>\n",
       "</table>\n",
       "<p>1737 rows × 2 columns</p>\n",
       "</div>"
      ],
      "text/plain": [
       "                TSLA       BAC\n",
       "Date                          \n",
       "2013-12-31       NaN       NaN\n",
       "2014-01-02 -0.002194  0.034040\n",
       "2014-01-03 -0.003598  0.019255\n",
       "2014-01-06 -0.017117  0.015235\n",
       "2014-01-07  0.016054 -0.009604\n",
       "...              ...       ...\n",
       "2020-11-16 -0.001004  0.021482\n",
       "2020-11-17  0.082139 -0.001088\n",
       "2020-11-18  0.101968 -0.020690\n",
       "2020-11-19  0.025953  0.000000\n",
       "2020-11-20 -0.019348 -0.006301\n",
       "\n",
       "[1737 rows x 2 columns]"
      ]
     },
     "execution_count": 165,
     "metadata": {},
     "output_type": "execute_result"
    }
   ],
   "source": [
    "for ticker in tickers:\n",
    "    data = web.DataReader(ticker, 'yahoo', start, end) \n",
    "    data[ticker] = data['Adj Close'].pct_change()\n",
    "    \n",
    "    if returns.empty:\n",
    "        returns = data[[ticker]]\n",
    "    else:\n",
    "        returns = returns.join(data[[ticker]], how = 'outer')\n",
    "        \n",
    "returns"
   ]
  },
  {
   "cell_type": "code",
   "execution_count": 166,
   "id": "954f7d4a-23db-40db-8384-8b36ab7ff75a",
   "metadata": {},
   "outputs": [],
   "source": [
    "number_of_portfolios = 10000\n",
    "for portfolio in range(number_of_portfolios):\n",
    "    # Generate random portfolio weights\n",
    "    weights = np.random.random_sample(len(tickers))\n",
    "    weights = np.round((weights / np.sum(weights)), 3) # round-off to 3 decimal points\n",
    "    portfolio_weights.append(weights)\n",
    "    #Generate annualized portfolio return\n",
    "    annualized_return = np.sum(returns.mean() * weights) * 252\n",
    "    portfolio_return.append(annualized_return)\n",
    "    # Generate Portfolio risk\n",
    "    covariance_matrix = returns.cov() * 252\n",
    "    portfolio_variance = np.dot(weights.T, np.dot(covariance_matrix, weights))\n",
    "    portfolio_standard_deviation = np.sqrt(portfolio_variance)\n",
    "    portfolio_risk.append(portfolio_standard_deviation)\n",
    "    #Generate Sharpe Ratio\n",
    "    shrp_ratio = (annualized_return - rf) / portfolio_standard_deviation\n",
    "    sharpe_ratio.append(shrp_ratio)\n",
    "\n",
    "# print(portfolio_weights)\n",
    "# print(portfolio_return)\n",
    "# print(portfolio_risk)\n",
    "# print(sharpe_ratio)\n",
    "\n",
    "# comment out the print statements since this is too much output."
   ]
  },
  {
   "cell_type": "code",
   "execution_count": 167,
   "id": "687e9d77-a396-4ae5-bc01-c215e3c520fa",
   "metadata": {},
   "outputs": [],
   "source": [
    "portfolio_weights = np.array(portfolio_weights)\n",
    "portfolio_return = np.array(portfolio_return)\n",
    "portfolio_risk = np.array(portfolio_risk)\n",
    "sharpe_ratio = np.array(sharpe_ratio)"
   ]
  },
  {
   "cell_type": "code",
   "execution_count": 168,
   "id": "ceff0eef-8df2-4c73-a313-ea4b6ba16fb0",
   "metadata": {},
   "outputs": [],
   "source": [
    "# print(portfolio_weights)\n",
    "# print(portfolio_return)\n",
    "# print(portfolio_risk)\n",
    "# print(sharpe_ratio)\n",
    "\n",
    "# comment out these print statement since this will be too much of the output."
   ]
  },
  {
   "cell_type": "code",
   "execution_count": 169,
   "id": "ce4ba917-6a6c-4a7b-b457-3aa84a5d2e8b",
   "metadata": {},
   "outputs": [],
   "source": [
    "portfolio_metrics = [portfolio_return, portfolio_risk, sharpe_ratio, portfolio_weights]\n",
    "#portfolio_metrics\n",
    "\n",
    "# comment out printing of the portfolio_metrics due too much output."
   ]
  },
  {
   "cell_type": "code",
   "execution_count": 170,
   "id": "cadc5165-9140-45be-b51a-69129432f8ed",
   "metadata": {},
   "outputs": [],
   "source": [
    "portfolio_df = pd.DataFrame(portfolio_metrics)\n",
    "#portfolio_df"
   ]
  },
  {
   "cell_type": "code",
   "execution_count": 171,
   "id": "4422ac79-9ef3-4e0b-92f5-77fe76127fb4",
   "metadata": {},
   "outputs": [],
   "source": [
    "portfolio_df = portfolio_df.T\n",
    "#portfolio_df"
   ]
  },
  {
   "cell_type": "code",
   "execution_count": 172,
   "id": "cf21422e-0f52-4ef2-92ef-bfbe29e855cd",
   "metadata": {},
   "outputs": [
    {
     "data": {
      "text/html": [
       "<div>\n",
       "<style scoped>\n",
       "    .dataframe tbody tr th:only-of-type {\n",
       "        vertical-align: middle;\n",
       "    }\n",
       "\n",
       "    .dataframe tbody tr th {\n",
       "        vertical-align: top;\n",
       "    }\n",
       "\n",
       "    .dataframe thead th {\n",
       "        text-align: right;\n",
       "    }\n",
       "</style>\n",
       "<table border=\"1\" class=\"dataframe\">\n",
       "  <thead>\n",
       "    <tr style=\"text-align: right;\">\n",
       "      <th></th>\n",
       "      <th>Return</th>\n",
       "      <th>Risk</th>\n",
       "      <th>Sharpe</th>\n",
       "      <th>Weights</th>\n",
       "    </tr>\n",
       "  </thead>\n",
       "  <tbody>\n",
       "    <tr>\n",
       "      <th>0</th>\n",
       "      <td>0.390756</td>\n",
       "      <td>0.381317</td>\n",
       "      <td>1.024756</td>\n",
       "      <td>[0.604, 0.396]</td>\n",
       "    </tr>\n",
       "    <tr>\n",
       "      <th>1</th>\n",
       "      <td>0.249281</td>\n",
       "      <td>0.306868</td>\n",
       "      <td>0.812337</td>\n",
       "      <td>[0.254, 0.746]</td>\n",
       "    </tr>\n",
       "    <tr>\n",
       "      <th>2</th>\n",
       "      <td>0.488981</td>\n",
       "      <td>0.473703</td>\n",
       "      <td>1.032253</td>\n",
       "      <td>[0.847, 0.153]</td>\n",
       "    </tr>\n",
       "    <tr>\n",
       "      <th>3</th>\n",
       "      <td>0.331741</td>\n",
       "      <td>0.339199</td>\n",
       "      <td>0.978013</td>\n",
       "      <td>[0.458, 0.542]</td>\n",
       "    </tr>\n",
       "    <tr>\n",
       "      <th>4</th>\n",
       "      <td>0.344676</td>\n",
       "      <td>0.347286</td>\n",
       "      <td>0.992483</td>\n",
       "      <td>[0.49, 0.51]</td>\n",
       "    </tr>\n",
       "    <tr>\n",
       "      <th>...</th>\n",
       "      <td>...</td>\n",
       "      <td>...</td>\n",
       "      <td>...</td>\n",
       "      <td>...</td>\n",
       "    </tr>\n",
       "    <tr>\n",
       "      <th>9995</th>\n",
       "      <td>0.322848</td>\n",
       "      <td>0.334061</td>\n",
       "      <td>0.966435</td>\n",
       "      <td>[0.436, 0.564]</td>\n",
       "    </tr>\n",
       "    <tr>\n",
       "      <th>9996</th>\n",
       "      <td>0.204413</td>\n",
       "      <td>0.305514</td>\n",
       "      <td>0.669078</td>\n",
       "      <td>[0.143, 0.857]</td>\n",
       "    </tr>\n",
       "    <tr>\n",
       "      <th>9997</th>\n",
       "      <td>0.394394</td>\n",
       "      <td>0.384309</td>\n",
       "      <td>1.026243</td>\n",
       "      <td>[0.613, 0.387]</td>\n",
       "    </tr>\n",
       "    <tr>\n",
       "      <th>9998</th>\n",
       "      <td>0.32204</td>\n",
       "      <td>0.333611</td>\n",
       "      <td>0.965313</td>\n",
       "      <td>[0.434, 0.566]</td>\n",
       "    </tr>\n",
       "    <tr>\n",
       "      <th>9999</th>\n",
       "      <td>0.204817</td>\n",
       "      <td>0.305472</td>\n",
       "      <td>0.670493</td>\n",
       "      <td>[0.144, 0.856]</td>\n",
       "    </tr>\n",
       "  </tbody>\n",
       "</table>\n",
       "<p>10000 rows × 4 columns</p>\n",
       "</div>"
      ],
      "text/plain": [
       "        Return      Risk    Sharpe         Weights\n",
       "0     0.390756  0.381317  1.024756  [0.604, 0.396]\n",
       "1     0.249281  0.306868  0.812337  [0.254, 0.746]\n",
       "2     0.488981  0.473703  1.032253  [0.847, 0.153]\n",
       "3     0.331741  0.339199  0.978013  [0.458, 0.542]\n",
       "4     0.344676  0.347286  0.992483    [0.49, 0.51]\n",
       "...        ...       ...       ...             ...\n",
       "9995  0.322848  0.334061  0.966435  [0.436, 0.564]\n",
       "9996  0.204413  0.305514  0.669078  [0.143, 0.857]\n",
       "9997  0.394394  0.384309  1.026243  [0.613, 0.387]\n",
       "9998   0.32204  0.333611  0.965313  [0.434, 0.566]\n",
       "9999  0.204817  0.305472  0.670493  [0.144, 0.856]\n",
       "\n",
       "[10000 rows x 4 columns]"
      ]
     },
     "execution_count": 172,
     "metadata": {},
     "output_type": "execute_result"
    }
   ],
   "source": [
    "portfolio_df.columns = ['Return', 'Risk', 'Sharpe', 'Weights']\n",
    "portfolio_df"
   ]
  },
  {
   "cell_type": "markdown",
   "id": "d1b2c0f4-f4ae-4639-a6f6-3be8ff0eb47e",
   "metadata": {},
   "source": [
    "### Identify a minimum risk portfolio:"
   ]
  },
  {
   "cell_type": "code",
   "execution_count": 138,
   "id": "117a0e0b-312a-4245-a0e8-8e5260913bbd",
   "metadata": {},
   "outputs": [
    {
     "data": {
      "text/html": [
       "<div>\n",
       "<style scoped>\n",
       "    .dataframe tbody tr th:only-of-type {\n",
       "        vertical-align: middle;\n",
       "    }\n",
       "\n",
       "    .dataframe tbody tr th {\n",
       "        vertical-align: top;\n",
       "    }\n",
       "\n",
       "    .dataframe thead th {\n",
       "        text-align: right;\n",
       "    }\n",
       "</style>\n",
       "<table border=\"1\" class=\"dataframe\">\n",
       "  <thead>\n",
       "    <tr style=\"text-align: right;\">\n",
       "      <th></th>\n",
       "      <th>Return</th>\n",
       "      <th>Risk</th>\n",
       "      <th>Sharpe</th>\n",
       "      <th>Weights</th>\n",
       "    </tr>\n",
       "  </thead>\n",
       "  <tbody>\n",
       "    <tr>\n",
       "      <th>0</th>\n",
       "      <td>0.268279</td>\n",
       "      <td>0.311058</td>\n",
       "      <td>0.862472</td>\n",
       "      <td>[0.301, 0.699]</td>\n",
       "    </tr>\n",
       "    <tr>\n",
       "      <th>1</th>\n",
       "      <td>0.347505</td>\n",
       "      <td>0.349148</td>\n",
       "      <td>0.995294</td>\n",
       "      <td>[0.497, 0.503]</td>\n",
       "    </tr>\n",
       "    <tr>\n",
       "      <th>2</th>\n",
       "      <td>0.152673</td>\n",
       "      <td>0.318749</td>\n",
       "      <td>0.478976</td>\n",
       "      <td>[0.015, 0.985]</td>\n",
       "    </tr>\n",
       "    <tr>\n",
       "      <th>3</th>\n",
       "      <td>0.45341</td>\n",
       "      <td>0.437811</td>\n",
       "      <td>1.03563</td>\n",
       "      <td>[0.759, 0.241]</td>\n",
       "    </tr>\n",
       "    <tr>\n",
       "      <th>4</th>\n",
       "      <td>0.535466</td>\n",
       "      <td>0.523625</td>\n",
       "      <td>1.022613</td>\n",
       "      <td>[0.962, 0.038]</td>\n",
       "    </tr>\n",
       "    <tr>\n",
       "      <th>...</th>\n",
       "      <td>...</td>\n",
       "      <td>...</td>\n",
       "      <td>...</td>\n",
       "      <td>...</td>\n",
       "    </tr>\n",
       "    <tr>\n",
       "      <th>9995</th>\n",
       "      <td>0.202796</td>\n",
       "      <td>0.305692</td>\n",
       "      <td>0.663399</td>\n",
       "      <td>[0.139, 0.861]</td>\n",
       "    </tr>\n",
       "    <tr>\n",
       "      <th>9996</th>\n",
       "      <td>0.273129</td>\n",
       "      <td>0.31246</td>\n",
       "      <td>0.874126</td>\n",
       "      <td>[0.313, 0.687]</td>\n",
       "    </tr>\n",
       "    <tr>\n",
       "      <th>9997</th>\n",
       "      <td>0.349122</td>\n",
       "      <td>0.350227</td>\n",
       "      <td>0.996846</td>\n",
       "      <td>[0.501, 0.499]</td>\n",
       "    </tr>\n",
       "    <tr>\n",
       "      <th>9998</th>\n",
       "      <td>0.253727</td>\n",
       "      <td>0.30766</td>\n",
       "      <td>0.824699</td>\n",
       "      <td>[0.265, 0.735]</td>\n",
       "    </tr>\n",
       "    <tr>\n",
       "      <th>9999</th>\n",
       "      <td>0.200371</td>\n",
       "      <td>0.305988</td>\n",
       "      <td>0.654831</td>\n",
       "      <td>[0.133, 0.867]</td>\n",
       "    </tr>\n",
       "  </tbody>\n",
       "</table>\n",
       "<p>10000 rows × 4 columns</p>\n",
       "</div>"
      ],
      "text/plain": [
       "        Return      Risk    Sharpe         Weights\n",
       "0     0.268279  0.311058  0.862472  [0.301, 0.699]\n",
       "1     0.347505  0.349148  0.995294  [0.497, 0.503]\n",
       "2     0.152673  0.318749  0.478976  [0.015, 0.985]\n",
       "3      0.45341  0.437811   1.03563  [0.759, 0.241]\n",
       "4     0.535466  0.523625  1.022613  [0.962, 0.038]\n",
       "...        ...       ...       ...             ...\n",
       "9995  0.202796  0.305692  0.663399  [0.139, 0.861]\n",
       "9996  0.273129   0.31246  0.874126  [0.313, 0.687]\n",
       "9997  0.349122  0.350227  0.996846  [0.501, 0.499]\n",
       "9998  0.253727   0.30766  0.824699  [0.265, 0.735]\n",
       "9999  0.200371  0.305988  0.654831  [0.133, 0.867]\n",
       "\n",
       "[10000 rows x 4 columns]"
      ]
     },
     "execution_count": 138,
     "metadata": {},
     "output_type": "execute_result"
    }
   ],
   "source": [
    "portfolio_df"
   ]
  },
  {
   "cell_type": "code",
   "execution_count": 139,
   "id": "af374692-8447-4b8e-900a-ec95b3409519",
   "metadata": {},
   "outputs": [
    {
     "data": {
      "text/plain": [
       "1020"
      ]
     },
     "execution_count": 139,
     "metadata": {},
     "output_type": "execute_result"
    }
   ],
   "source": [
    "portfolio_df['Risk'].astype(float).idxmin() # returns the row index of minimum risk, which in this case is 1."
   ]
  },
  {
   "cell_type": "code",
   "execution_count": 140,
   "id": "32fba8d0-d245-411b-9619-28d7b5689532",
   "metadata": {},
   "outputs": [
    {
     "data": {
      "text/plain": [
       "Return           0.221794\n",
       "Risk             0.304597\n",
       "Sharpe           0.728157\n",
       "Weights    [0.186, 0.814]\n",
       "Name: 1020, dtype: object"
      ]
     },
     "execution_count": 140,
     "metadata": {},
     "output_type": "execute_result"
    }
   ],
   "source": [
    "portfolio_df.iloc[portfolio_df['Risk'].astype(float).idxmin()] \n",
    "#.iloc gets 1, so portfolio_df.iloc[1] produces the entire row indexed 1."
   ]
  },
  {
   "cell_type": "code",
   "execution_count": 141,
   "id": "2ec40f07-6ade-4da8-85ad-7748368f42c0",
   "metadata": {},
   "outputs": [
    {
     "data": {
      "text/plain": [
       "Return           0.221794\n",
       "Risk             0.304597\n",
       "Sharpe           0.728157\n",
       "Weights    [0.186, 0.814]\n",
       "Name: 1020, dtype: object"
      ]
     },
     "execution_count": 141,
     "metadata": {},
     "output_type": "execute_result"
    }
   ],
   "source": [
    "min_risk_portfolio = portfolio_df.iloc[portfolio_df['Risk'].astype(float).idxmin()]\n",
    "min_risk_portfolio\n",
    "\n",
    "# among all the known portfolios, this is the one with the minimum risk."
   ]
  },
  {
   "cell_type": "code",
   "execution_count": 142,
   "id": "14fb2ddc-3361-491f-9edd-080767caa399",
   "metadata": {},
   "outputs": [
    {
     "data": {
      "text/plain": [
       "Return       0.550826\n",
       "Risk         0.540728\n",
       "Sharpe       1.018675\n",
       "Weights    [1.0, 0.0]\n",
       "Name: 3091, dtype: object"
      ]
     },
     "execution_count": 142,
     "metadata": {},
     "output_type": "execute_result"
    }
   ],
   "source": [
    "max_return_portfolio = portfolio_df.iloc[portfolio_df['Return'].astype(float).idxmax()]\n",
    "max_return_portfolio\n",
    "\n",
    "# among all the known portfolios, this is the one with the maximum return."
   ]
  },
  {
   "cell_type": "code",
   "execution_count": 143,
   "id": "ea113a71-43f0-4804-8cee-28a44c86901c",
   "metadata": {},
   "outputs": [
    {
     "data": {
      "text/plain": [
       "Return           0.448559\n",
       "Risk             0.433103\n",
       "Sharpe           1.035687\n",
       "Weights    [0.747, 0.253]\n",
       "Name: 17, dtype: object"
      ]
     },
     "execution_count": 143,
     "metadata": {},
     "output_type": "execute_result"
    }
   ],
   "source": [
    "max_sharpe_portfolio = portfolio_df.iloc[portfolio_df['Sharpe'].astype(float).idxmax()]\n",
    "max_sharpe_portfolio\n",
    "\n",
    "# among all the known portfolios, this is the one with the maximum sharpe ratio."
   ]
  },
  {
   "cell_type": "code",
   "execution_count": 144,
   "id": "a59fd5e8-f941-4c2f-b8a2-dc2f8b73e803",
   "metadata": {},
   "outputs": [
    {
     "name": "stdout",
     "output_type": "stream",
     "text": [
      "Minimum Risk Portfolio\n",
      "Return           0.221794\n",
      "Risk             0.304597\n",
      "Sharpe           0.728157\n",
      "Weights    [0.186, 0.814]\n",
      "Name: 1020, dtype: object\n",
      "['TSLA', 'BAC']\n",
      "\n",
      "Maximum Return Portfolio\n",
      "Return       0.550826\n",
      "Risk         0.540728\n",
      "Sharpe       1.018675\n",
      "Weights    [1.0, 0.0]\n",
      "Name: 3091, dtype: object\n",
      "['TSLA', 'BAC']\n",
      "\n",
      "Maximum Sharpe Ratio Portfolio\n",
      "Return           0.448559\n",
      "Risk             0.433103\n",
      "Sharpe           1.035687\n",
      "Weights    [0.747, 0.253]\n",
      "Name: 17, dtype: object\n",
      "['TSLA', 'BAC']\n",
      "\n"
     ]
    }
   ],
   "source": [
    "print('Minimum Risk Portfolio')\n",
    "print(min_risk_portfolio)\n",
    "print(tickers)\n",
    "print('')\n",
    "\n",
    "print('Maximum Return Portfolio')\n",
    "print(max_return_portfolio)\n",
    "print(tickers)\n",
    "print('')\n",
    "\n",
    "print('Maximum Sharpe Ratio Portfolio')\n",
    "print(max_sharpe_portfolio)\n",
    "print(tickers)\n",
    "print('')"
   ]
  },
  {
   "cell_type": "markdown",
   "id": "ac219911-3330-43af-8d0f-c5d57f2def81",
   "metadata": {},
   "source": [
    "### Visualization:"
   ]
  },
  {
   "cell_type": "code",
   "execution_count": 145,
   "id": "13a56d3e-8e94-47ea-830d-8ff2a25ef5b6",
   "metadata": {},
   "outputs": [],
   "source": [
    "# portfolio_risk # will be shown along x-axis. Commented out due too much output."
   ]
  },
  {
   "cell_type": "code",
   "execution_count": 146,
   "id": "4aa2b0d1-7683-45a8-888c-e7c1bcbda217",
   "metadata": {},
   "outputs": [],
   "source": [
    "# portfolio_return # will be shown along y-axis. Commented out due too much output."
   ]
  },
  {
   "cell_type": "code",
   "execution_count": 147,
   "id": "df9e42bd-380e-4663-9e32-42f6fb8962bd",
   "metadata": {},
   "outputs": [],
   "source": [
    "# portfolio_return / portfolio_risk # commented out due to too much output."
   ]
  },
  {
   "cell_type": "code",
   "execution_count": 148,
   "id": "baf133d0-4ccb-438e-afc4-40e2d062b226",
   "metadata": {},
   "outputs": [
    {
     "data": {
      "image/png": "[encoded data removed]",
      "text/plain": [
       "<Figure size 720x360 with 2 Axes>"
      ]
     },
     "metadata": {},
     "output_type": "display_data"
    }
   ],
   "source": [
    "plt.figure(figsize = (10, 5))\n",
    "plt.scatter(portfolio_risk, portfolio_return, c = portfolio_return / portfolio_risk) # c for colorbar based on sharpe.\n",
    "\n",
    "plt.title('Portfolio Optimization', fontsize = 26)\n",
    "\n",
    "plt.xlabel('Volatility', fontsize = 20)\n",
    "plt.ylabel('Return', fontsize = 20)\n",
    "\n",
    "plt.xticks(fontsize = 15)\n",
    "plt.yticks(fontsize = 15)\n",
    "\n",
    "plt.colorbar(label = 'Sharpe Ratio')\n",
    "\n",
    "plt.show()\n",
    "\n",
    "# Note first run for TSLA and BCA for 5 portfolios, and then 100 portfolios and then 10000 portfolios.\n",
    "# Finally, make it 5 stocks and 20000 portfolios.\n"
   ]
  },
  {
   "cell_type": "markdown",
   "id": "40749c75-893a-4327-8401-8a69e73a329d",
   "metadata": {},
   "source": [
    "### Comparison with individual assets:"
   ]
  },
  {
   "cell_type": "code",
   "execution_count": 149,
   "id": "578df07a-ca10-473d-a85a-ba3b3506babc",
   "metadata": {},
   "outputs": [
    {
     "data": {
      "text/html": [
       "<div>\n",
       "<style scoped>\n",
       "    .dataframe tbody tr th:only-of-type {\n",
       "        vertical-align: middle;\n",
       "    }\n",
       "\n",
       "    .dataframe tbody tr th {\n",
       "        vertical-align: top;\n",
       "    }\n",
       "\n",
       "    .dataframe thead th {\n",
       "        text-align: right;\n",
       "    }\n",
       "</style>\n",
       "<table border=\"1\" class=\"dataframe\">\n",
       "  <thead>\n",
       "    <tr style=\"text-align: right;\">\n",
       "      <th></th>\n",
       "      <th>TSLA</th>\n",
       "      <th>BAC</th>\n",
       "    </tr>\n",
       "    <tr>\n",
       "      <th>Date</th>\n",
       "      <th></th>\n",
       "      <th></th>\n",
       "    </tr>\n",
       "  </thead>\n",
       "  <tbody>\n",
       "    <tr>\n",
       "      <th>2013-12-31</th>\n",
       "      <td>NaN</td>\n",
       "      <td>NaN</td>\n",
       "    </tr>\n",
       "    <tr>\n",
       "      <th>2014-01-02</th>\n",
       "      <td>-0.002194</td>\n",
       "      <td>0.034040</td>\n",
       "    </tr>\n",
       "    <tr>\n",
       "      <th>2014-01-03</th>\n",
       "      <td>-0.003598</td>\n",
       "      <td>0.019254</td>\n",
       "    </tr>\n",
       "    <tr>\n",
       "      <th>2014-01-06</th>\n",
       "      <td>-0.017117</td>\n",
       "      <td>0.015235</td>\n",
       "    </tr>\n",
       "    <tr>\n",
       "      <th>2014-01-07</th>\n",
       "      <td>0.016054</td>\n",
       "      <td>-0.009604</td>\n",
       "    </tr>\n",
       "    <tr>\n",
       "      <th>...</th>\n",
       "      <td>...</td>\n",
       "      <td>...</td>\n",
       "    </tr>\n",
       "    <tr>\n",
       "      <th>2020-11-16</th>\n",
       "      <td>-0.001004</td>\n",
       "      <td>0.021482</td>\n",
       "    </tr>\n",
       "    <tr>\n",
       "      <th>2020-11-17</th>\n",
       "      <td>0.082139</td>\n",
       "      <td>-0.001088</td>\n",
       "    </tr>\n",
       "    <tr>\n",
       "      <th>2020-11-18</th>\n",
       "      <td>0.101968</td>\n",
       "      <td>-0.020690</td>\n",
       "    </tr>\n",
       "    <tr>\n",
       "      <th>2020-11-19</th>\n",
       "      <td>0.025953</td>\n",
       "      <td>0.000000</td>\n",
       "    </tr>\n",
       "    <tr>\n",
       "      <th>2020-11-20</th>\n",
       "      <td>-0.019348</td>\n",
       "      <td>-0.006301</td>\n",
       "    </tr>\n",
       "  </tbody>\n",
       "</table>\n",
       "<p>1737 rows × 2 columns</p>\n",
       "</div>"
      ],
      "text/plain": [
       "                TSLA       BAC\n",
       "Date                          \n",
       "2013-12-31       NaN       NaN\n",
       "2014-01-02 -0.002194  0.034040\n",
       "2014-01-03 -0.003598  0.019254\n",
       "2014-01-06 -0.017117  0.015235\n",
       "2014-01-07  0.016054 -0.009604\n",
       "...              ...       ...\n",
       "2020-11-16 -0.001004  0.021482\n",
       "2020-11-17  0.082139 -0.001088\n",
       "2020-11-18  0.101968 -0.020690\n",
       "2020-11-19  0.025953  0.000000\n",
       "2020-11-20 -0.019348 -0.006301\n",
       "\n",
       "[1737 rows x 2 columns]"
      ]
     },
     "execution_count": 149,
     "metadata": {},
     "output_type": "execute_result"
    }
   ],
   "source": [
    "returns"
   ]
  },
  {
   "cell_type": "code",
   "execution_count": 150,
   "id": "7580dc63-d104-44fd-9c66-afe4578e62e9",
   "metadata": {},
   "outputs": [
    {
     "data": {
      "text/plain": [
       "TSLA    0.002186\n",
       "BAC     0.000582\n",
       "dtype: float64"
      ]
     },
     "execution_count": 150,
     "metadata": {},
     "output_type": "execute_result"
    }
   ],
   "source": [
    "returns.mean() # daily returns of the two stocks."
   ]
  },
  {
   "cell_type": "code",
   "execution_count": 151,
   "id": "b71e7fda-005a-40bd-a988-52e320373b5f",
   "metadata": {},
   "outputs": [
    {
     "data": {
      "text/plain": [
       "TSLA    0.034063\n",
       "BAC     0.020238\n",
       "dtype: float64"
      ]
     },
     "execution_count": 151,
     "metadata": {},
     "output_type": "execute_result"
    }
   ],
   "source": [
    "returns.std() # dailty standard deviation of the two stocks."
   ]
  },
  {
   "cell_type": "code",
   "execution_count": 152,
   "id": "4eac5837-25bc-4b1d-afb5-9d039e29645d",
   "metadata": {},
   "outputs": [
    {
     "data": {
      "text/plain": [
       "TSLA    0.550826\n",
       "BAC     0.146610\n",
       "dtype: float64"
      ]
     },
     "execution_count": 152,
     "metadata": {},
     "output_type": "execute_result"
    }
   ],
   "source": [
    "returns.mean() * 252 # annual returns of the two stocks."
   ]
  },
  {
   "cell_type": "code",
   "execution_count": 153,
   "id": "0e50679a-3619-477b-80a7-a5417d1c18c9",
   "metadata": {},
   "outputs": [
    {
     "data": {
      "text/plain": [
       "TSLA    8.583791\n",
       "BAC     5.100023\n",
       "dtype: float64"
      ]
     },
     "execution_count": 153,
     "metadata": {},
     "output_type": "execute_result"
    }
   ],
   "source": [
    "returns.std() * 252 # annual standard deviations of the two stocks."
   ]
  },
  {
   "cell_type": "code",
   "execution_count": 154,
   "id": "9ce501ed-4341-4afb-9f61-9dadb3d49f71",
   "metadata": {},
   "outputs": [
    {
     "data": {
      "text/plain": [
       "TSLA    0.540728\n",
       "BAC     0.321271\n",
       "dtype: float64"
      ]
     },
     "execution_count": 154,
     "metadata": {},
     "output_type": "execute_result"
    }
   ],
   "source": [
    "returns.std() * np.sqrt(252) # annual standard deviations of the two stocks. This one seems more reasonable. \n",
    "# check out this link: https://www.fool.com/knowledge-center/how-to-calculate-annualized-volatility.aspx"
   ]
  },
  {
   "cell_type": "code",
   "execution_count": null,
   "id": "2a05a1bc-edfb-4e0e-9772-839ae8636767",
   "metadata": {},
   "outputs": [],
   "source": []
  }
 ],
 "metadata": {
  "kernelspec": {
   "display_name": "Python 3 (ipykernel)",
   "language": "python",
   "name": "python3"
  },
  "language_info": {
   "codemirror_mode": {
    "name": "ipython",
    "version": 3
   },
   "file_extension": ".py",
   "mimetype": "text/x-python",
   "name": "python",
   "nbconvert_exporter": "python",
   "pygments_lexer": "ipython3",
   "version": "3.9.7"
  }
 },
 "nbformat": 4,
 "nbformat_minor": 5
}
