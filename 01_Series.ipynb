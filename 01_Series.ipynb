{
 "cells": [
  {
   "cell_type": "code",
   "execution_count": 1,
   "id": "0f7da026",
   "metadata": {},
   "outputs": [],
   "source": [
    "import numpy as np\n",
    "import pandas as pd"
   ]
  },
  {
   "cell_type": "code",
   "execution_count": 2,
   "id": "3f989c50",
   "metadata": {},
   "outputs": [],
   "source": [
    "numbers = np.random.randn(100)"
   ]
  },
  {
   "cell_type": "code",
   "execution_count": 3,
   "id": "927d3be6",
   "metadata": {},
   "outputs": [
    {
     "data": {
      "text/plain": [
       "array([ 8.57774781e-01,  3.28223039e-01,  1.39666001e-02, -7.60757525e-01,\n",
       "       -2.21188394e-01, -3.21533576e-01,  1.55958140e+00, -2.46041428e+00,\n",
       "       -8.53331120e-02,  1.95564710e+00,  1.33498184e+00, -3.31689439e-01,\n",
       "       -1.96249410e+00, -2.76024784e-01, -4.49761725e-01, -9.27152183e-01,\n",
       "       -1.98713139e+00, -7.75464781e-01, -3.14050214e-01,  1.01425601e-03,\n",
       "        4.13617696e-01, -2.34562275e-02,  1.93063688e+00, -9.45189714e-01,\n",
       "        4.01330500e-01,  7.73809948e-01, -6.11087918e-01, -2.16923748e+00,\n",
       "        1.37036496e+00, -1.09258787e+00,  1.79174331e-01, -8.97754324e-01,\n",
       "       -1.91459723e-01, -5.62134771e-01, -6.39107507e-01, -1.06836121e+00,\n",
       "       -5.04974706e-02, -1.26257244e+00,  3.11288145e-01,  1.52507599e+00,\n",
       "       -2.71961973e-01,  4.94697203e-01, -3.39928747e-02,  3.65777806e-01,\n",
       "        1.02661150e+00,  1.05084606e+00, -7.16991624e-01,  1.78276788e+00,\n",
       "        1.21113258e+00, -2.32859593e+00,  3.38144384e-01, -9.85415006e-01,\n",
       "        1.86586122e-03,  4.50802178e-01,  1.54161858e-01,  9.27769577e-01,\n",
       "        6.52596643e-01, -6.56417694e-02,  5.56698160e-01, -1.75188217e+00,\n",
       "       -2.16359716e-01, -4.09753187e-01, -1.05372424e+00,  6.91012439e-01,\n",
       "       -2.08720880e-01,  2.84886485e+00, -9.62198928e-01,  1.24909501e-01,\n",
       "       -2.07958698e+00,  5.24984561e-04,  1.55746425e+00,  3.49036614e-01,\n",
       "       -1.32722088e+00, -7.47127052e-01,  1.79775878e+00, -1.33654247e+00,\n",
       "       -8.21838733e-01, -1.22861333e+00,  1.03449947e+00, -1.32727266e+00,\n",
       "        6.24074570e-01, -9.03403672e-01,  1.05589691e+00,  6.89446969e-01,\n",
       "       -8.69199166e-01, -2.12684950e-01,  3.08332539e-01,  1.55151375e-01,\n",
       "       -5.81460622e-01,  4.90139435e-01, -2.28638755e-01, -2.97849904e-01,\n",
       "       -1.47546764e+00, -3.59549196e-01, -6.04534743e-01, -7.63014103e-01,\n",
       "        5.77867563e-02, -3.73453007e-02, -1.55484365e+00,  5.66786172e-01])"
      ]
     },
     "execution_count": 3,
     "metadata": {},
     "output_type": "execute_result"
    }
   ],
   "source": [
    "numbers"
   ]
  },
  {
   "cell_type": "code",
   "execution_count": 4,
   "id": "144c5b2c",
   "metadata": {},
   "outputs": [
    {
     "data": {
      "text/plain": [
       "numpy.ndarray"
      ]
     },
     "execution_count": 4,
     "metadata": {},
     "output_type": "execute_result"
    }
   ],
   "source": [
    "type(numbers)"
   ]
  },
  {
   "cell_type": "code",
   "execution_count": 15,
   "id": "f3134187",
   "metadata": {},
   "outputs": [],
   "source": [
    "s1 = pd.Series(numbers) # Convert the numbers into a series or sort of 1D array"
   ]
  },
  {
   "cell_type": "code",
   "execution_count": 16,
   "id": "13c5dda8",
   "metadata": {},
   "outputs": [
    {
     "data": {
      "text/plain": [
       "0     1.097229\n",
       "1     0.683986\n",
       "2    -0.945840\n",
       "3     0.568596\n",
       "4    -0.179873\n",
       "        ...   \n",
       "95   -0.265543\n",
       "96    1.085896\n",
       "97    0.505158\n",
       "98   -2.732109\n",
       "99    0.020775\n",
       "Length: 100, dtype: float64"
      ]
     },
     "execution_count": 16,
     "metadata": {},
     "output_type": "execute_result"
    }
   ],
   "source": [
    "s1"
   ]
  },
  {
   "cell_type": "code",
   "execution_count": 17,
   "id": "d168f705",
   "metadata": {},
   "outputs": [
    {
     "data": {
      "text/plain": [
       "0.683986187328076"
      ]
     },
     "execution_count": 17,
     "metadata": {},
     "output_type": "execute_result"
    }
   ],
   "source": [
    "s1[1]"
   ]
  },
  {
   "cell_type": "code",
   "execution_count": 18,
   "id": "d8387a0f",
   "metadata": {},
   "outputs": [
    {
     "ename": "IndexError",
     "evalue": "invalid index to scalar variable.",
     "output_type": "error",
     "traceback": [
      "\u001b[0;31m---------------------------------------------------------------------------\u001b[0m",
      "\u001b[0;31mIndexError\u001b[0m                                Traceback (most recent call last)",
      "\u001b[0;32m/var/folders/85/pz631h490csdlf61sc2z395c0000gp/T/ipykernel_926/3083282855.py\u001b[0m in \u001b[0;36m<module>\u001b[0;34m\u001b[0m\n\u001b[0;32m----> 1\u001b[0;31m \u001b[0ms1\u001b[0m\u001b[0;34m[\u001b[0m\u001b[0;36m2\u001b[0m\u001b[0;34m]\u001b[0m\u001b[0;34m[\u001b[0m\u001b[0;36m4\u001b[0m\u001b[0;34m]\u001b[0m \u001b[0;31m#not work, because s1 is a 1D array\u001b[0m\u001b[0;34m\u001b[0m\u001b[0;34m\u001b[0m\u001b[0m\n\u001b[0m",
      "\u001b[0;31mIndexError\u001b[0m: invalid index to scalar variable."
     ]
    }
   ],
   "source": [
    "s1[2][4] #not work, because s1 is a 1D array"
   ]
  },
  {
   "cell_type": "code",
   "execution_count": 50,
   "id": "2a93bb91",
   "metadata": {},
   "outputs": [
    {
     "data": {
      "text/plain": [
       "2   -1.388275\n",
       "4   -0.399924\n",
       "dtype: float64"
      ]
     },
     "execution_count": 50,
     "metadata": {},
     "output_type": "execute_result"
    }
   ],
   "source": [
    "s1[[2, 4]] #output the 2nd and 4th values from series s1\n"
   ]
  },
  {
   "cell_type": "code",
   "execution_count": 21,
   "id": "4e9ce4fb",
   "metadata": {},
   "outputs": [
    {
     "data": {
      "text/plain": [
       "1    0.683986\n",
       "2   -0.945840\n",
       "3    0.568596\n",
       "4   -0.179873\n",
       "dtype: float64"
      ]
     },
     "execution_count": 21,
     "metadata": {},
     "output_type": "execute_result"
    }
   ],
   "source": [
    "s1[1:5]"
   ]
  },
  {
   "cell_type": "code",
   "execution_count": 22,
   "id": "ef23c5d3",
   "metadata": {},
   "outputs": [
    {
     "data": {
      "text/plain": [
       "0    1.097229\n",
       "1    0.683986\n",
       "2   -0.945840\n",
       "3    0.568596\n",
       "4   -0.179873\n",
       "dtype: float64"
      ]
     },
     "execution_count": 22,
     "metadata": {},
     "output_type": "execute_result"
    }
   ],
   "source": [
    "s1.head()"
   ]
  },
  {
   "cell_type": "code",
   "execution_count": 23,
   "id": "d989f08e",
   "metadata": {},
   "outputs": [
    {
     "data": {
      "text/plain": [
       "95   -0.265543\n",
       "96    1.085896\n",
       "97    0.505158\n",
       "98   -2.732109\n",
       "99    0.020775\n",
       "dtype: float64"
      ]
     },
     "execution_count": 23,
     "metadata": {},
     "output_type": "execute_result"
    }
   ],
   "source": [
    "s1.tail()"
   ]
  },
  {
   "cell_type": "code",
   "execution_count": 25,
   "id": "8b2ed859",
   "metadata": {},
   "outputs": [
    {
     "data": {
      "text/plain": [
       "array([ 1.09722942,  0.68398619, -0.94584012,  0.56859561, -0.17987287,\n",
       "        1.0964588 , -1.24366655, -0.30336699,  0.70289888,  0.75438186,\n",
       "        0.09785078,  2.05463957,  0.80403488,  0.23013186,  1.98048896,\n",
       "        0.45001485, -0.80715217,  2.31955848,  1.420023  , -0.4212832 ,\n",
       "       -1.09782241,  0.50293428,  0.09959829, -1.09336204, -0.04609081,\n",
       "       -0.17597241, -0.76019534,  1.85262607, -0.62711119,  1.20788209,\n",
       "       -3.03408279,  1.15502027,  0.82548621,  0.94901944, -0.29229688,\n",
       "       -0.58820706,  1.57235379, -1.05994232, -1.39304484,  1.81481255,\n",
       "        0.15528838, -0.22548701, -0.94734928, -0.88162789, -0.22926901,\n",
       "       -1.18125004, -1.02997277,  1.32205898, -0.37837932, -0.08406708,\n",
       "        0.59085545, -0.35693998, -0.12602797,  1.30036251,  2.20995135,\n",
       "        1.6729014 , -1.22559057,  0.42644275,  0.24134511, -0.05395292,\n",
       "        0.31246425,  0.38699831,  1.22556778, -1.85115186,  1.42580531,\n",
       "       -0.86567897, -0.08087454,  0.06211855, -2.26378937,  0.20810678,\n",
       "       -1.19649822, -1.65265749, -1.40104423,  0.97436953,  0.02087954,\n",
       "       -0.27653256,  1.9208693 , -2.07542787,  1.31630424, -0.31673617,\n",
       "       -0.16974996,  0.68866527,  0.90531673,  0.93919667, -1.37575029,\n",
       "        1.1705519 , -0.29919801,  0.46290328, -0.46384462,  0.70658084,\n",
       "        0.09903097,  0.87286495,  1.3016764 , -1.40910493, -1.89358185,\n",
       "       -0.26554341,  1.08589568,  0.50515758, -2.73210885,  0.02077483])"
      ]
     },
     "execution_count": 25,
     "metadata": {},
     "output_type": "execute_result"
    }
   ],
   "source": [
    "s1.values"
   ]
  },
  {
   "cell_type": "code",
   "execution_count": 26,
   "id": "e302b427",
   "metadata": {},
   "outputs": [],
   "source": [
    "s2 = pd.Series([1, 2, 3, 4], index = ['a', 'b', 'c', 'd'])"
   ]
  },
  {
   "cell_type": "code",
   "execution_count": 27,
   "id": "02ebbab3",
   "metadata": {},
   "outputs": [
    {
     "data": {
      "text/plain": [
       "a    1\n",
       "b    2\n",
       "c    3\n",
       "d    4\n",
       "dtype: int64"
      ]
     },
     "execution_count": 27,
     "metadata": {},
     "output_type": "execute_result"
    }
   ],
   "source": [
    "s2"
   ]
  },
  {
   "cell_type": "code",
   "execution_count": 28,
   "id": "3254a208",
   "metadata": {},
   "outputs": [],
   "source": [
    "s3 = pd.Series([1, 2, 3, np.nan]) #nan = not a number / missing value"
   ]
  },
  {
   "cell_type": "code",
   "execution_count": 29,
   "id": "d222f386",
   "metadata": {},
   "outputs": [
    {
     "data": {
      "text/plain": [
       "0    1.0\n",
       "1    2.0\n",
       "2    3.0\n",
       "3    NaN\n",
       "dtype: float64"
      ]
     },
     "execution_count": 29,
     "metadata": {},
     "output_type": "execute_result"
    }
   ],
   "source": [
    "s3"
   ]
  },
  {
   "cell_type": "code",
   "execution_count": 30,
   "id": "839e5bf7",
   "metadata": {},
   "outputs": [
    {
     "data": {
      "text/plain": [
       "100"
      ]
     },
     "execution_count": 30,
     "metadata": {},
     "output_type": "execute_result"
    }
   ],
   "source": [
    "len(s1) #count the missing values as well"
   ]
  },
  {
   "cell_type": "code",
   "execution_count": 31,
   "id": "d53f6674",
   "metadata": {},
   "outputs": [
    {
     "data": {
      "text/plain": [
       "4"
      ]
     },
     "execution_count": 31,
     "metadata": {},
     "output_type": "execute_result"
    }
   ],
   "source": [
    "len(s3)"
   ]
  },
  {
   "cell_type": "code",
   "execution_count": 32,
   "id": "7dbb0a3c",
   "metadata": {},
   "outputs": [
    {
     "data": {
      "text/plain": [
       "3"
      ]
     },
     "execution_count": 32,
     "metadata": {},
     "output_type": "execute_result"
    }
   ],
   "source": [
    "s3.count() # only the values"
   ]
  },
  {
   "cell_type": "code",
   "execution_count": 33,
   "id": "3094bb4b",
   "metadata": {},
   "outputs": [
    {
     "data": {
      "text/plain": [
       " 1.097229    1\n",
       "-1.851152    1\n",
       " 0.974370    1\n",
       "-1.401044    1\n",
       "-1.652657    1\n",
       "            ..\n",
       "-3.034083    1\n",
       " 1.207882    1\n",
       "-0.627111    1\n",
       " 1.852626    1\n",
       " 0.020775    1\n",
       "Length: 100, dtype: int64"
      ]
     },
     "execution_count": 33,
     "metadata": {},
     "output_type": "execute_result"
    }
   ],
   "source": [
    "s1.value_counts()  #frequency distribution"
   ]
  },
  {
   "cell_type": "code",
   "execution_count": 34,
   "id": "0d198a3c",
   "metadata": {},
   "outputs": [
    {
     "data": {
      "text/plain": [
       " 1.097229    0.01\n",
       "-1.851152    0.01\n",
       " 0.974370    0.01\n",
       "-1.401044    0.01\n",
       "-1.652657    0.01\n",
       "             ... \n",
       "-3.034083    0.01\n",
       " 1.207882    0.01\n",
       "-0.627111    0.01\n",
       " 1.852626    0.01\n",
       " 0.020775    0.01\n",
       "Length: 100, dtype: float64"
      ]
     },
     "execution_count": 34,
     "metadata": {},
     "output_type": "execute_result"
    }
   ],
   "source": [
    "s1.value_counts(normalize = True) # frequency in %age "
   ]
  },
  {
   "cell_type": "code",
   "execution_count": null,
   "id": "a17c7d46",
   "metadata": {},
   "outputs": [],
   "source": []
  }
 ],
 "metadata": {
  "kernelspec": {
   "display_name": "Python 3 (ipykernel)",
   "language": "python",
   "name": "python3"
  },
  "language_info": {
   "codemirror_mode": {
    "name": "ipython",
    "version": 3
   },
   "file_extension": ".py",
   "mimetype": "text/x-python",
   "name": "python",
   "nbconvert_exporter": "python",
   "pygments_lexer": "ipython3",
   "version": "3.10.4"
  }
 },
 "nbformat": 4,
 "nbformat_minor": 5
}
